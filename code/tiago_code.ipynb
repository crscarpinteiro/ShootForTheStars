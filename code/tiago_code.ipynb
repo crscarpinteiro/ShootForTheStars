{
 "cells": [
  {
   "cell_type": "code",
   "execution_count": 1,
   "metadata": {
    "colab": {
     "base_uri": "https://localhost:8080/",
     "height": 221
    },
    "colab_type": "code",
    "id": "ap--KEvjgn-B",
    "outputId": "5d5efba3-1051-4212-a330-de3d7fae786b"
   },
   "outputs": [
    {
     "name": "stdout",
     "output_type": "stream",
     "text": [
      "Requirement already satisfied: cesium in /usr/local/anaconda3/envs/machine_learning/lib/python3.6/site-packages (0.9.7)\n",
      "Requirement already satisfied: scipy>=0.16.0 in /usr/local/anaconda3/envs/machine_learning/lib/python3.6/site-packages (from cesium) (1.1.0)\n",
      "Requirement already satisfied: gatspy>=0.3.0 in /usr/local/anaconda3/envs/machine_learning/lib/python3.6/site-packages (from cesium) (0.3)\n",
      "Requirement already satisfied: pandas>=0.17.0 in /usr/local/anaconda3/envs/machine_learning/lib/python3.6/site-packages (from cesium) (0.23.4)\n",
      "Requirement already satisfied: scikit-learn>=0.18.1 in /usr/local/anaconda3/envs/machine_learning/lib/python3.6/site-packages (from cesium) (0.20.1)\n",
      "Requirement already satisfied: toolz in /usr/local/anaconda3/envs/machine_learning/lib/python3.6/site-packages (from cesium) (0.9.0)\n",
      "Requirement already satisfied: cloudpickle in /usr/local/anaconda3/envs/machine_learning/lib/python3.6/site-packages (from cesium) (0.6.1)\n",
      "Requirement already satisfied: dask>=0.15.0 in /usr/local/anaconda3/envs/machine_learning/lib/python3.6/site-packages (from cesium) (1.0.0)\n",
      "Requirement already satisfied: numpy>=1.9.0 in /usr/local/anaconda3/envs/machine_learning/lib/python3.6/site-packages (from pandas>=0.17.0->cesium) (1.15.4)\n",
      "Requirement already satisfied: pytz>=2011k in /usr/local/anaconda3/envs/machine_learning/lib/python3.6/site-packages (from pandas>=0.17.0->cesium) (2018.7)\n",
      "Requirement already satisfied: python-dateutil>=2.5.0 in /usr/local/anaconda3/envs/machine_learning/lib/python3.6/site-packages (from pandas>=0.17.0->cesium) (2.7.5)\n",
      "Requirement already satisfied: six>=1.5 in /usr/local/anaconda3/envs/machine_learning/lib/python3.6/site-packages (from python-dateutil>=2.5.0->pandas>=0.17.0->cesium) (1.11.0)\n"
     ]
    }
   ],
   "source": [
    "!pip install cesium"
   ]
  },
  {
   "cell_type": "code",
   "execution_count": 2,
   "metadata": {
    "colab": {
     "base_uri": "https://localhost:8080/",
     "height": 275
    },
    "colab_type": "code",
    "id": "TIvxVKndg4Pp",
    "outputId": "3bd04e4c-ca80-4c3f-ee66-0865fe33ccca"
   },
   "outputs": [
    {
     "name": "stdout",
     "output_type": "stream",
     "text": [
      "Requirement already satisfied: sncosmo in /usr/local/anaconda3/envs/machine_learning/lib/python3.6/site-packages (1.6.0)\r\n",
      "Requirement already satisfied: numpy>=1.5.0 in /usr/local/anaconda3/envs/machine_learning/lib/python3.6/site-packages (from sncosmo) (1.15.4)\r\n",
      "Requirement already satisfied: scipy>=0.9.0 in /usr/local/anaconda3/envs/machine_learning/lib/python3.6/site-packages (from sncosmo) (1.1.0)\r\n",
      "Requirement already satisfied: extinction>=0.2.2 in /usr/local/anaconda3/envs/machine_learning/lib/python3.6/site-packages (from sncosmo) (0.4.0)\r\n",
      "Requirement already satisfied: astropy>=0.4.0 in /usr/local/anaconda3/envs/machine_learning/lib/python3.6/site-packages (from sncosmo) (3.0.4)\r\n"
     ]
    }
   ],
   "source": [
    "!pip install sncosmo\n",
    "#!conda install -c astropy sncosmo"
   ]
  },
  {
   "cell_type": "code",
   "execution_count": 3,
   "metadata": {
    "colab": {
     "base_uri": "https://localhost:8080/",
     "height": 51
    },
    "colab_type": "code",
    "id": "nvd0BL0Imxkw",
    "outputId": "24cabb54-bbb4-43e9-a734-2712b71944bc"
   },
   "outputs": [
    {
     "name": "stdout",
     "output_type": "stream",
     "text": [
      "Requirement already satisfied: schwimmbad in /usr/local/anaconda3/envs/machine_learning/lib/python3.6/site-packages (0.3.0)\r\n",
      "Requirement already satisfied: six in /usr/local/anaconda3/envs/machine_learning/lib/python3.6/site-packages (from schwimmbad) (1.11.0)\r\n"
     ]
    }
   ],
   "source": [
    "!pip install schwimmbad"
   ]
  },
  {
   "cell_type": "code",
   "execution_count": 7,
   "metadata": {
    "colab": {},
    "colab_type": "code",
    "id": "EBC8xaaigyOs"
   },
   "outputs": [],
   "source": [
    "import os\n",
    "import numpy as np\n",
    "import scipy.stats as spstat\n",
    "import matplotlib.pyplot as plt\n",
    "from collections import OrderedDict\n",
    "import sncosmo\n",
    "from astropy.table import Table\n",
    "import pywt\n",
    "import pywt.data\n",
    "import seaborn as sns\n",
    "import pandas as pd \n",
    "import matplotlib.pyplot as plot\n",
    "import sys\n",
    "import os\n",
    "from collections import Counter, OrderedDict\n",
    "import numpy as np\n",
    "from operator import itemgetter\n",
    "import matplotlib.pyplot as plt\n",
    "from astropy.table import Table\n",
    "import schwimmbad\n",
    "from cesium.time_series import TimeSeries\n",
    "import cesium.featurize as featurize\n",
    "from tqdm import tnrange, tqdm_notebook\n",
    "import sklearn \n",
    "from sklearn.model_selection import StratifiedShuffleSplit\n",
    "from sklearn.decomposition import PCA\n",
    "from sklearn.ensemble import RandomForestClassifier\n",
    "from sklearn.metrics import confusion_matrix\n",
    "import seaborn as sns"
   ]
  },
  {
   "cell_type": "code",
   "execution_count": 6,
   "metadata": {},
   "outputs": [
    {
     "name": "stdout",
     "output_type": "stream",
     "text": [
      "Requirement already satisfied: seaborn in /usr/local/anaconda3/envs/machine_learning/lib/python3.6/site-packages (0.9.0)\n",
      "Requirement already satisfied: scipy>=0.14.0 in /usr/local/anaconda3/envs/machine_learning/lib/python3.6/site-packages (from seaborn) (1.1.0)\n",
      "Requirement already satisfied: numpy>=1.9.3 in /usr/local/anaconda3/envs/machine_learning/lib/python3.6/site-packages (from seaborn) (1.15.4)\n",
      "Requirement already satisfied: matplotlib>=1.4.3 in /usr/local/anaconda3/envs/machine_learning/lib/python3.6/site-packages (from seaborn) (3.0.1)\n",
      "Requirement already satisfied: pandas>=0.15.2 in /usr/local/anaconda3/envs/machine_learning/lib/python3.6/site-packages (from seaborn) (0.23.4)\n",
      "Requirement already satisfied: cycler>=0.10 in /usr/local/anaconda3/envs/machine_learning/lib/python3.6/site-packages (from matplotlib>=1.4.3->seaborn) (0.10.0)\n",
      "Requirement already satisfied: kiwisolver>=1.0.1 in /usr/local/anaconda3/envs/machine_learning/lib/python3.6/site-packages (from matplotlib>=1.4.3->seaborn) (1.0.1)\n",
      "Requirement already satisfied: pyparsing!=2.0.4,!=2.1.2,!=2.1.6,>=2.0.1 in /usr/local/anaconda3/envs/machine_learning/lib/python3.6/site-packages (from matplotlib>=1.4.3->seaborn) (2.3.0)\n",
      "Requirement already satisfied: python-dateutil>=2.1 in /usr/local/anaconda3/envs/machine_learning/lib/python3.6/site-packages (from matplotlib>=1.4.3->seaborn) (2.7.5)\n",
      "Requirement already satisfied: pytz>=2011k in /usr/local/anaconda3/envs/machine_learning/lib/python3.6/site-packages (from pandas>=0.15.2->seaborn) (2018.7)\n",
      "Requirement already satisfied: six in /usr/local/anaconda3/envs/machine_learning/lib/python3.6/site-packages (from cycler>=0.10->matplotlib>=1.4.3->seaborn) (1.11.0)\n",
      "Requirement already satisfied: setuptools in /usr/local/anaconda3/envs/machine_learning/lib/python3.6/site-packages (from kiwisolver>=1.0.1->matplotlib>=1.4.3->seaborn) (40.6.2)\n"
     ]
    }
   ],
   "source": [
    "!pip install seaborn"
   ]
  },
  {
   "cell_type": "code",
   "execution_count": 8,
   "metadata": {
    "colab": {
     "base_uri": "https://localhost:8080/",
     "height": 819
    },
    "colab_type": "code",
    "id": "gEclVlcPnYQl",
    "outputId": "24a87966-59db-4a23-85c2-724d58b890b1"
   },
   "outputs": [
    {
     "name": "stdout",
     "output_type": "stream",
     "text": [
      "Requirement already satisfied: ipywidgets in /usr/local/anaconda3/envs/machine_learning/lib/python3.6/site-packages (7.4.2)\n",
      "Requirement already satisfied: ipython>=4.0.0; python_version >= \"3.3\" in /usr/local/anaconda3/envs/machine_learning/lib/python3.6/site-packages (from ipywidgets) (7.2.0)\n",
      "Requirement already satisfied: traitlets>=4.3.1 in /usr/local/anaconda3/envs/machine_learning/lib/python3.6/site-packages (from ipywidgets) (4.3.2)\n",
      "Requirement already satisfied: widgetsnbextension~=3.4.0 in /usr/local/anaconda3/envs/machine_learning/lib/python3.6/site-packages (from ipywidgets) (3.4.2)\n",
      "Requirement already satisfied: ipykernel>=4.5.1 in /usr/local/anaconda3/envs/machine_learning/lib/python3.6/site-packages (from ipywidgets) (5.1.0)\n",
      "Requirement already satisfied: nbformat>=4.2.0 in /usr/local/anaconda3/envs/machine_learning/lib/python3.6/site-packages (from ipywidgets) (4.4.0)\n",
      "Requirement already satisfied: backcall in /usr/local/anaconda3/envs/machine_learning/lib/python3.6/site-packages (from ipython>=4.0.0; python_version >= \"3.3\"->ipywidgets) (0.1.0)\n",
      "Requirement already satisfied: pickleshare in /usr/local/anaconda3/envs/machine_learning/lib/python3.6/site-packages (from ipython>=4.0.0; python_version >= \"3.3\"->ipywidgets) (0.7.5)\n",
      "Requirement already satisfied: pexpect; sys_platform != \"win32\" in /usr/local/anaconda3/envs/machine_learning/lib/python3.6/site-packages (from ipython>=4.0.0; python_version >= \"3.3\"->ipywidgets) (4.6.0)\n",
      "Requirement already satisfied: jedi>=0.10 in /usr/local/anaconda3/envs/machine_learning/lib/python3.6/site-packages (from ipython>=4.0.0; python_version >= \"3.3\"->ipywidgets) (0.13.1)\n",
      "Requirement already satisfied: setuptools>=18.5 in /usr/local/anaconda3/envs/machine_learning/lib/python3.6/site-packages (from ipython>=4.0.0; python_version >= \"3.3\"->ipywidgets) (40.6.2)\n",
      "Requirement already satisfied: pygments in /usr/local/anaconda3/envs/machine_learning/lib/python3.6/site-packages (from ipython>=4.0.0; python_version >= \"3.3\"->ipywidgets) (2.2.0)\n",
      "Requirement already satisfied: appnope; sys_platform == \"darwin\" in /usr/local/anaconda3/envs/machine_learning/lib/python3.6/site-packages (from ipython>=4.0.0; python_version >= \"3.3\"->ipywidgets) (0.1.0)\n",
      "Requirement already satisfied: decorator in /usr/local/anaconda3/envs/machine_learning/lib/python3.6/site-packages (from ipython>=4.0.0; python_version >= \"3.3\"->ipywidgets) (4.3.0)\n",
      "Requirement already satisfied: prompt-toolkit<2.1.0,>=2.0.0 in /usr/local/anaconda3/envs/machine_learning/lib/python3.6/site-packages (from ipython>=4.0.0; python_version >= \"3.3\"->ipywidgets) (2.0.7)\n",
      "Requirement already satisfied: ipython_genutils in /usr/local/anaconda3/envs/machine_learning/lib/python3.6/site-packages (from traitlets>=4.3.1->ipywidgets) (0.2.0)\n",
      "Requirement already satisfied: six in /usr/local/anaconda3/envs/machine_learning/lib/python3.6/site-packages (from traitlets>=4.3.1->ipywidgets) (1.11.0)\n",
      "Requirement already satisfied: notebook>=4.4.1 in /usr/local/anaconda3/envs/machine_learning/lib/python3.6/site-packages (from widgetsnbextension~=3.4.0->ipywidgets) (5.7.2)\n",
      "Requirement already satisfied: tornado>=4.2 in /usr/local/anaconda3/envs/machine_learning/lib/python3.6/site-packages (from ipykernel>=4.5.1->ipywidgets) (5.1.1)\n",
      "Requirement already satisfied: jupyter-client in /usr/local/anaconda3/envs/machine_learning/lib/python3.6/site-packages (from ipykernel>=4.5.1->ipywidgets) (5.2.3)\n",
      "Requirement already satisfied: jsonschema!=2.5.0,>=2.4 in /usr/local/anaconda3/envs/machine_learning/lib/python3.6/site-packages (from nbformat>=4.2.0->ipywidgets) (2.6.0)\n",
      "Requirement already satisfied: jupyter_core in /usr/local/anaconda3/envs/machine_learning/lib/python3.6/site-packages (from nbformat>=4.2.0->ipywidgets) (4.4.0)\n",
      "Requirement already satisfied: ptyprocess>=0.5 in /usr/local/anaconda3/envs/machine_learning/lib/python3.6/site-packages (from pexpect; sys_platform != \"win32\"->ipython>=4.0.0; python_version >= \"3.3\"->ipywidgets) (0.6.0)\n",
      "Requirement already satisfied: parso>=0.3.0 in /usr/local/anaconda3/envs/machine_learning/lib/python3.6/site-packages (from jedi>=0.10->ipython>=4.0.0; python_version >= \"3.3\"->ipywidgets) (0.3.1)\n",
      "Requirement already satisfied: wcwidth in /usr/local/anaconda3/envs/machine_learning/lib/python3.6/site-packages (from prompt-toolkit<2.1.0,>=2.0.0->ipython>=4.0.0; python_version >= \"3.3\"->ipywidgets) (0.1.7)\n",
      "Requirement already satisfied: jinja2 in /usr/local/anaconda3/envs/machine_learning/lib/python3.6/site-packages (from notebook>=4.4.1->widgetsnbextension~=3.4.0->ipywidgets) (2.10)\n",
      "Requirement already satisfied: pyzmq>=17 in /usr/local/anaconda3/envs/machine_learning/lib/python3.6/site-packages (from notebook>=4.4.1->widgetsnbextension~=3.4.0->ipywidgets) (17.1.2)\n",
      "Requirement already satisfied: prometheus-client in /usr/local/anaconda3/envs/machine_learning/lib/python3.6/site-packages (from notebook>=4.4.1->widgetsnbextension~=3.4.0->ipywidgets) (0.4.2)\n",
      "Requirement already satisfied: terminado>=0.8.1 in /usr/local/anaconda3/envs/machine_learning/lib/python3.6/site-packages (from notebook>=4.4.1->widgetsnbextension~=3.4.0->ipywidgets) (0.8.1)\n",
      "Requirement already satisfied: Send2Trash in /usr/local/anaconda3/envs/machine_learning/lib/python3.6/site-packages (from notebook>=4.4.1->widgetsnbextension~=3.4.0->ipywidgets) (1.5.0)\n",
      "Requirement already satisfied: nbconvert in /usr/local/anaconda3/envs/machine_learning/lib/python3.6/site-packages (from notebook>=4.4.1->widgetsnbextension~=3.4.0->ipywidgets) (5.3.1)\n",
      "Requirement already satisfied: python-dateutil>=2.1 in /usr/local/anaconda3/envs/machine_learning/lib/python3.6/site-packages (from jupyter-client->ipykernel>=4.5.1->ipywidgets) (2.7.5)\n",
      "Requirement already satisfied: MarkupSafe>=0.23 in /usr/local/anaconda3/envs/machine_learning/lib/python3.6/site-packages (from jinja2->notebook>=4.4.1->widgetsnbextension~=3.4.0->ipywidgets) (1.1.0)\n",
      "Requirement already satisfied: mistune>=0.7.4 in /usr/local/anaconda3/envs/machine_learning/lib/python3.6/site-packages (from nbconvert->notebook>=4.4.1->widgetsnbextension~=3.4.0->ipywidgets) (0.8.4)\n",
      "Requirement already satisfied: pandocfilters>=1.4.1 in /usr/local/anaconda3/envs/machine_learning/lib/python3.6/site-packages (from nbconvert->notebook>=4.4.1->widgetsnbextension~=3.4.0->ipywidgets) (1.4.2)\n",
      "Requirement already satisfied: bleach in /usr/local/anaconda3/envs/machine_learning/lib/python3.6/site-packages (from nbconvert->notebook>=4.4.1->widgetsnbextension~=3.4.0->ipywidgets) (3.0.2)\n",
      "Requirement already satisfied: testpath in /usr/local/anaconda3/envs/machine_learning/lib/python3.6/site-packages (from nbconvert->notebook>=4.4.1->widgetsnbextension~=3.4.0->ipywidgets) (0.4.2)\n",
      "Requirement already satisfied: entrypoints>=0.2.2 in /usr/local/anaconda3/envs/machine_learning/lib/python3.6/site-packages (from nbconvert->notebook>=4.4.1->widgetsnbextension~=3.4.0->ipywidgets) (0.2.3)\n",
      "Requirement already satisfied: webencodings in /usr/local/anaconda3/envs/machine_learning/lib/python3.6/site-packages (from bleach->nbconvert->notebook>=4.4.1->widgetsnbextension~=3.4.0->ipywidgets) (0.5.1)\n",
      "Enabling notebook extension jupyter-js-widgets/extension...\n",
      "      - Validating: \u001b[32mOK\u001b[0m\n"
     ]
    }
   ],
   "source": [
    "!pip install ipywidgets\n",
    "!jupyter nbextension enable --py widgetsnbextension"
   ]
  },
  {
   "cell_type": "code",
   "execution_count": 5,
   "metadata": {
    "colab": {
     "base_uri": "https://localhost:8080/",
     "height": 34
    },
    "colab_type": "code",
    "id": "m1zy1JBpk8nu",
    "outputId": "d21a5aba-83e8-45e6-feb2-7d91adf1293d"
   },
   "outputs": [],
   "source": [
    "#In case you use Google Colab\n",
    "#from google.colab import drive\n",
    "#drive.mount('/content/drive')"
   ]
  },
  {
   "cell_type": "code",
   "execution_count": 6,
   "metadata": {
    "colab": {},
    "colab_type": "code",
    "id": "ds37dkmxhNQs"
   },
   "outputs": [
    {
     "ename": "NameError",
     "evalue": "name 'Table' is not defined",
     "output_type": "error",
     "traceback": [
      "\u001b[1;31m---------------------------------------------------------------------------\u001b[0m",
      "\u001b[1;31mNameError\u001b[0m                                 Traceback (most recent call last)",
      "\u001b[1;32m<ipython-input-6-e15889244411>\u001b[0m in \u001b[0;36m<module>\u001b[1;34m()\u001b[0m\n\u001b[0;32m      1\u001b[0m \u001b[1;31m#Ler uma tabela astropy\u001b[0m\u001b[1;33m\u001b[0m\u001b[1;33m\u001b[0m\u001b[0m\n\u001b[0;32m      2\u001b[0m \u001b[0mfilename\u001b[0m\u001b[1;33m=\u001b[0m\u001b[1;34m'training_set.csv'\u001b[0m\u001b[1;33m\u001b[0m\u001b[0m\n\u001b[1;32m----> 3\u001b[1;33m \u001b[0mtraining_data\u001b[0m \u001b[1;33m=\u001b[0m \u001b[0mTable\u001b[0m\u001b[1;33m.\u001b[0m\u001b[0mread\u001b[0m\u001b[1;33m(\u001b[0m\u001b[0mfilename\u001b[0m\u001b[1;33m,\u001b[0m \u001b[0mformat\u001b[0m\u001b[1;33m=\u001b[0m\u001b[1;34m'ascii.csv'\u001b[0m\u001b[1;33m)\u001b[0m\u001b[1;33m\u001b[0m\u001b[0m\n\u001b[0m",
      "\u001b[1;31mNameError\u001b[0m: name 'Table' is not defined"
     ]
    }
   ],
   "source": [
    "#Ler uma tabela astropy\n",
    "filename='training_set.csv'\n",
    "training_data = Table.read(filename, format='ascii.csv')"
   ]
  },
  {
   "cell_type": "code",
   "execution_count": 8,
   "metadata": {
    "colab": {
     "base_uri": "https://localhost:8080/",
     "height": 612
    },
    "colab_type": "code",
    "id": "2L93lW1uhj4e",
    "outputId": "341b1734-b740-4763-c346-9e6e050cfea5"
   },
   "outputs": [
    {
     "name": "stdout",
     "output_type": "stream",
     "text": [
      "<Table length=1421705>\n",
      "   name    dtype \n",
      "--------- -------\n",
      "object_id   int64\n",
      "      mjd float64\n",
      " passband   int64\n",
      "     flux float64\n",
      " flux_err float64\n",
      " detected   int64\n",
      "\n",
      "object_id    mjd     passband     flux      flux_err detected\n",
      "--------- ---------- -------- ------------ --------- --------\n",
      "      615 59750.4229        2  -544.810303  3.622952        1\n",
      "      615 59750.4306        1  -816.434326   5.55337        1\n",
      "      615 59750.4383        3  -471.385529  3.801213        1\n",
      "      615  59750.445        4  -388.984985 11.395031        1\n",
      "      615  59752.407        2  -681.858887  4.041204        1\n",
      "      615 59752.4147        1 -1061.457031  6.472994        1\n",
      "      615 59752.4224        3   -524.95459  3.552751        1\n",
      "      615 59752.4334        4  -393.480225  3.599346        1\n",
      "      615 59752.4435        5   -355.88678 10.421921        1\n",
      "      615 59767.2968        2   -548.01355  3.462291        1\n",
      "      ...        ...      ...          ...       ...      ...\n",
      "130779836  60537.147        3    -41.85004 26.782366        0\n",
      "130779836 60542.0489        4   -60.500492 14.743795        0\n",
      "130779836 60543.0247        4   -48.527161  24.00408        0\n",
      "130779836 60545.9844        5    32.006413 77.931732        0\n",
      "130779836 60546.9804        5    68.152985 56.351048        0\n",
      "130779836 60548.9789        4   -60.066154 34.353317        0\n",
      "130779836 60555.9838        4   -39.881969 46.477093        0\n",
      "130779836 60560.0459        1    14.894439 18.947685        0\n",
      "130779836 60571.0225        5     30.59313  50.69529        0\n",
      "130779836 60585.9974        4   -23.471439 44.819859        0\n",
      "130779836 60588.0372        0   -41.214264 51.665123        0\n",
      "Length = 1421705 rows\n"
     ]
    }
   ],
   "source": [
    "print(training_data.info)\n",
    "print(training_data)"
   ]
  },
  {
   "cell_type": "code",
   "execution_count": 0,
   "metadata": {
    "colab": {},
    "colab_type": "code",
    "id": "_WwcDSg5hqla"
   },
   "outputs": [],
   "source": [
    "#Ler uma tabela astropy\n",
    "filename='/content/drive/My Drive/MLprojeto/training_set_metadata.csv'\n",
    "meta_training = Table.read(filename, format='ascii.csv')\n",
    "nobjects = len(meta_training)"
   ]
  },
  {
   "cell_type": "code",
   "execution_count": 10,
   "metadata": {
    "colab": {
     "base_uri": "https://localhost:8080/",
     "height": 289
    },
    "colab_type": "code",
    "id": "U7-O8oIvhw_U",
    "outputId": "ee411e85-c4c6-47e5-997a-408dc9eb1a66"
   },
   "outputs": [
    {
     "name": "stdout",
     "output_type": "stream",
     "text": [
      "<Table length=7848>\n",
      "       name         dtype  n_bad\n",
      "------------------ ------- -----\n",
      "         object_id   int64     0\n",
      "                ra float64     0\n",
      "              decl float64     0\n",
      "             gal_l float64     0\n",
      "             gal_b float64     0\n",
      "               ddf   int64     0\n",
      "     hostgal_specz float64     0\n",
      "    hostgal_photoz float64     0\n",
      "hostgal_photoz_err float64     0\n",
      "           distmod float64  2325\n",
      "             mwebv float64     0\n",
      "            target   int64     0\n",
      "\n"
     ]
    }
   ],
   "source": [
    "print(meta_training.info)"
   ]
  },
  {
   "cell_type": "code",
   "execution_count": 11,
   "metadata": {
    "colab": {
     "base_uri": "https://localhost:8080/",
     "height": 442
    },
    "colab_type": "code",
    "id": "PDt0aMdMhyyy",
    "outputId": "3ef35c09-9d57-4912-8d0b-0564ec98c4ce"
   },
   "outputs": [
    {
     "name": "stdout",
     "output_type": "stream",
     "text": [
      "object_id     ra        decl      gal_l    ... distmod mwebv target\n",
      "--------- ---------- ---------- ---------- ... ------- ----- ------\n",
      "      615 349.046051 -61.943836  320.79653 ...     nan 0.017     92\n",
      "      713  53.085938 -27.784405 223.525509 ... 45.4063 0.007     88\n",
      "      730  33.574219  -6.579593 170.455585 ... 40.2561 0.021     42\n",
      "      745   0.189873 -45.586655 328.254458 ... 40.7951 0.007     90\n",
      "     1124 352.711273 -63.823658 316.922299 ... 40.4166 0.024     90\n",
      "     1227  35.683594  -5.379379 171.992947 ...     nan  0.02     65\n",
      "     1598  347.84671 -64.760857 318.929827 ... 39.7279 0.019     90\n",
      "     1632 348.595886  -63.07262 320.023289 ... 43.1524 0.021     42\n",
      "     1920 149.414062   3.433834 234.919132 ... 41.1401 0.027     90\n",
      "     1926 149.414062   1.940072 236.565366 ...     nan 0.018     65\n",
      "      ...        ...        ...        ... ...     ...   ...    ...\n",
      "130678775 142.734375 -23.480536 254.430952 ... 38.0319 0.056     64\n",
      "130684460 117.949219  -0.895283 220.752608 ...     nan 0.053     16\n",
      "130695262       90.0 -20.264481 226.045011 ... 46.6624 0.043     15\n",
      "130698059 142.734375 -18.997131 250.892051 ... 37.0254 0.045     67\n",
      "130716752 337.372894 -57.209084 332.816119 ...     nan 0.016     16\n",
      "130727624 294.960938  -4.031936  34.856817 ...     nan 0.291     65\n",
      "130739978   26.71875 -14.940303 172.342697 ...     nan 0.013     65\n",
      "130755807 120.101349 -62.696659 275.742955 ... 46.6108 0.136     90\n",
      "130762946 203.108109 -55.682144 308.728904 ...     nan  0.43     16\n",
      "130772921  79.101562 -35.501846 239.172243 ...     nan 0.034     65\n",
      "130779836 301.992188 -17.426323  25.102988 ...     nan 0.091      6\n",
      "Length = 7848 rows\n"
     ]
    }
   ],
   "source": [
    "print(meta_training)"
   ]
  },
  {
   "cell_type": "code",
   "execution_count": 0,
   "metadata": {
    "colab": {},
    "colab_type": "code",
    "id": "QYoN-qlvh5V1"
   },
   "outputs": [],
   "source": [
    "target_vec=np.asarray(meta_training['target'])"
   ]
  },
  {
   "cell_type": "code",
   "execution_count": 13,
   "metadata": {
    "colab": {
     "base_uri": "https://localhost:8080/",
     "height": 51
    },
    "colab_type": "code",
    "id": "7hxA_yVih6IY",
    "outputId": "3df48907-e087-4168-c745-cf1bf7542fa0"
   },
   "outputs": [
    {
     "name": "stdout",
     "output_type": "stream",
     "text": [
      "There are 14 unique targets.\n",
      "[ 6 15 16 42 52 53 62 64 65 67 88 90 92 95]\n"
     ]
    }
   ],
   "source": [
    "unique_targets = np.unique(target_vec)\n",
    "print (\"There are {} unique targets.\".format(len(unique_targets)))\n",
    "print (unique_targets)"
   ]
  },
  {
   "cell_type": "code",
   "execution_count": 14,
   "metadata": {
    "colab": {
     "base_uri": "https://localhost:8080/",
     "height": 523
    },
    "colab_type": "code",
    "id": "qcFaWgjTh74G",
    "outputId": "03181875-ba1e-4f4f-b817-496d60ab954c"
   },
   "outputs": [
    {
     "name": "stdout",
     "output_type": "stream",
     "text": [
      "Number of objects of each class\n",
      "[   0.  495.  924. 1193.  183.   30.  484.  102.  981.  208.  370. 2313.\n",
      "  239.  175.]\n"
     ]
    },
    {
     "data": {
      "image/png": "[encoded data removed]",
      "text/plain": [
       "<matplotlib.figure.Figure at 0x7f5a89ef2d50>"
      ]
     },
     "metadata": {
      "tags": []
     },
     "output_type": "display_data"
    }
   ],
   "source": [
    "hist_count=np.zeros([len(unique_targets),1])\n",
    "for i in range (1,len(unique_targets)):\n",
    "    hist_count[i,0]=np.count_nonzero(target_vec[target_vec==unique_targets[i]])\n",
    "\n",
    "\n",
    "print('Number of objects of each class')\n",
    "print(hist_count.ravel())\n",
    " \n",
    "import matplotlib.pyplot as plt; plt.rcdefaults()\n",
    "objects = ('6', '15', '16', '42', '52', '53', '62','64','65','67','88','90','92','95')\n",
    "y_pos = np.arange(len(objects))\n",
    "performance = hist_count.ravel()\n",
    "\n",
    "plt.bar(y_pos, performance, align='center', alpha=0.5)\n",
    "plt.xticks(y_pos, objects)\n",
    "plt.ylabel('Amount')\n",
    "plt.xlabel('Object class')\n",
    "plt.title('Number of objects from each class') \n",
    "plt.show()"
   ]
  },
  {
   "cell_type": "code",
   "execution_count": 15,
   "metadata": {
    "colab": {
     "base_uri": "https://localhost:8080/",
     "height": 453
    },
    "colab_type": "code",
    "id": "gBDOE2hHmkZa",
    "outputId": "e6253c40-f546-4af2-88d1-5ef8d51cdeca"
   },
   "outputs": [
    {
     "data": {
      "image/png": "[encoded data removed]",
      "text/plain": [
       "<matplotlib.figure.Figure at 0x7f5a7085cc90>"
      ]
     },
     "metadata": {
      "tags": []
     },
     "output_type": "display_data"
    }
   ],
   "source": [
    "counts = Counter(meta_training['target'])\n",
    "labels, values = zip(*sorted(counts.items(), key=itemgetter(1)))\n",
    "\n",
    "\n",
    "cmap = plt.cm.tab20\n",
    "nlines = len(labels)\n",
    "classcolor =  list(cmap(np.linspace(0,1,nlines)))[::-1]\n",
    "\n",
    "# we'll create a mapping between class and color\n",
    "classcolmap = dict(zip(labels, classcolor))\n",
    "\n",
    "indexes = np.arange(nlines)\n",
    "width = 1\n",
    "plt.bar(indexes, values, width, edgecolor='k',\\\n",
    "       linewidth=1.5, tick_label=labels, log=True, color=classcolor)\n",
    "plt.xlabel('Target')\n",
    "plt.ylabel('Number of Objects')\n",
    "plt.show()"
   ]
  },
  {
   "cell_type": "markdown",
   "metadata": {
    "colab_type": "text",
    "id": "IIGiVwAfiSbI"
   },
   "source": [
    "Dict das bandas passantes"
   ]
  },
  {
   "cell_type": "code",
   "execution_count": 0,
   "metadata": {
    "colab": {},
    "colab_type": "code",
    "id": "m9oUYwlaiVph"
   },
   "outputs": [],
   "source": [
    "pbmap = OrderedDict([(0,'u'), (1,'g'), (2,'r'), (3,'i'), (4, 'z'), (5, 'y')])\n",
    "\n",
    "# it also helps to have passbands associated with a color\n",
    "pbcols = OrderedDict([(0,'blueviolet'), (1,'green'), (2,'red'),\\\n",
    "                      (3,'orange'), (4, 'black'), (5, 'brown')])\n",
    "\n",
    "pbnames = list(pbmap.values())"
   ]
  },
  {
   "cell_type": "markdown",
   "metadata": {
    "colab_type": "text",
    "id": "BJSjXOy4iWrK"
   },
   "source": [
    "Criar as timeseries com o cesium"
   ]
  },
  {
   "cell_type": "code",
   "execution_count": 17,
   "metadata": {
    "colab": {
     "base_uri": "https://localhost:8080/",
     "height": 51
    },
    "colab_type": "code",
    "id": "3CdRQ-1dnIL2",
    "outputId": "c3e7d731-ef7f-4f22-a523-862ce342223d"
   },
   "outputs": [
    {
     "data": {
      "application/vnd.jupyter.widget-view+json": {
       "model_id": "1e6fc2e1fa2748a298058cc133d1efd1",
       "version_major": 2,
       "version_minor": 0
      },
      "text/plain": [
       "HBox(children=(IntProgress(value=0, description=u'Building Timeseries', max=7848, style=ProgressStyle(descript…"
      ]
     },
     "metadata": {
      "tags": []
     },
     "output_type": "display_data"
    },
    {
     "name": "stdout",
     "output_type": "stream",
     "text": [
      "\n"
     ]
    }
   ],
   "source": [
    "import ipywidgets\n",
    "\n",
    "tsdict = OrderedDict() #time series dict\n",
    "\n",
    "for i in tnrange(nobjects, desc='Building Timeseries'):\n",
    "    row = meta_training[i]\n",
    "    thisid = row['object_id']\n",
    "    target = row['target']\n",
    "    \n",
    "    meta = {'z':row['hostgal_photoz'],\\\n",
    "            'zerr':row['hostgal_photoz_err'],\\\n",
    "            'mwebv':row['mwebv']}\n",
    "    \n",
    "    ind = (training_data['object_id'] == thisid)\n",
    "    thislc = training_data[ind]\n",
    "\n",
    "    pbind = [(thislc['passband'] == pb) for pb in pbmap]\n",
    "    t = [thislc['mjd'][mask].data for mask in pbind ]\n",
    "    m = [thislc['flux'][mask].data for mask in pbind ]\n",
    "    e = [thislc['flux_err'][mask].data for mask in pbind ]\n",
    "\n",
    "    tsdict[thisid] = TimeSeries(t=t, m=m, e=e,\\\n",
    "                        label=target, name=thisid, meta_features=meta,\\\n",
    "                        channel_names=pbnames )\n",
    "    \n",
    "del training_data"
   ]
  },
  {
   "cell_type": "code",
   "execution_count": 0,
   "metadata": {
    "colab": {},
    "colab_type": "code",
    "id": "XrJnoRC_nQEK"
   },
   "outputs": [],
   "source": [
    "#print('Famílias de wavelets disponíveis')\n",
    "#print(pywt.wavelist())"
   ]
  },
  {
   "cell_type": "code",
   "execution_count": 0,
   "metadata": {
    "colab": {},
    "colab_type": "code",
    "id": "SlOEzBxcq7Jh"
   },
   "outputs": [],
   "source": [
    "'''\n",
    "À trous wavelet transform é esta!!!!!! https://pywavelets.readthedocs.io/en/latest/ref/swt-stationary-wavelet-transform.html\n",
    "'''\n",
    "# Criar o objeto wavelet\n",
    "w = pywt.Wavelet('sym2')\n",
    "#calculo que a família de wavelets que escolhi seja a symlet, pelo nome, e que é uma two level wavelet transform, mas confirmar"
   ]
  },
  {
   "cell_type": "code",
   "execution_count": 20,
   "metadata": {
    "colab": {
     "base_uri": "https://localhost:8080/",
     "height": 170
    },
    "colab_type": "code",
    "id": "jIhQLHWju_6Z",
    "outputId": "46f7a307-b311-4be2-f6fc-fc48a6d8b54c"
   },
   "outputs": [
    {
     "name": "stdout",
     "output_type": "stream",
     "text": [
      "Wavelet sym2\n",
      "  Family name:    Symlets\n",
      "  Short name:     sym\n",
      "  Filters length: 4\n",
      "  Orthogonal:     True\n",
      "  Biorthogonal:   True\n",
      "  Symmetry:       near symmetric\n",
      "  DWT:            True\n",
      "  CWT:            False\n"
     ]
    }
   ],
   "source": [
    "print(w)"
   ]
  },
  {
   "cell_type": "code",
   "execution_count": 21,
   "metadata": {
    "colab": {
     "base_uri": "https://localhost:8080/",
     "height": 51
    },
    "colab_type": "code",
    "id": "XgmdpTSurKAB",
    "outputId": "6eb00fc7-9345-480b-ea46-1eeaf125bac3"
   },
   "outputs": [
    {
     "name": "stderr",
     "output_type": "stream",
     "text": [
      "/usr/local/lib/python2.7/dist-packages/pywt/_multilevel.py:45: UserWarning: Level value of 6 is too high: all coefficients will experience boundary effects.\n",
      "  \"boundary effects.\").format(level))\n"
     ]
    }
   ],
   "source": [
    "space_times = []\n",
    "space_measurements = []\n",
    "space_errors = []\n",
    "for index in tsdict:\n",
    "  n_channels = tsdict[index].n_channels\n",
    "  space_times.append([t for t in tsdict[index].time])\n",
    "  #space_measurements.append([pywt.wavedec(m, pywt.Wavelet(\"sym2\"), level=n_channels) for m in tsdict[index].measurement])\n",
    "  space_measurements.append([m for m in tsdict[index].measurenment])\n",
    "  space_errors.append([e for e in tsdict[index].error])\n",
    "\n",
    "#print(space_times)\n",
    "#print(\"\\n\")\n",
    "#print(space_measurements)\n",
    "#print(\"\\n\")\n",
    "#print(space_errors)\n",
    "\n",
    "#Sample code\n",
    "#n_channels = tsdict[615].n_channels\n",
    "#space[\"times\"] = [t for t in tsdict[615].time]\n",
    "#space[\"dwts\"] = [pywt.wavedec(m, pywt.Wavelet(\"sym2\"), level=n_channels) for m in tsdict[615].measurement]\n",
    "#space[\"errors\"] = [e for e in tsdict[615].error]\n",
    "#fset_dwt = featurize.featurize_time_series(times=None, values=space[\"dwts\"], errors=None, meta_features=tsdict[615].meta_features)\n",
    "#fset_nowave = featurize.featurize_time_series(times=space[\"times\"])\n",
    "#print(fset_dwt.head())\n",
    "#space[\"times\"]\n",
    "#for m in tsdict[615].measurement:\n",
    "  #print((m))"
   ]
  },
  {
   "cell_type": "code",
   "execution_count": 22,
   "metadata": {
    "colab": {
     "base_uri": "https://localhost:8080/",
     "height": 34
    },
    "colab_type": "code",
    "id": "qAHy5N1PpKwF",
    "outputId": "029de94f-b8c1-4baf-d54f-45a72acb0a70"
   },
   "outputs": [
    {
     "name": "stdout",
     "output_type": "stream",
     "text": [
      "7848\n"
     ]
    }
   ],
   "source": [
    "space_meta_features = []\n",
    "for index in tsdict:\n",
    "  space_meta_features.append(tsdict[index].meta_features)\n",
    "print(len(space_meta_features))"
   ]
  },
  {
   "cell_type": "code",
   "execution_count": 24,
   "metadata": {},
   "outputs": [
    {
     "ename": "EOFError",
     "evalue": "Ran out of input",
     "output_type": "error",
     "traceback": [
      "\u001b[0;31m---------------------------------------------------------------------------\u001b[0m",
      "\u001b[0;31mEOFError\u001b[0m                                  Traceback (most recent call last)",
      "\u001b[0;32m<ipython-input-24-fcf5f6c52b70>\u001b[0m in \u001b[0;36m<module>\u001b[0;34m\u001b[0m\n\u001b[1;32m      1\u001b[0m \u001b[0;32mimport\u001b[0m \u001b[0mpickle\u001b[0m\u001b[0;34m\u001b[0m\u001b[0m\n\u001b[1;32m      2\u001b[0m \u001b[0;32mwith\u001b[0m \u001b[0mopen\u001b[0m\u001b[0;34m(\u001b[0m\u001b[0;34m\"space_times.p\"\u001b[0m\u001b[0;34m,\u001b[0m \u001b[0;34m'rb'\u001b[0m\u001b[0;34m)\u001b[0m \u001b[0;32mas\u001b[0m \u001b[0mt\u001b[0m\u001b[0;34m:\u001b[0m\u001b[0;34m\u001b[0m\u001b[0m\n\u001b[0;32m----> 3\u001b[0;31m     \u001b[0mspace_times\u001b[0m \u001b[0;34m=\u001b[0m \u001b[0mpickle\u001b[0m\u001b[0;34m.\u001b[0m\u001b[0mload\u001b[0m\u001b[0;34m(\u001b[0m\u001b[0mt\u001b[0m\u001b[0;34m)\u001b[0m\u001b[0;34m\u001b[0m\u001b[0m\n\u001b[0m\u001b[1;32m      4\u001b[0m \u001b[0;34m\u001b[0m\u001b[0m\n\u001b[1;32m      5\u001b[0m \u001b[0;34m\u001b[0m\u001b[0m\n",
      "\u001b[0;31mEOFError\u001b[0m: Ran out of input"
     ]
    }
   ],
   "source": [
    "import pickle\n",
    "with open(\"space_times.p\", 'rb') as t:\n",
    "    space_times = pickle.load(t)\n",
    "\n",
    "\n",
    "#m = open(\"space_measurements.p\", 'rb')\n",
    "#space_measurements = pickle.load(\"space_measurements.p\")\n",
    "#m.close()\n",
    "\n",
    "#e = open(\"space_errors.p\", 'rb')\n",
    "#space_errors = pickle.load(\"space_errors.p\")\n",
    "#e.close()\n",
    "\n",
    "#mf = open(\"space_meta_features.p\", 'rb')\n",
    "#space_meta_features = pickle.load(\"space_meta_features.p\")\n",
    "#mf.close()"
   ]
  },
  {
   "cell_type": "code",
   "execution_count": 25,
   "metadata": {
    "colab": {
     "base_uri": "https://localhost:8080/",
     "height": 969
    },
    "colab_type": "code",
    "id": "rBRkQeKJwahu",
    "outputId": "9a347526-951c-457d-d426-77c676ef53cc"
   },
   "outputs": [
    {
     "ename": "NameError",
     "evalue": "name 'space_meta_features' is not defined",
     "output_type": "error",
     "traceback": [
      "\u001b[0;31m---------------------------------------------------------------------------\u001b[0m",
      "\u001b[0;31mNameError\u001b[0m                                 Traceback (most recent call last)",
      "\u001b[0;32m<ipython-input-25-80d51953b53f>\u001b[0m in \u001b[0;36m<module>\u001b[0;34m\u001b[0m\n\u001b[1;32m      1\u001b[0m \u001b[0mfeatures\u001b[0m \u001b[0;34m=\u001b[0m \u001b[0;34m[\u001b[0m\u001b[0;34m]\u001b[0m\u001b[0;34m\u001b[0m\u001b[0m\n\u001b[0;32m----> 2\u001b[0;31m \u001b[0;32mfor\u001b[0m \u001b[0mindex\u001b[0m \u001b[0;32min\u001b[0m \u001b[0mrange\u001b[0m\u001b[0;34m(\u001b[0m\u001b[0mlen\u001b[0m\u001b[0;34m(\u001b[0m\u001b[0mspace_meta_features\u001b[0m\u001b[0;34m)\u001b[0m\u001b[0;34m)\u001b[0m\u001b[0;34m:\u001b[0m\u001b[0;34m\u001b[0m\u001b[0m\n\u001b[0m\u001b[1;32m      3\u001b[0m     \u001b[0mprint\u001b[0m\u001b[0;34m(\u001b[0m\u001b[0mindex\u001b[0m\u001b[0;34m)\u001b[0m\u001b[0;34m\u001b[0m\u001b[0m\n\u001b[1;32m      4\u001b[0m     fset = featurize.featurize_time_series(times=space_times[index], values=space_measurements[index], errors=space_errors[index], \n\u001b[1;32m      5\u001b[0m                                          meta_features=space_meta_features[index])\n",
      "\u001b[0;31mNameError\u001b[0m: name 'space_meta_features' is not defined"
     ]
    }
   ],
   "source": [
    "features = []\n",
    "for index in range(len(space_meta_features)):\n",
    "    print(index)\n",
    "    fset = featurize.featurize_time_series(times=space_times[index], values=space_measurements[index], errors=space_errors[index], \n",
    "                                         meta_features=space_meta_features[index])\n",
    "    features.append(fset)\n",
    "    \n",
    "print(len(features))"
   ]
  },
  {
   "cell_type": "markdown",
   "metadata": {
    "colab_type": "text",
    "id": "kWm-nuqAvMJ8"
   },
   "source": [
    "Para a Gaussian Process Regression"
   ]
  },
  {
   "cell_type": "code",
   "execution_count": 0,
   "metadata": {
    "colab": {},
    "colab_type": "code",
    "id": "Lokoa8JivMdC"
   },
   "outputs": [],
   "source": [
    "# Interpolação das light curves usando gaussian process regression \n",
    "from sklearn.gaussian_process import GaussianProcessRegressor\n",
    "from sklearn.gaussian_process.kernels import DotProduct, WhiteKernel\n",
    "\n",
    "gpdict = OrderedDict() #time series after gaussian process dict\n",
    "kernel = DotProduct() + WhiteKernel()\n",
    "gpr = GaussianProcessRegressor(kernel=kernel,random_state=0).fit(x,y) #FALTA MUDAR O X E O Y"
   ]
  },
  {
   "cell_type": "markdown",
   "metadata": {
    "colab_type": "text",
    "id": "2N5wOsovvaPp"
   },
   "source": [
    "Para a PCA"
   ]
  },
  {
   "cell_type": "code",
   "execution_count": 0,
   "metadata": {
    "colab": {},
    "colab_type": "code",
    "id": "b5qYo1BmvKpw"
   },
   "outputs": [],
   "source": [
    "pca = PCA(n_components=npca, whiten=True, svd_solver=\"full\", random_state=42)\n",
    "Xtrain_pca = pca.fit_transform(Xtrain)"
   ]
  },
  {
   "cell_type": "code",
   "execution_count": 0,
   "metadata": {
    "colab": {},
    "colab_type": "code",
    "id": "1uKjxsnNcK7B"
   },
   "outputs": [],
   "source": []
  }
 ],
 "metadata": {
  "colab": {
   "name": "Copy_of_É_desta_amigos!_Já_dá!.ipynb",
   "provenance": [],
   "version": "0.3.2"
  },
  "kernelspec": {
   "display_name": "Python 3",
   "language": "python",
   "name": "python3"
  },
  "language_info": {
   "codemirror_mode": {
    "name": "ipython",
    "version": 3
   },
   "file_extension": ".py",
   "mimetype": "text/x-python",
   "name": "python",
   "nbconvert_exporter": "python",
   "pygments_lexer": "ipython3",
   "version": "3.6.6"
  }
 },
 "nbformat": 4,
 "nbformat_minor": 1
}
