{
 "cells": [
  {
   "cell_type": "code",
   "execution_count": 1,
   "metadata": {
    "colab": {
     "base_uri": "https://localhost:8080/",
     "height": 252
    },
    "colab_type": "code",
    "executionInfo": {
     "elapsed": 6635,
     "status": "ok",
     "timestamp": 1544571651235,
     "user": {
      "displayName": "Tiago Gonçalves",
      "photoUrl": "https://lh3.googleusercontent.com/-81OqHtj8l6U/AAAAAAAAAAI/AAAAAAAAA3Y/37fQ2VQOX84/s64/photo.jpg",
      "userId": "08684494376977492713"
     },
     "user_tz": 0
    },
    "id": "ap--KEvjgn-B",
    "outputId": "4d68fe68-cd54-4e0f-a7cc-7270752060da"
   },
   "outputs": [
    {
     "name": "stdout",
     "output_type": "stream",
     "text": [
      "Requirement already satisfied: cesium in c:\\users\\tiago\\appdata\\local\\conda\\conda\\envs\\ml\\lib\\site-packages (0.9.9)\n",
      "Requirement already satisfied: dask>=1.0.0 in c:\\users\\tiago\\appdata\\local\\conda\\conda\\envs\\ml\\lib\\site-packages (from cesium) (1.0.0)\n",
      "Requirement already satisfied: scipy>=0.16.0 in c:\\users\\tiago\\appdata\\local\\conda\\conda\\envs\\ml\\lib\\site-packages (from cesium) (1.1.0)\n",
      "Requirement already satisfied: toolz in c:\\users\\tiago\\appdata\\local\\conda\\conda\\envs\\ml\\lib\\site-packages (from cesium) (0.9.0)\n",
      "Requirement already satisfied: gatspy>=0.3.0 in c:\\users\\tiago\\appdata\\local\\conda\\conda\\envs\\ml\\lib\\site-packages (from cesium) (0.3)\n",
      "Requirement already satisfied: pandas>=0.17.0 in c:\\users\\tiago\\appdata\\local\\conda\\conda\\envs\\ml\\lib\\site-packages (from cesium) (0.23.4)\n",
      "Requirement already satisfied: scikit-learn>=0.18.1 in c:\\users\\tiago\\appdata\\local\\conda\\conda\\envs\\ml\\lib\\site-packages (from cesium) (0.20.1)\n",
      "Requirement already satisfied: cloudpickle in c:\\users\\tiago\\appdata\\local\\conda\\conda\\envs\\ml\\lib\\site-packages (from cesium) (0.6.1)\n",
      "Requirement already satisfied: numpy>=1.8.2 in c:\\users\\tiago\\appdata\\local\\conda\\conda\\envs\\ml\\lib\\site-packages (from scipy>=0.16.0->cesium) (1.15.4)\n",
      "Requirement already satisfied: pytz>=2011k in c:\\users\\tiago\\appdata\\local\\conda\\conda\\envs\\ml\\lib\\site-packages (from pandas>=0.17.0->cesium) (2018.7)\n",
      "Requirement already satisfied: python-dateutil>=2.5.0 in c:\\users\\tiago\\appdata\\local\\conda\\conda\\envs\\ml\\lib\\site-packages (from pandas>=0.17.0->cesium) (2.7.5)\n",
      "Requirement already satisfied: six>=1.5 in c:\\users\\tiago\\appdata\\local\\conda\\conda\\envs\\ml\\lib\\site-packages (from python-dateutil>=2.5.0->pandas>=0.17.0->cesium) (1.12.0)\n"
     ]
    }
   ],
   "source": [
    "!pip install cesium"
   ]
  },
  {
   "cell_type": "code",
   "execution_count": 2,
   "metadata": {
    "colab": {
     "base_uri": "https://localhost:8080/",
     "height": 286
    },
    "colab_type": "code",
    "executionInfo": {
     "elapsed": 10540,
     "status": "ok",
     "timestamp": 1544571655155,
     "user": {
      "displayName": "Tiago Gonçalves",
      "photoUrl": "https://lh3.googleusercontent.com/-81OqHtj8l6U/AAAAAAAAAAI/AAAAAAAAA3Y/37fQ2VQOX84/s64/photo.jpg",
      "userId": "08684494376977492713"
     },
     "user_tz": 0
    },
    "id": "TIvxVKndg4Pp",
    "outputId": "f8fcd158-052a-4c72-d945-6aadfcbb65ca"
   },
   "outputs": [
    {
     "name": "stdout",
     "output_type": "stream",
     "text": [
      "Requirement already satisfied: sncosmo in c:\\users\\tiago\\appdata\\local\\conda\\conda\\envs\\ml\\lib\\site-packages (1.6.0)\n",
      "Requirement already satisfied: extinction>=0.2.2 in c:\\users\\tiago\\appdata\\local\\conda\\conda\\envs\\ml\\lib\\site-packages (from sncosmo) (0.4.0)\n",
      "Requirement already satisfied: numpy>=1.5.0 in c:\\users\\tiago\\appdata\\local\\conda\\conda\\envs\\ml\\lib\\site-packages (from sncosmo) (1.15.4)\n",
      "Requirement already satisfied: scipy>=0.9.0 in c:\\users\\tiago\\appdata\\local\\conda\\conda\\envs\\ml\\lib\\site-packages (from sncosmo) (1.1.0)\n",
      "Requirement already satisfied: astropy>=0.4.0 in c:\\users\\tiago\\appdata\\local\\conda\\conda\\envs\\ml\\lib\\site-packages (from sncosmo) (2.0.9)\n",
      "Requirement already satisfied: pytest>=2.8 in c:\\users\\tiago\\appdata\\local\\conda\\conda\\envs\\ml\\lib\\site-packages (from astropy>=0.4.0->sncosmo) (3.6.4)\n",
      "Requirement already satisfied: six>=1.10.0 in c:\\users\\tiago\\appdata\\local\\conda\\conda\\envs\\ml\\lib\\site-packages (from pytest>=2.8->astropy>=0.4.0->sncosmo) (1.12.0)\n",
      "Requirement already satisfied: attrs>=17.4.0 in c:\\users\\tiago\\appdata\\local\\conda\\conda\\envs\\ml\\lib\\site-packages (from pytest>=2.8->astropy>=0.4.0->sncosmo) (18.2.0)\n",
      "Requirement already satisfied: setuptools in c:\\users\\tiago\\appdata\\local\\conda\\conda\\envs\\ml\\lib\\site-packages (from pytest>=2.8->astropy>=0.4.0->sncosmo) (40.6.2)\n",
      "Requirement already satisfied: funcsigs; python_version < \"3.0\" in c:\\users\\tiago\\appdata\\local\\conda\\conda\\envs\\ml\\lib\\site-packages (from pytest>=2.8->astropy>=0.4.0->sncosmo) (1.0.2)\n",
      "Requirement already satisfied: py>=1.5.0 in c:\\users\\tiago\\appdata\\local\\conda\\conda\\envs\\ml\\lib\\site-packages (from pytest>=2.8->astropy>=0.4.0->sncosmo) (1.7.0)\n",
      "Requirement already satisfied: more-itertools>=4.0.0 in c:\\users\\tiago\\appdata\\local\\conda\\conda\\envs\\ml\\lib\\site-packages (from pytest>=2.8->astropy>=0.4.0->sncosmo) (4.3.0)\n",
      "Requirement already satisfied: atomicwrites>=1.0 in c:\\users\\tiago\\appdata\\local\\conda\\conda\\envs\\ml\\lib\\site-packages (from pytest>=2.8->astropy>=0.4.0->sncosmo) (1.2.1)\n",
      "Requirement already satisfied: pluggy<0.8,>=0.5 in c:\\users\\tiago\\appdata\\local\\conda\\conda\\envs\\ml\\lib\\site-packages (from pytest>=2.8->astropy>=0.4.0->sncosmo) (0.6.0)\n",
      "Requirement already satisfied: colorama; sys_platform == \"win32\" in c:\\users\\tiago\\appdata\\local\\conda\\conda\\envs\\ml\\lib\\site-packages (from pytest>=2.8->astropy>=0.4.0->sncosmo) (0.4.0)\n"
     ]
    }
   ],
   "source": [
    "!pip install sncosmo"
   ]
  },
  {
   "cell_type": "code",
   "execution_count": 3,
   "metadata": {
    "colab": {
     "base_uri": "https://localhost:8080/",
     "height": 82
    },
    "colab_type": "code",
    "executionInfo": {
     "elapsed": 14493,
     "status": "ok",
     "timestamp": 1544571659119,
     "user": {
      "displayName": "Tiago Gonçalves",
      "photoUrl": "https://lh3.googleusercontent.com/-81OqHtj8l6U/AAAAAAAAAAI/AAAAAAAAA3Y/37fQ2VQOX84/s64/photo.jpg",
      "userId": "08684494376977492713"
     },
     "user_tz": 0
    },
    "id": "nvd0BL0Imxkw",
    "outputId": "6b46d706-fc8c-40c9-80b3-02c49ca2ad5d"
   },
   "outputs": [
    {
     "name": "stdout",
     "output_type": "stream",
     "text": [
      "Requirement already satisfied: schwimmbad in c:\\users\\tiago\\appdata\\local\\conda\\conda\\envs\\ml\\lib\\site-packages (0.3.0)\n",
      "Requirement already satisfied: six in c:\\users\\tiago\\appdata\\local\\conda\\conda\\envs\\ml\\lib\\site-packages (from schwimmbad) (1.12.0)\n"
     ]
    }
   ],
   "source": [
    "!pip install schwimmbad"
   ]
  },
  {
   "cell_type": "code",
   "execution_count": 7,
   "metadata": {
    "colab": {},
    "colab_type": "code",
    "id": "EBC8xaaigyOs"
   },
   "outputs": [],
   "source": [
    "import os\n",
    "import numpy as np\n",
    "import scipy.stats as spstat\n",
    "import matplotlib.pyplot as plt\n",
    "from collections import OrderedDict\n",
    "import sncosmo\n",
    "from astropy.table import Table\n",
    "import pywt\n",
    "import pywt.data\n",
    "import seaborn as sns\n",
    "import pandas as pd \n",
    "import matplotlib.pyplot as plot\n",
    "import sys\n",
    "import os\n",
    "from collections import Counter, OrderedDict\n",
    "import numpy as np\n",
    "from operator import itemgetter\n",
    "import matplotlib.pyplot as plt\n",
    "from astropy.table import Table\n",
    "import schwimmbad\n",
    "from cesium.time_series import TimeSeries\n",
    "import cesium.featurize as featurize\n",
    "from tqdm import tnrange, tqdm_notebook\n",
    "import sklearn \n",
    "from sklearn.model_selection import StratifiedShuffleSplit\n",
    "from sklearn.decomposition import PCA\n",
    "from sklearn.ensemble import RandomForestClassifier\n",
    "from sklearn.metrics import confusion_matrix\n",
    "import seaborn as sns"
   ]
  },
  {
   "cell_type": "code",
   "execution_count": 8,
   "metadata": {
    "colab": {
     "base_uri": "https://localhost:8080/",
     "height": 916
    },
    "colab_type": "code",
    "executionInfo": {
     "elapsed": 22046,
     "status": "ok",
     "timestamp": 1544571666685,
     "user": {
      "displayName": "Tiago Gonçalves",
      "photoUrl": "https://lh3.googleusercontent.com/-81OqHtj8l6U/AAAAAAAAAAI/AAAAAAAAA3Y/37fQ2VQOX84/s64/photo.jpg",
      "userId": "08684494376977492713"
     },
     "user_tz": 0
    },
    "id": "gEclVlcPnYQl",
    "outputId": "0e0055e9-dca5-4438-9fc4-9c1fb9ce43d3"
   },
   "outputs": [
    {
     "name": "stdout",
     "output_type": "stream",
     "text": [
      "Collecting ipywidgets\n",
      "  Downloading https://files.pythonhosted.org/packages/30/9a/a008c7b1183fac9e52066d80a379b3c64eab535bd9d86cdc29a0b766fd82/ipywidgets-7.4.2-py2.py3-none-any.whl (111kB)\n",
      "Requirement already satisfied: ipython<6.0.0,>=4.0.0; python_version < \"3.3\" in c:\\users\\tiago\\appdata\\local\\conda\\conda\\envs\\ml\\lib\\site-packages (from ipywidgets) (5.8.0)\n",
      "Requirement already satisfied: ipykernel>=4.5.1 in c:\\users\\tiago\\appdata\\local\\conda\\conda\\envs\\ml\\lib\\site-packages (from ipywidgets) (4.10.0)\n",
      "Requirement already satisfied: nbformat>=4.2.0 in c:\\users\\tiago\\appdata\\local\\conda\\conda\\envs\\ml\\lib\\site-packages (from ipywidgets) (4.4.0)\n",
      "Requirement already satisfied: traitlets>=4.3.1 in c:\\users\\tiago\\appdata\\local\\conda\\conda\\envs\\ml\\lib\\site-packages (from ipywidgets) (4.3.2)\n",
      "Collecting widgetsnbextension~=3.4.0 (from ipywidgets)\n",
      "  Downloading https://files.pythonhosted.org/packages/8a/81/35789a3952afb48238289171728072d26d6e76649ddc8b3588657a2d78c1/widgetsnbextension-3.4.2-py2.py3-none-any.whl (2.2MB)\n",
      "Requirement already satisfied: prompt-toolkit<2.0.0,>=1.0.4 in c:\\users\\tiago\\appdata\\local\\conda\\conda\\envs\\ml\\lib\\site-packages (from ipython<6.0.0,>=4.0.0; python_version < \"3.3\"->ipywidgets) (1.0.15)\n",
      "Requirement already satisfied: setuptools>=18.5 in c:\\users\\tiago\\appdata\\local\\conda\\conda\\envs\\ml\\lib\\site-packages (from ipython<6.0.0,>=4.0.0; python_version < \"3.3\"->ipywidgets) (40.6.2)\n",
      "Requirement already satisfied: decorator in c:\\users\\tiago\\appdata\\local\\conda\\conda\\envs\\ml\\lib\\site-packages (from ipython<6.0.0,>=4.0.0; python_version < \"3.3\"->ipywidgets) (4.3.0)\n",
      "Requirement already satisfied: pickleshare in c:\\users\\tiago\\appdata\\local\\conda\\conda\\envs\\ml\\lib\\site-packages (from ipython<6.0.0,>=4.0.0; python_version < \"3.3\"->ipywidgets) (0.7.5)\n",
      "Requirement already satisfied: win-unicode-console>=0.5; sys_platform == \"win32\" and python_version < \"3.6\" in c:\\users\\tiago\\appdata\\local\\conda\\conda\\envs\\ml\\lib\\site-packages (from ipython<6.0.0,>=4.0.0; python_version < \"3.3\"->ipywidgets) (0.5)\n",
      "Requirement already satisfied: pygments in c:\\users\\tiago\\appdata\\local\\conda\\conda\\envs\\ml\\lib\\site-packages (from ipython<6.0.0,>=4.0.0; python_version < \"3.3\"->ipywidgets) (2.2.0)\n",
      "Requirement already satisfied: pathlib2; python_version == \"2.7\" or python_version == \"3.3\" in c:\\users\\tiago\\appdata\\local\\conda\\conda\\envs\\ml\\lib\\site-packages (from ipython<6.0.0,>=4.0.0; python_version < \"3.3\"->ipywidgets) (2.3.2)\n",
      "Requirement already satisfied: backports.shutil-get-terminal-size; python_version == \"2.7\" in c:\\users\\tiago\\appdata\\local\\conda\\conda\\envs\\ml\\lib\\site-packages (from ipython<6.0.0,>=4.0.0; python_version < \"3.3\"->ipywidgets) (1.0.0)\n",
      "Requirement already satisfied: colorama; sys_platform == \"win32\" in c:\\users\\tiago\\appdata\\local\\conda\\conda\\envs\\ml\\lib\\site-packages (from ipython<6.0.0,>=4.0.0; python_version < \"3.3\"->ipywidgets) (0.4.0)\n",
      "Requirement already satisfied: simplegeneric>0.8 in c:\\users\\tiago\\appdata\\local\\conda\\conda\\envs\\ml\\lib\\site-packages (from ipython<6.0.0,>=4.0.0; python_version < \"3.3\"->ipywidgets) (0.8.1)\n",
      "Requirement already satisfied: jupyter_client in c:\\users\\tiago\\appdata\\local\\conda\\conda\\envs\\ml\\lib\\site-packages (from ipykernel>=4.5.1->ipywidgets) (5.2.3)\n",
      "Requirement already satisfied: tornado>=4.0 in c:\\users\\tiago\\appdata\\local\\conda\\conda\\envs\\ml\\lib\\site-packages (from ipykernel>=4.5.1->ipywidgets) (5.1.1)\n",
      "Requirement already satisfied: ipython_genutils in c:\\users\\tiago\\appdata\\local\\conda\\conda\\envs\\ml\\lib\\site-packages (from nbformat>=4.2.0->ipywidgets) (0.2.0)\n",
      "Requirement already satisfied: jsonschema!=2.5.0,>=2.4 in c:\\users\\tiago\\appdata\\local\\conda\\conda\\envs\\ml\\lib\\site-packages (from nbformat>=4.2.0->ipywidgets) (2.6.0)\n",
      "Requirement already satisfied: jupyter_core in c:\\users\\tiago\\appdata\\local\\conda\\conda\\envs\\ml\\lib\\site-packages (from nbformat>=4.2.0->ipywidgets) (4.4.0)\n",
      "Requirement already satisfied: six in c:\\users\\tiago\\appdata\\local\\conda\\conda\\envs\\ml\\lib\\site-packages (from traitlets>=4.3.1->ipywidgets) (1.12.0)\n",
      "Requirement already satisfied: enum34 in c:\\users\\tiago\\appdata\\local\\conda\\conda\\envs\\ml\\lib\\site-packages (from traitlets>=4.3.1->ipywidgets) (1.1.6)\n",
      "Requirement already satisfied: notebook>=4.4.1 in c:\\users\\tiago\\appdata\\local\\conda\\conda\\envs\\ml\\lib\\site-packages (from widgetsnbextension~=3.4.0->ipywidgets) (5.7.2)\n",
      "Requirement already satisfied: wcwidth in c:\\users\\tiago\\appdata\\local\\conda\\conda\\envs\\ml\\lib\\site-packages (from prompt-toolkit<2.0.0,>=1.0.4->ipython<6.0.0,>=4.0.0; python_version < \"3.3\"->ipywidgets) (0.1.7)\n",
      "Requirement already satisfied: scandir in c:\\users\\tiago\\appdata\\local\\conda\\conda\\envs\\ml\\lib\\site-packages (from pathlib2; python_version == \"2.7\" or python_version == \"3.3\"->ipython<6.0.0,>=4.0.0; python_version < \"3.3\"->ipywidgets) (1.9.0)\n",
      "Requirement already satisfied: pyzmq>=13 in c:\\users\\tiago\\appdata\\local\\conda\\conda\\envs\\ml\\lib\\site-packages (from jupyter_client->ipykernel>=4.5.1->ipywidgets) (17.1.2)\n",
      "Requirement already satisfied: python-dateutil>=2.1 in c:\\users\\tiago\\appdata\\local\\conda\\conda\\envs\\ml\\lib\\site-packages (from jupyter_client->ipykernel>=4.5.1->ipywidgets) (2.7.5)\n",
      "Requirement already satisfied: futures in c:\\users\\tiago\\appdata\\local\\conda\\conda\\envs\\ml\\lib\\site-packages (from tornado>=4.0->ipykernel>=4.5.1->ipywidgets) (3.2.0)\n",
      "Requirement already satisfied: singledispatch in c:\\users\\tiago\\appdata\\local\\conda\\conda\\envs\\ml\\lib\\site-packages (from tornado>=4.0->ipykernel>=4.5.1->ipywidgets) (3.4.0.3)\n",
      "Requirement already satisfied: backports_abc>=0.4 in c:\\users\\tiago\\appdata\\local\\conda\\conda\\envs\\ml\\lib\\site-packages (from tornado>=4.0->ipykernel>=4.5.1->ipywidgets) (0.5)\n",
      "Requirement already satisfied: functools32 in c:\\users\\tiago\\appdata\\local\\conda\\conda\\envs\\ml\\lib\\site-packages (from jsonschema!=2.5.0,>=2.4->nbformat>=4.2.0->ipywidgets) (3.2.3.post2)\n",
      "Requirement already satisfied: nbconvert in c:\\users\\tiago\\appdata\\local\\conda\\conda\\envs\\ml\\lib\\site-packages (from notebook>=4.4.1->widgetsnbextension~=3.4.0->ipywidgets) (5.3.1)\n",
      "Requirement already satisfied: Send2Trash in c:\\users\\tiago\\appdata\\local\\conda\\conda\\envs\\ml\\lib\\site-packages (from notebook>=4.4.1->widgetsnbextension~=3.4.0->ipywidgets) (1.5.0)\n",
      "Requirement already satisfied: prometheus-client in c:\\users\\tiago\\appdata\\local\\conda\\conda\\envs\\ml\\lib\\site-packages (from notebook>=4.4.1->widgetsnbextension~=3.4.0->ipywidgets) (0.4.2)\n",
      "Requirement already satisfied: jinja2 in c:\\users\\tiago\\appdata\\local\\conda\\conda\\envs\\ml\\lib\\site-packages (from notebook>=4.4.1->widgetsnbextension~=3.4.0->ipywidgets) (2.10)\n",
      "Requirement already satisfied: ipaddress; python_version == \"2.7\" in c:\\users\\tiago\\appdata\\local\\conda\\conda\\envs\\ml\\lib\\site-packages (from notebook>=4.4.1->widgetsnbextension~=3.4.0->ipywidgets) (1.0.22)\n",
      "Requirement already satisfied: terminado>=0.8.1 in c:\\users\\tiago\\appdata\\local\\conda\\conda\\envs\\ml\\lib\\site-packages (from notebook>=4.4.1->widgetsnbextension~=3.4.0->ipywidgets) (0.8.1)\n",
      "Requirement already satisfied: entrypoints>=0.2.2 in c:\\users\\tiago\\appdata\\local\\conda\\conda\\envs\\ml\\lib\\site-packages (from nbconvert->notebook>=4.4.1->widgetsnbextension~=3.4.0->ipywidgets) (0.2.3)\n",
      "Requirement already satisfied: pandocfilters>=1.4.1 in c:\\users\\tiago\\appdata\\local\\conda\\conda\\envs\\ml\\lib\\site-packages (from nbconvert->notebook>=4.4.1->widgetsnbextension~=3.4.0->ipywidgets) (1.4.2)\n",
      "Requirement already satisfied: testpath in c:\\users\\tiago\\appdata\\local\\conda\\conda\\envs\\ml\\lib\\site-packages (from nbconvert->notebook>=4.4.1->widgetsnbextension~=3.4.0->ipywidgets) (0.4.2)\n",
      "Requirement already satisfied: bleach in c:\\users\\tiago\\appdata\\local\\conda\\conda\\envs\\ml\\lib\\site-packages (from nbconvert->notebook>=4.4.1->widgetsnbextension~=3.4.0->ipywidgets) (3.0.2)\n",
      "Requirement already satisfied: mistune>=0.7.4 in c:\\users\\tiago\\appdata\\local\\conda\\conda\\envs\\ml\\lib\\site-packages (from nbconvert->notebook>=4.4.1->widgetsnbextension~=3.4.0->ipywidgets) (0.8.4)\n",
      "Requirement already satisfied: MarkupSafe>=0.23 in c:\\users\\tiago\\appdata\\local\\conda\\conda\\envs\\ml\\lib\\site-packages (from jinja2->notebook>=4.4.1->widgetsnbextension~=3.4.0->ipywidgets) (1.1.0)\n"
     ]
    },
    {
     "name": "stdout",
     "output_type": "stream",
     "text": [
      "Requirement already satisfied: webencodings in c:\\users\\tiago\\appdata\\local\\conda\\conda\\envs\\ml\\lib\\site-packages (from bleach->nbconvert->notebook>=4.4.1->widgetsnbextension~=3.4.0->ipywidgets) (0.5.1)\n",
      "Installing collected packages: widgetsnbextension, ipywidgets\n",
      "Successfully installed ipywidgets-7.4.2 widgetsnbextension-3.4.2\n"
     ]
    },
    {
     "name": "stderr",
     "output_type": "stream",
     "text": [
      "Enabling notebook extension jupyter-js-widgets/extension...\n",
      "      - Validating: ok\n"
     ]
    }
   ],
   "source": [
    "!pip install ipywidgets\n",
    "!jupyter nbextension enable --py widgetsnbextension"
   ]
  },
  {
   "cell_type": "code",
   "execution_count": 9,
   "metadata": {
    "colab": {
     "base_uri": "https://localhost:8080/",
     "height": 34
    },
    "colab_type": "code",
    "executionInfo": {
     "elapsed": 22036,
     "status": "ok",
     "timestamp": 1544571666686,
     "user": {
      "displayName": "Tiago Gonçalves",
      "photoUrl": "https://lh3.googleusercontent.com/-81OqHtj8l6U/AAAAAAAAAAI/AAAAAAAAA3Y/37fQ2VQOX84/s64/photo.jpg",
      "userId": "08684494376977492713"
     },
     "user_tz": 0
    },
    "id": "m1zy1JBpk8nu",
    "outputId": "7ea34235-1ea6-45f1-ff6b-08becdf91c6f"
   },
   "outputs": [],
   "source": [
    "fromgoogle = False\n",
    "if fromgoogle == True:\n",
    "    from google.colab import drive\n",
    "    drive.mount('/content/drive')"
   ]
  },
  {
   "cell_type": "code",
   "execution_count": 11,
   "metadata": {
    "colab": {},
    "colab_type": "code",
    "id": "ds37dkmxhNQs"
   },
   "outputs": [],
   "source": [
    "#Ler uma tabela astropy\n",
    "filename='training_set.csv'\n",
    "training_data = Table.read(filename, format='ascii.csv')"
   ]
  },
  {
   "cell_type": "code",
   "execution_count": 12,
   "metadata": {
    "colab": {
     "base_uri": "https://localhost:8080/",
     "height": 612
    },
    "colab_type": "code",
    "executionInfo": {
     "elapsed": 24658,
     "status": "ok",
     "timestamp": 1544571669321,
     "user": {
      "displayName": "Tiago Gonçalves",
      "photoUrl": "https://lh3.googleusercontent.com/-81OqHtj8l6U/AAAAAAAAAAI/AAAAAAAAA3Y/37fQ2VQOX84/s64/photo.jpg",
      "userId": "08684494376977492713"
     },
     "user_tz": 0
    },
    "id": "2L93lW1uhj4e",
    "outputId": "09a04e36-83bf-44f2-cee1-1541581c760f"
   },
   "outputs": [
    {
     "name": "stdout",
     "output_type": "stream",
     "text": [
      "<Table length=1421705>\n",
      "   name    dtype \n",
      "--------- -------\n",
      "object_id   int32\n",
      "      mjd float64\n",
      " passband   int32\n",
      "     flux float64\n",
      " flux_err float64\n",
      " detected   int32\n",
      "\n",
      "object_id    mjd     passband     flux      flux_err detected\n",
      "--------- ---------- -------- ------------ --------- --------\n",
      "      615 59750.4229        2  -544.810303  3.622952        1\n",
      "      615 59750.4306        1  -816.434326   5.55337        1\n",
      "      615 59750.4383        3  -471.385529  3.801213        1\n",
      "      615  59750.445        4  -388.984985 11.395031        1\n",
      "      615  59752.407        2  -681.858887  4.041204        1\n",
      "      615 59752.4147        1 -1061.457031  6.472994        1\n",
      "      615 59752.4224        3   -524.95459  3.552751        1\n",
      "      615 59752.4334        4  -393.480225  3.599346        1\n",
      "      615 59752.4435        5   -355.88678 10.421921        1\n",
      "      615 59767.2968        2   -548.01355  3.462291        1\n",
      "      ...        ...      ...          ...       ...      ...\n",
      "130779836  60537.147        3    -41.85004 26.782366        0\n",
      "130779836 60542.0489        4   -60.500492 14.743795        0\n",
      "130779836 60543.0247        4   -48.527161  24.00408        0\n",
      "130779836 60545.9844        5    32.006413 77.931732        0\n",
      "130779836 60546.9804        5    68.152985 56.351048        0\n",
      "130779836 60548.9789        4   -60.066154 34.353317        0\n",
      "130779836 60555.9838        4   -39.881969 46.477093        0\n",
      "130779836 60560.0459        1    14.894439 18.947685        0\n",
      "130779836 60571.0225        5     30.59313  50.69529        0\n",
      "130779836 60585.9974        4   -23.471439 44.819859        0\n",
      "130779836 60588.0372        0   -41.214264 51.665123        0\n",
      "Length = 1421705 rows\n"
     ]
    }
   ],
   "source": [
    "print(training_data.info)\n",
    "print(training_data)"
   ]
  },
  {
   "cell_type": "code",
   "execution_count": 13,
   "metadata": {
    "colab": {},
    "colab_type": "code",
    "id": "_WwcDSg5hqla"
   },
   "outputs": [],
   "source": [
    "#Ler uma tabela astropy\n",
    "filename='training_set_metadata.csv'\n",
    "meta_training = Table.read(filename, format='ascii.csv')\n",
    "nobjects = len(meta_training)"
   ]
  },
  {
   "cell_type": "code",
   "execution_count": 14,
   "metadata": {
    "colab": {
     "base_uri": "https://localhost:8080/",
     "height": 289
    },
    "colab_type": "code",
    "executionInfo": {
     "elapsed": 24648,
     "status": "ok",
     "timestamp": 1544571669323,
     "user": {
      "displayName": "Tiago Gonçalves",
      "photoUrl": "https://lh3.googleusercontent.com/-81OqHtj8l6U/AAAAAAAAAAI/AAAAAAAAA3Y/37fQ2VQOX84/s64/photo.jpg",
      "userId": "08684494376977492713"
     },
     "user_tz": 0
    },
    "id": "U7-O8oIvhw_U",
    "outputId": "55ae8ca0-cd17-4144-f920-f2b3370e41fa"
   },
   "outputs": [
    {
     "name": "stdout",
     "output_type": "stream",
     "text": [
      "<Table length=7848>\n",
      "       name         dtype  n_bad\n",
      "------------------ ------- -----\n",
      "         object_id   int32     0\n",
      "                ra float64     0\n",
      "              decl float64     0\n",
      "             gal_l float64     0\n",
      "             gal_b float64     0\n",
      "               ddf   int32     0\n",
      "     hostgal_specz float64     0\n",
      "    hostgal_photoz float64     0\n",
      "hostgal_photoz_err float64     0\n",
      "           distmod float64  2325\n",
      "             mwebv float64     0\n",
      "            target   int32     0\n",
      "\n"
     ]
    }
   ],
   "source": [
    "print(meta_training.info)"
   ]
  },
  {
   "cell_type": "code",
   "execution_count": 15,
   "metadata": {
    "colab": {
     "base_uri": "https://localhost:8080/",
     "height": 442
    },
    "colab_type": "code",
    "executionInfo": {
     "elapsed": 24637,
     "status": "ok",
     "timestamp": 1544571669323,
     "user": {
      "displayName": "Tiago Gonçalves",
      "photoUrl": "https://lh3.googleusercontent.com/-81OqHtj8l6U/AAAAAAAAAAI/AAAAAAAAA3Y/37fQ2VQOX84/s64/photo.jpg",
      "userId": "08684494376977492713"
     },
     "user_tz": 0
    },
    "id": "PDt0aMdMhyyy",
    "outputId": "c8445f28-c2cd-41af-c33b-70d2bd1510fe"
   },
   "outputs": [
    {
     "name": "stdout",
     "output_type": "stream",
     "text": [
      "object_id     ra        decl      gal_l    ... distmod mwebv target\n",
      "--------- ---------- ---------- ---------- ... ------- ----- ------\n",
      "      615 349.046051 -61.943836  320.79653 ...     nan 0.017     92\n",
      "      713  53.085938 -27.784405 223.525509 ... 45.4063 0.007     88\n",
      "      730  33.574219  -6.579593 170.455585 ... 40.2561 0.021     42\n",
      "      745   0.189873 -45.586655 328.254458 ... 40.7951 0.007     90\n",
      "     1124 352.711273 -63.823658 316.922299 ... 40.4166 0.024     90\n",
      "     1227  35.683594  -5.379379 171.992947 ...     nan  0.02     65\n",
      "     1598  347.84671 -64.760857 318.929827 ... 39.7279 0.019     90\n",
      "     1632 348.595886  -63.07262 320.023289 ... 43.1524 0.021     42\n",
      "     1920 149.414062   3.433834 234.919132 ... 41.1401 0.027     90\n",
      "     1926 149.414062   1.940072 236.565366 ...     nan 0.018     65\n",
      "      ...        ...        ...        ... ...     ...   ...    ...\n",
      "130678775 142.734375 -23.480536 254.430952 ... 38.0319 0.056     64\n",
      "130684460 117.949219  -0.895283 220.752608 ...     nan 0.053     16\n",
      "130695262       90.0 -20.264481 226.045011 ... 46.6624 0.043     15\n",
      "130698059 142.734375 -18.997131 250.892051 ... 37.0254 0.045     67\n",
      "130716752 337.372894 -57.209084 332.816119 ...     nan 0.016     16\n",
      "130727624 294.960938  -4.031936  34.856817 ...     nan 0.291     65\n",
      "130739978   26.71875 -14.940303 172.342697 ...     nan 0.013     65\n",
      "130755807 120.101349 -62.696659 275.742955 ... 46.6108 0.136     90\n",
      "130762946 203.108109 -55.682144 308.728904 ...     nan  0.43     16\n",
      "130772921  79.101562 -35.501846 239.172243 ...     nan 0.034     65\n",
      "130779836 301.992188 -17.426323  25.102988 ...     nan 0.091      6\n",
      "Length = 7848 rows\n"
     ]
    }
   ],
   "source": [
    "print(meta_training)"
   ]
  },
  {
   "cell_type": "code",
   "execution_count": 16,
   "metadata": {
    "colab": {},
    "colab_type": "code",
    "id": "QYoN-qlvh5V1"
   },
   "outputs": [],
   "source": [
    "target_vec=np.asarray(meta_training['target'])"
   ]
  },
  {
   "cell_type": "code",
   "execution_count": 17,
   "metadata": {
    "colab": {
     "base_uri": "https://localhost:8080/",
     "height": 51
    },
    "colab_type": "code",
    "executionInfo": {
     "elapsed": 24628,
     "status": "ok",
     "timestamp": 1544571669326,
     "user": {
      "displayName": "Tiago Gonçalves",
      "photoUrl": "https://lh3.googleusercontent.com/-81OqHtj8l6U/AAAAAAAAAAI/AAAAAAAAA3Y/37fQ2VQOX84/s64/photo.jpg",
      "userId": "08684494376977492713"
     },
     "user_tz": 0
    },
    "id": "7hxA_yVih6IY",
    "outputId": "e8cc1a8d-6dd8-4dbc-b29b-041643535f0c"
   },
   "outputs": [
    {
     "name": "stdout",
     "output_type": "stream",
     "text": [
      "There are 14 unique targets.\n",
      "[ 6 15 16 42 52 53 62 64 65 67 88 90 92 95]\n"
     ]
    }
   ],
   "source": [
    "unique_targets = np.unique(target_vec)\n",
    "print (\"There are {} unique targets.\".format(len(unique_targets)))\n",
    "print (unique_targets)"
   ]
  },
  {
   "cell_type": "code",
   "execution_count": 18,
   "metadata": {
    "colab": {
     "base_uri": "https://localhost:8080/",
     "height": 523
    },
    "colab_type": "code",
    "executionInfo": {
     "elapsed": 24619,
     "status": "ok",
     "timestamp": 1544571669327,
     "user": {
      "displayName": "Tiago Gonçalves",
      "photoUrl": "https://lh3.googleusercontent.com/-81OqHtj8l6U/AAAAAAAAAAI/AAAAAAAAA3Y/37fQ2VQOX84/s64/photo.jpg",
      "userId": "08684494376977492713"
     },
     "user_tz": 0
    },
    "id": "qcFaWgjTh74G",
    "outputId": "7473c52a-3914-4fe3-b646-90d0a0f10fb7"
   },
   "outputs": [
    {
     "name": "stdout",
     "output_type": "stream",
     "text": [
      "Number of objects of each class\n",
      "[   0.  495.  924. 1193.  183.   30.  484.  102.  981.  208.  370. 2313.\n",
      "  239.  175.]\n"
     ]
    },
    {
     "data": {
      "image/png": "[encoded data removed]",
      "text/plain": [
       "<Figure size 640x480 with 1 Axes>"
      ]
     },
     "metadata": {},
     "output_type": "display_data"
    }
   ],
   "source": [
    "hist_count=np.zeros([len(unique_targets),1])\n",
    "for i in range (1,len(unique_targets)):\n",
    "    hist_count[i,0]=np.count_nonzero(target_vec[target_vec==unique_targets[i]])\n",
    "\n",
    "\n",
    "print('Number of objects of each class')\n",
    "print(hist_count.ravel())\n",
    " \n",
    "import matplotlib.pyplot as plt; plt.rcdefaults()\n",
    "objects = ('6', '15', '16', '42', '52', '53', '62','64','65','67','88','90','92','95')\n",
    "y_pos = np.arange(len(objects))\n",
    "performance = hist_count.ravel()\n",
    "\n",
    "plt.bar(y_pos, performance, align='center', alpha=0.5)\n",
    "plt.xticks(y_pos, objects)\n",
    "plt.ylabel('Amount')\n",
    "plt.xlabel('Object class')\n",
    "plt.title('Number of objects from each class') \n",
    "plt.show()"
   ]
  },
  {
   "cell_type": "code",
   "execution_count": 19,
   "metadata": {
    "colab": {
     "base_uri": "https://localhost:8080/",
     "height": 453
    },
    "colab_type": "code",
    "executionInfo": {
     "elapsed": 25183,
     "status": "ok",
     "timestamp": 1544571669901,
     "user": {
      "displayName": "Tiago Gonçalves",
      "photoUrl": "https://lh3.googleusercontent.com/-81OqHtj8l6U/AAAAAAAAAAI/AAAAAAAAA3Y/37fQ2VQOX84/s64/photo.jpg",
      "userId": "08684494376977492713"
     },
     "user_tz": 0
    },
    "id": "gBDOE2hHmkZa",
    "outputId": "44fc48b0-e52a-4551-dc71-a4cab0ab044c"
   },
   "outputs": [
    {
     "data": {
      "image/png": "[encoded data removed]",
      "text/plain": [
       "<Figure size 640x480 with 1 Axes>"
      ]
     },
     "metadata": {},
     "output_type": "display_data"
    }
   ],
   "source": [
    "counts = Counter(meta_training['target'])\n",
    "labels, values = zip(*sorted(counts.items(), key=itemgetter(1)))\n",
    "\n",
    "\n",
    "cmap = plt.cm.tab20\n",
    "nlines = len(labels)\n",
    "classcolor =  list(cmap(np.linspace(0,1,nlines)))[::-1]\n",
    "\n",
    "# we'll create a mapping between class and color\n",
    "classcolmap = dict(zip(labels, classcolor))\n",
    "\n",
    "indexes = np.arange(nlines)\n",
    "width = 1\n",
    "plt.bar(indexes, values, width, edgecolor='k',\\\n",
    "       linewidth=1.5, tick_label=labels, log=True, color=classcolor)\n",
    "plt.xlabel('Target')\n",
    "plt.ylabel('Number of Objects')\n",
    "plt.show()"
   ]
  },
  {
   "cell_type": "markdown",
   "metadata": {
    "colab_type": "text",
    "id": "IIGiVwAfiSbI"
   },
   "source": [
    "Dict das bandas passantes"
   ]
  },
  {
   "cell_type": "code",
   "execution_count": 20,
   "metadata": {
    "colab": {},
    "colab_type": "code",
    "id": "m9oUYwlaiVph"
   },
   "outputs": [],
   "source": [
    "pbmap = OrderedDict([(0,'u'), (1,'g'), (2,'r'), (3,'i'), (4, 'z'), (5, 'y')])\n",
    "\n",
    "# it also helps to have passbands associated with a color\n",
    "pbcols = OrderedDict([(0,'blueviolet'), (1,'green'), (2,'red'),\\\n",
    "                      (3,'orange'), (4, 'black'), (5, 'brown')])\n",
    "\n",
    "pbnames = list(pbmap.values())"
   ]
  },
  {
   "cell_type": "markdown",
   "metadata": {
    "colab_type": "text",
    "id": "BJSjXOy4iWrK"
   },
   "source": [
    "Criar as timeseries com o cesium"
   ]
  },
  {
   "cell_type": "code",
   "execution_count": 21,
   "metadata": {
    "colab": {
     "base_uri": "https://localhost:8080/",
     "height": 51
    },
    "colab_type": "code",
    "executionInfo": {
     "elapsed": 79765,
     "status": "ok",
     "timestamp": 1544571724495,
     "user": {
      "displayName": "Tiago Gonçalves",
      "photoUrl": "https://lh3.googleusercontent.com/-81OqHtj8l6U/AAAAAAAAAAI/AAAAAAAAA3Y/37fQ2VQOX84/s64/photo.jpg",
      "userId": "08684494376977492713"
     },
     "user_tz": 0
    },
    "id": "3CdRQ-1dnIL2",
    "outputId": "1ddd4314-a92b-4fee-9d82-81c98130dec0"
   },
   "outputs": [
    {
     "data": {
      "application/vnd.jupyter.widget-view+json": {
       "model_id": "dcd9aea90cd9465093cb49b5203a0da2",
       "version_major": 2,
       "version_minor": 0
      },
      "text/plain": [
       "SEJveChjaGlsZHJlbj0oSW50UHJvZ3Jlc3ModmFsdWU9MCwgZGVzY3JpcHRpb249dSdCdWlsZGluZyBUaW1lc2VyaWVzJywgbWF4PTc4NDgsIHN0eWxlPVByb2dyZXNzU3R5bGUoZGVzY3JpcHTigKY=\n"
      ]
     },
     "metadata": {},
     "output_type": "display_data"
    },
    {
     "name": "stdout",
     "output_type": "stream",
     "text": [
      "\n"
     ]
    }
   ],
   "source": [
    "import ipywidgets\n",
    "\n",
    "tsdict = OrderedDict() #time series dict\n",
    "\n",
    "for i in tnrange(nobjects, desc='Building Timeseries'):\n",
    "    row = meta_training[i]\n",
    "    thisid = row['object_id']\n",
    "    target = row['target']\n",
    "    \n",
    "    meta = {'z':row['hostgal_photoz'],\\\n",
    "            'zerr':row['hostgal_photoz_err'],\\\n",
    "            'mwebv':row['mwebv']}\n",
    "    \n",
    "    ind = (training_data['object_id'] == thisid)\n",
    "    thislc = training_data[ind]\n",
    "\n",
    "    pbind = [(thislc['passband'] == pb) for pb in pbmap]\n",
    "    t = [thislc['mjd'][mask].data for mask in pbind ]\n",
    "    m = [thislc['flux'][mask].data for mask in pbind ]\n",
    "    e = [thislc['flux_err'][mask].data for mask in pbind ]\n",
    "\n",
    "    tsdict[thisid] = TimeSeries(t=t, m=m, e=e,\\\n",
    "                        label=target, name=thisid, meta_features=meta,\\\n",
    "                        channel_names=pbnames )\n",
    "    \n",
    "del training_data"
   ]
  },
  {
   "cell_type": "code",
   "execution_count": 22,
   "metadata": {
    "colab": {},
    "colab_type": "code",
    "id": "XrJnoRC_nQEK"
   },
   "outputs": [],
   "source": [
    "#print('Famílias de wavelets disponíveis')\n",
    "#print(pywt.wavelist())"
   ]
  },
  {
   "cell_type": "code",
   "execution_count": 23,
   "metadata": {
    "colab": {},
    "colab_type": "code",
    "id": "SlOEzBxcq7Jh"
   },
   "outputs": [],
   "source": [
    "'''\n",
    "À trous wavelet transform é esta!!!!!! https://pywavelets.readthedocs.io/en/latest/ref/swt-stationary-wavelet-transform.html\n",
    "'''\n",
    "# Criar o objeto wavelet\n",
    "w = pywt.Wavelet('sym2')\n",
    "#calculo que a família de wavelets que escolhi seja a symlet, pelo nome, e que é uma two level wavelet transform, mas confirmar"
   ]
  },
  {
   "cell_type": "code",
   "execution_count": 24,
   "metadata": {
    "colab": {
     "base_uri": "https://localhost:8080/",
     "height": 170
    },
    "colab_type": "code",
    "executionInfo": {
     "elapsed": 79746,
     "status": "ok",
     "timestamp": 1544571724499,
     "user": {
      "displayName": "Tiago Gonçalves",
      "photoUrl": "https://lh3.googleusercontent.com/-81OqHtj8l6U/AAAAAAAAAAI/AAAAAAAAA3Y/37fQ2VQOX84/s64/photo.jpg",
      "userId": "08684494376977492713"
     },
     "user_tz": 0
    },
    "id": "jIhQLHWju_6Z",
    "outputId": "a80f49cc-7f46-4fe7-8fed-0a14ae6172ce"
   },
   "outputs": [
    {
     "name": "stdout",
     "output_type": "stream",
     "text": [
      "Wavelet sym2\n",
      "  Family name:    Symlets\n",
      "  Short name:     sym\n",
      "  Filters length: 4\n",
      "  Orthogonal:     True\n",
      "  Biorthogonal:   True\n",
      "  Symmetry:       near symmetric\n",
      "  DWT:            True\n",
      "  CWT:            False\n"
     ]
    }
   ],
   "source": [
    "print(w)"
   ]
  },
  {
   "cell_type": "code",
   "execution_count": 26,
   "metadata": {
    "colab": {
     "base_uri": "https://localhost:8080/",
     "height": 232
    },
    "colab_type": "code",
    "executionInfo": {
     "elapsed": 535,
     "status": "error",
     "timestamp": 1544575783125,
     "user": {
      "displayName": "Tiago Gonçalves",
      "photoUrl": "https://lh3.googleusercontent.com/-81OqHtj8l6U/AAAAAAAAAAI/AAAAAAAAA3Y/37fQ2VQOX84/s64/photo.jpg",
      "userId": "08684494376977492713"
     },
     "user_tz": 0
    },
    "id": "XgmdpTSurKAB",
    "outputId": "8f9e76c6-7bc5-4f34-8bb9-77b6e18b1e23"
   },
   "outputs": [
    {
     "name": "stdout",
     "output_type": "stream",
     "text": [
      "7848\n",
      "7848\n",
      "7848\n"
     ]
    }
   ],
   "source": [
    "space_times = []\n",
    "space_measurements = []\n",
    "space_errors = []\n",
    "for index in tsdict:\n",
    "  n_channels = tsdict[index].n_channels\n",
    "  space_times.append([t for t in tsdict[index].time])\n",
    "  #space_measurements.append([pywt.wavedec(m, pywt.Wavelet(\"sym2\"), level=n_channels) for m in tsdict[index].measurement])\n",
    "  space_measurements.append([m for m in tsdict[index].measurement])\n",
    "  space_errors.append([e for e in tsdict[index].error])\n",
    "\n",
    "#print(space_times)\n",
    "#print(\"\\n\")\n",
    "#print(space_measurements)\n",
    "#print(\"\\n\")\n",
    "#print(space_errors)\n",
    "\n",
    "#Sample code\n",
    "#n_channels = tsdict[615].n_channels\n",
    "#space[\"times\"] = [t for t in tsdict[615].time]\n",
    "#space[\"dwts\"] = [pywt.wavedec(m, pywt.Wavelet(\"sym2\"), level=n_channels) for m in tsdict[615].measurement]\n",
    "#space[\"errors\"] = [e for e in tsdict[615].error]\n",
    "#fset_dwt = featurize.featurize_time_series(times=None, values=space[\"dwts\"], errors=None, meta_features=tsdict[615].meta_features)\n",
    "#fset_nowave = featurize.featurize_time_series(times=space[\"times\"])\n",
    "#print(fset_dwt.head())\n",
    "#space[\"times\"]\n",
    "#for m in tsdict[615].measurement:\n",
    "  #print((m))\n",
    "    \n",
    "print(len(space_times))\n",
    "print(len(space_measurements))\n",
    "print(len(space_errors))"
   ]
  },
  {
   "cell_type": "code",
   "execution_count": 27,
   "metadata": {},
   "outputs": [
    {
     "name": "stdout",
     "output_type": "stream",
     "text": [
      "7848\n"
     ]
    }
   ],
   "source": [
    "space_meta_features = []\n",
    "for index in tsdict:\n",
    "  space_meta_features.append(tsdict[index].meta_features)\n",
    "print(len(space_meta_features))"
   ]
  },
  {
   "cell_type": "code",
   "execution_count": 30,
   "metadata": {},
   "outputs": [],
   "source": [
    "import pickle              # import module first\n",
    "\n",
    "#f = open('space_times.p', 'w')   # Pickle file is newly created where foo1.py is\n",
    "#pickle.dump(space_times, f)          # dump data to f\n",
    "#f.close()\n",
    "#f = open('space_measurements.p', 'w')   # Pickle file is newly created where foo1.py is\n",
    "#pickle.dump(space_measurements, f)          # dump data to f\n",
    "#f.close()\n",
    "#f = open('space_errors.p', 'w')   # Pickle file is newly created where foo1.py is\n",
    "#pickle.dump(space_errors, f)          # dump data to f\n",
    "#f.close()"
   ]
  },
  {
   "cell_type": "code",
   "execution_count": 31,
   "metadata": {},
   "outputs": [
    {
     "name": "stdout",
     "output_type": "stream",
     "text": [
      "7848\n"
     ]
    }
   ],
   "source": [
    "space_meta_features = []\n",
    "for index in tsdict:\n",
    "  space_meta_features.append(tsdict[index].meta_features)\n",
    "print(len(space_meta_features))"
   ]
  },
  {
   "cell_type": "code",
   "execution_count": 32,
   "metadata": {},
   "outputs": [],
   "source": [
    "#f = open('space_meta_features.p', 'w')   # Pickle file is newly created where foo1.py is\n",
    "#pickle.dump(space_meta_features, f)          # dump data to f\n",
    "#f.close()"
   ]
  },
  {
   "cell_type": "code",
   "execution_count": 33,
   "metadata": {},
   "outputs": [
    {
     "name": "stderr",
     "output_type": "stream",
     "text": [
      "C:\\Users\\tiago\\AppData\\Local\\conda\\conda\\envs\\ml\\lib\\site-packages\\cesium\\features\\amplitude.py:48: RuntimeWarning: overflow encountered in power\n",
      "  linear_scale_data = base ** (exponent * x)\n",
      "C:\\Users\\tiago\\AppData\\Local\\conda\\conda\\envs\\ml\\lib\\site-packages\\cesium\\features\\amplitude.py:51: RuntimeWarning: invalid value encountered in double_scalars\n",
      "  return (y_high - y_low) / (y_95 - y_5)\n",
      "C:\\Users\\tiago\\AppData\\Local\\conda\\conda\\envs\\ml\\lib\\site-packages\\cesium\\features\\amplitude.py:18: RuntimeWarning: overflow encountered in power\n",
      "  linear_scale_data = base ** (exponent * x)\n",
      "C:\\Users\\tiago\\AppData\\Local\\conda\\conda\\envs\\ml\\lib\\site-packages\\cesium\\features\\amplitude.py:35: RuntimeWarning: overflow encountered in power\n",
      "  linear_scale_data = base ** (exponent * x)\n",
      "C:\\Users\\tiago\\AppData\\Local\\conda\\conda\\envs\\ml\\lib\\site-packages\\numpy\\core\\_methods.py:117: RuntimeWarning: invalid value encountered in subtract\n",
      "  x = asanyarray(arr - arrmean)\n",
      "C:\\Users\\tiago\\AppData\\Local\\conda\\conda\\envs\\ml\\lib\\site-packages\\cesium\\features\\cadence_features.py:12: RuntimeWarning: divide by zero encountered in divide\n",
      "  return (cads[2:] + cads[:-2]) / (cads[1:-1] - cads[:-2])\n",
      "C:\\Users\\tiago\\AppData\\Local\\conda\\conda\\envs\\ml\\lib\\site-packages\\cesium\\features\\amplitude.py:22: RuntimeWarning: invalid value encountered in double_scalars\n",
      "  return max(abs((y_max - y_med) / y_med), abs((y_med - y_min) / y_med))\n",
      "C:\\Users\\tiago\\AppData\\Local\\conda\\conda\\envs\\ml\\lib\\site-packages\\cesium\\features\\amplitude.py:37: RuntimeWarning: invalid value encountered in double_scalars\n",
      "  return (y_95 - y_5) / y_50\n",
      "C:\\Users\\tiago\\AppData\\Local\\conda\\conda\\envs\\ml\\lib\\site-packages\\numpy\\lib\\function_base.py:3768: RuntimeWarning: invalid value encountered in multiply\n",
      "  x2 = take(ap, indices_above, axis=axis) * weights_above\n",
      "C:\\Users\\tiago\\AppData\\Local\\conda\\conda\\envs\\ml\\lib\\site-packages\\cesium\\features\\amplitude.py:22: RuntimeWarning: divide by zero encountered in double_scalars\n",
      "  return max(abs((y_max - y_med) / y_med), abs((y_med - y_min) / y_med))\n",
      "C:\\Users\\tiago\\AppData\\Local\\conda\\conda\\envs\\ml\\lib\\site-packages\\cesium\\features\\amplitude.py:37: RuntimeWarning: divide by zero encountered in double_scalars\n",
      "  return (y_95 - y_5) / y_50\n",
      "C:\\Users\\tiago\\AppData\\Local\\conda\\conda\\envs\\ml\\lib\\site-packages\\cesium\\features\\amplitude.py:37: RuntimeWarning: overflow encountered in double_scalars\n",
      "  return (y_95 - y_5) / y_50\n",
      "C:\\Users\\tiago\\AppData\\Local\\conda\\conda\\envs\\ml\\lib\\site-packages\\cesium\\features\\amplitude.py:22: RuntimeWarning: overflow encountered in double_scalars\n",
      "  return max(abs((y_max - y_med) / y_med), abs((y_med - y_min) / y_med))\n"
     ]
    },
    {
     "ename": "KeyboardInterrupt",
     "evalue": "",
     "output_type": "error",
     "traceback": [
      "\u001b[1;31m---------------------------------------------------------------------------\u001b[0m",
      "\u001b[1;31mKeyboardInterrupt\u001b[0m                         Traceback (most recent call last)",
      "\u001b[1;32m<ipython-input-33-c4f4d7439c5e>\u001b[0m in \u001b[0;36m<module>\u001b[1;34m()\u001b[0m\n\u001b[0;32m      2\u001b[0m \u001b[1;32mfor\u001b[0m \u001b[0mindex\u001b[0m \u001b[1;32min\u001b[0m \u001b[0mrange\u001b[0m\u001b[1;33m(\u001b[0m\u001b[0mlen\u001b[0m\u001b[1;33m(\u001b[0m\u001b[0mspace_meta_features\u001b[0m\u001b[1;33m)\u001b[0m\u001b[1;33m)\u001b[0m\u001b[1;33m:\u001b[0m\u001b[1;33m\u001b[0m\u001b[0m\n\u001b[0;32m      3\u001b[0m   fset = featurize.featurize_time_series(times=space_times[index], values=space_measurements[index], errors=space_errors[index], \n\u001b[1;32m----> 4\u001b[1;33m                                          meta_features=space_meta_features[index])\n\u001b[0m\u001b[0;32m      5\u001b[0m   \u001b[0mfeatures\u001b[0m\u001b[1;33m.\u001b[0m\u001b[0mappend\u001b[0m\u001b[1;33m(\u001b[0m\u001b[0mfset\u001b[0m\u001b[1;33m)\u001b[0m\u001b[1;33m\u001b[0m\u001b[0m\n\u001b[0;32m      6\u001b[0m \u001b[1;32mprint\u001b[0m\u001b[1;33m(\u001b[0m\u001b[0mlen\u001b[0m\u001b[1;33m(\u001b[0m\u001b[0mfeatures\u001b[0m\u001b[1;33m)\u001b[0m\u001b[1;33m)\u001b[0m\u001b[1;33m\u001b[0m\u001b[0m\n",
      "\u001b[1;32mC:\\Users\\tiago\\AppData\\Local\\conda\\conda\\envs\\ml\\lib\\site-packages\\cesium\\featurize.pyc\u001b[0m in \u001b[0;36mfeaturize_time_series\u001b[1;34m(times, values, errors, features_to_use, meta_features, names, custom_script_path, custom_functions, scheduler, raise_exceptions)\u001b[0m\n\u001b[0;32m    256\u001b[0m                     for ts in all_time_series]\n\u001b[0;32m    257\u001b[0m     \u001b[0mresult\u001b[0m \u001b[1;33m=\u001b[0m \u001b[0mdelayed\u001b[0m\u001b[1;33m(\u001b[0m\u001b[0massemble_featureset\u001b[0m\u001b[1;33m,\u001b[0m \u001b[0mpure\u001b[0m\u001b[1;33m=\u001b[0m\u001b[0mTrue\u001b[0m\u001b[1;33m)\u001b[0m\u001b[1;33m(\u001b[0m\u001b[0mall_features\u001b[0m\u001b[1;33m,\u001b[0m \u001b[0mall_time_series\u001b[0m\u001b[1;33m)\u001b[0m\u001b[1;33m\u001b[0m\u001b[0m\n\u001b[1;32m--> 258\u001b[1;33m     \u001b[1;32mreturn\u001b[0m \u001b[0mresult\u001b[0m\u001b[1;33m.\u001b[0m\u001b[0mcompute\u001b[0m\u001b[1;33m(\u001b[0m\u001b[0mscheduler\u001b[0m\u001b[1;33m=\u001b[0m\u001b[0mscheduler\u001b[0m\u001b[1;33m)\u001b[0m\u001b[1;33m\u001b[0m\u001b[0m\n\u001b[0m\u001b[0;32m    259\u001b[0m \u001b[1;33m\u001b[0m\u001b[0m\n\u001b[0;32m    260\u001b[0m \u001b[1;33m\u001b[0m\u001b[0m\n",
      "\u001b[1;32mC:\\Users\\tiago\\AppData\\Local\\conda\\conda\\envs\\ml\\lib\\site-packages\\dask\\base.pyc\u001b[0m in \u001b[0;36mcompute\u001b[1;34m(self, **kwargs)\u001b[0m\n\u001b[0;32m    154\u001b[0m         \u001b[0mdask\u001b[0m\u001b[1;33m.\u001b[0m\u001b[0mbase\u001b[0m\u001b[1;33m.\u001b[0m\u001b[0mcompute\u001b[0m\u001b[1;33m\u001b[0m\u001b[0m\n\u001b[0;32m    155\u001b[0m         \"\"\"\n\u001b[1;32m--> 156\u001b[1;33m         \u001b[1;33m(\u001b[0m\u001b[0mresult\u001b[0m\u001b[1;33m,\u001b[0m\u001b[1;33m)\u001b[0m \u001b[1;33m=\u001b[0m \u001b[0mcompute\u001b[0m\u001b[1;33m(\u001b[0m\u001b[0mself\u001b[0m\u001b[1;33m,\u001b[0m \u001b[0mtraverse\u001b[0m\u001b[1;33m=\u001b[0m\u001b[0mFalse\u001b[0m\u001b[1;33m,\u001b[0m \u001b[1;33m**\u001b[0m\u001b[0mkwargs\u001b[0m\u001b[1;33m)\u001b[0m\u001b[1;33m\u001b[0m\u001b[0m\n\u001b[0m\u001b[0;32m    157\u001b[0m         \u001b[1;32mreturn\u001b[0m \u001b[0mresult\u001b[0m\u001b[1;33m\u001b[0m\u001b[0m\n\u001b[0;32m    158\u001b[0m \u001b[1;33m\u001b[0m\u001b[0m\n",
      "\u001b[1;32mC:\\Users\\tiago\\AppData\\Local\\conda\\conda\\envs\\ml\\lib\\site-packages\\dask\\base.pyc\u001b[0m in \u001b[0;36mcompute\u001b[1;34m(*args, **kwargs)\u001b[0m\n\u001b[0;32m    395\u001b[0m     \u001b[0mkeys\u001b[0m \u001b[1;33m=\u001b[0m \u001b[1;33m[\u001b[0m\u001b[0mx\u001b[0m\u001b[1;33m.\u001b[0m\u001b[0m__dask_keys__\u001b[0m\u001b[1;33m(\u001b[0m\u001b[1;33m)\u001b[0m \u001b[1;32mfor\u001b[0m \u001b[0mx\u001b[0m \u001b[1;32min\u001b[0m \u001b[0mcollections\u001b[0m\u001b[1;33m]\u001b[0m\u001b[1;33m\u001b[0m\u001b[0m\n\u001b[0;32m    396\u001b[0m     \u001b[0mpostcomputes\u001b[0m \u001b[1;33m=\u001b[0m \u001b[1;33m[\u001b[0m\u001b[0mx\u001b[0m\u001b[1;33m.\u001b[0m\u001b[0m__dask_postcompute__\u001b[0m\u001b[1;33m(\u001b[0m\u001b[1;33m)\u001b[0m \u001b[1;32mfor\u001b[0m \u001b[0mx\u001b[0m \u001b[1;32min\u001b[0m \u001b[0mcollections\u001b[0m\u001b[1;33m]\u001b[0m\u001b[1;33m\u001b[0m\u001b[0m\n\u001b[1;32m--> 397\u001b[1;33m     \u001b[0mresults\u001b[0m \u001b[1;33m=\u001b[0m \u001b[0mschedule\u001b[0m\u001b[1;33m(\u001b[0m\u001b[0mdsk\u001b[0m\u001b[1;33m,\u001b[0m \u001b[0mkeys\u001b[0m\u001b[1;33m,\u001b[0m \u001b[1;33m**\u001b[0m\u001b[0mkwargs\u001b[0m\u001b[1;33m)\u001b[0m\u001b[1;33m\u001b[0m\u001b[0m\n\u001b[0m\u001b[0;32m    398\u001b[0m     \u001b[1;32mreturn\u001b[0m \u001b[0mrepack\u001b[0m\u001b[1;33m(\u001b[0m\u001b[1;33m[\u001b[0m\u001b[0mf\u001b[0m\u001b[1;33m(\u001b[0m\u001b[0mr\u001b[0m\u001b[1;33m,\u001b[0m \u001b[1;33m*\u001b[0m\u001b[0ma\u001b[0m\u001b[1;33m)\u001b[0m \u001b[1;32mfor\u001b[0m \u001b[0mr\u001b[0m\u001b[1;33m,\u001b[0m \u001b[1;33m(\u001b[0m\u001b[0mf\u001b[0m\u001b[1;33m,\u001b[0m \u001b[0ma\u001b[0m\u001b[1;33m)\u001b[0m \u001b[1;32min\u001b[0m \u001b[0mzip\u001b[0m\u001b[1;33m(\u001b[0m\u001b[0mresults\u001b[0m\u001b[1;33m,\u001b[0m \u001b[0mpostcomputes\u001b[0m\u001b[1;33m)\u001b[0m\u001b[1;33m]\u001b[0m\u001b[1;33m)\u001b[0m\u001b[1;33m\u001b[0m\u001b[0m\n\u001b[0;32m    399\u001b[0m \u001b[1;33m\u001b[0m\u001b[0m\n",
      "\u001b[1;32mC:\\Users\\tiago\\AppData\\Local\\conda\\conda\\envs\\ml\\lib\\site-packages\\dask\\threaded.pyc\u001b[0m in \u001b[0;36mget\u001b[1;34m(dsk, result, cache, num_workers, **kwargs)\u001b[0m\n\u001b[0;32m     74\u001b[0m     results = get_async(pool.apply_async, len(pool._pool), dsk, result,\n\u001b[0;32m     75\u001b[0m                         \u001b[0mcache\u001b[0m\u001b[1;33m=\u001b[0m\u001b[0mcache\u001b[0m\u001b[1;33m,\u001b[0m \u001b[0mget_id\u001b[0m\u001b[1;33m=\u001b[0m\u001b[0m_thread_get_id\u001b[0m\u001b[1;33m,\u001b[0m\u001b[1;33m\u001b[0m\u001b[0m\n\u001b[1;32m---> 76\u001b[1;33m                         pack_exception=pack_exception, **kwargs)\n\u001b[0m\u001b[0;32m     77\u001b[0m \u001b[1;33m\u001b[0m\u001b[0m\n\u001b[0;32m     78\u001b[0m     \u001b[1;31m# Cleanup pools associated to dead threads\u001b[0m\u001b[1;33m\u001b[0m\u001b[1;33m\u001b[0m\u001b[0m\n",
      "\u001b[1;32mC:\\Users\\tiago\\AppData\\Local\\conda\\conda\\envs\\ml\\lib\\site-packages\\dask\\local.pyc\u001b[0m in \u001b[0;36mget_async\u001b[1;34m(apply_async, num_workers, dsk, result, cache, get_id, rerun_exceptions_locally, pack_exception, raise_exception, callbacks, dumps, loads, **kwargs)\u001b[0m\n\u001b[0;32m    490\u001b[0m             \u001b[1;31m# Main loop, wait on tasks to finish, insert new ones\u001b[0m\u001b[1;33m\u001b[0m\u001b[1;33m\u001b[0m\u001b[0m\n\u001b[0;32m    491\u001b[0m             \u001b[1;32mwhile\u001b[0m \u001b[0mstate\u001b[0m\u001b[1;33m[\u001b[0m\u001b[1;34m'waiting'\u001b[0m\u001b[1;33m]\u001b[0m \u001b[1;32mor\u001b[0m \u001b[0mstate\u001b[0m\u001b[1;33m[\u001b[0m\u001b[1;34m'ready'\u001b[0m\u001b[1;33m]\u001b[0m \u001b[1;32mor\u001b[0m \u001b[0mstate\u001b[0m\u001b[1;33m[\u001b[0m\u001b[1;34m'running'\u001b[0m\u001b[1;33m]\u001b[0m\u001b[1;33m:\u001b[0m\u001b[1;33m\u001b[0m\u001b[0m\n\u001b[1;32m--> 492\u001b[1;33m                 \u001b[0mkey\u001b[0m\u001b[1;33m,\u001b[0m \u001b[0mres_info\u001b[0m\u001b[1;33m,\u001b[0m \u001b[0mfailed\u001b[0m \u001b[1;33m=\u001b[0m \u001b[0mqueue_get\u001b[0m\u001b[1;33m(\u001b[0m\u001b[0mqueue\u001b[0m\u001b[1;33m)\u001b[0m\u001b[1;33m\u001b[0m\u001b[0m\n\u001b[0m\u001b[0;32m    493\u001b[0m                 \u001b[1;32mif\u001b[0m \u001b[0mfailed\u001b[0m\u001b[1;33m:\u001b[0m\u001b[1;33m\u001b[0m\u001b[0m\n\u001b[0;32m    494\u001b[0m                     \u001b[0mexc\u001b[0m\u001b[1;33m,\u001b[0m \u001b[0mtb\u001b[0m \u001b[1;33m=\u001b[0m \u001b[0mloads\u001b[0m\u001b[1;33m(\u001b[0m\u001b[0mres_info\u001b[0m\u001b[1;33m)\u001b[0m\u001b[1;33m\u001b[0m\u001b[0m\n",
      "\u001b[1;32mC:\\Users\\tiago\\AppData\\Local\\conda\\conda\\envs\\ml\\lib\\site-packages\\dask\\local.pyc\u001b[0m in \u001b[0;36mqueue_get\u001b[1;34m(q)\u001b[0m\n\u001b[0;32m    124\u001b[0m     \u001b[1;31m# For more information see: https://bugs.python.org/issue1360\u001b[0m\u001b[1;33m\u001b[0m\u001b[1;33m\u001b[0m\u001b[0m\n\u001b[0;32m    125\u001b[0m     \u001b[1;32mdef\u001b[0m \u001b[0mqueue_get\u001b[0m\u001b[1;33m(\u001b[0m\u001b[0mq\u001b[0m\u001b[1;33m)\u001b[0m\u001b[1;33m:\u001b[0m\u001b[1;33m\u001b[0m\u001b[0m\n\u001b[1;32m--> 126\u001b[1;33m         \u001b[1;32mreturn\u001b[0m \u001b[0mq\u001b[0m\u001b[1;33m.\u001b[0m\u001b[0mget\u001b[0m\u001b[1;33m(\u001b[0m\u001b[0mblock\u001b[0m\u001b[1;33m=\u001b[0m\u001b[0mTrue\u001b[0m\u001b[1;33m,\u001b[0m \u001b[0mtimeout\u001b[0m\u001b[1;33m=\u001b[0m\u001b[1;33m(\u001b[0m\u001b[1;36m365\u001b[0m \u001b[1;33m*\u001b[0m \u001b[1;36m24\u001b[0m \u001b[1;33m*\u001b[0m \u001b[1;36m60\u001b[0m \u001b[1;33m*\u001b[0m \u001b[1;36m60\u001b[0m\u001b[1;33m)\u001b[0m\u001b[1;33m)\u001b[0m\u001b[1;33m\u001b[0m\u001b[0m\n\u001b[0m\u001b[0;32m    127\u001b[0m \u001b[1;33m\u001b[0m\u001b[0m\n\u001b[0;32m    128\u001b[0m \u001b[1;32melif\u001b[0m \u001b[0mos\u001b[0m\u001b[1;33m.\u001b[0m\u001b[0mname\u001b[0m \u001b[1;33m==\u001b[0m \u001b[1;34m'nt'\u001b[0m\u001b[1;33m:\u001b[0m\u001b[1;33m\u001b[0m\u001b[0m\n",
      "\u001b[1;32mC:\\Users\\tiago\\AppData\\Local\\conda\\conda\\envs\\ml\\lib\\Queue.pyc\u001b[0m in \u001b[0;36mget\u001b[1;34m(self, block, timeout)\u001b[0m\n\u001b[0;32m    175\u001b[0m                     \u001b[1;32mif\u001b[0m \u001b[0mremaining\u001b[0m \u001b[1;33m<=\u001b[0m \u001b[1;36m0.0\u001b[0m\u001b[1;33m:\u001b[0m\u001b[1;33m\u001b[0m\u001b[0m\n\u001b[0;32m    176\u001b[0m                         \u001b[1;32mraise\u001b[0m \u001b[0mEmpty\u001b[0m\u001b[1;33m\u001b[0m\u001b[0m\n\u001b[1;32m--> 177\u001b[1;33m                     \u001b[0mself\u001b[0m\u001b[1;33m.\u001b[0m\u001b[0mnot_empty\u001b[0m\u001b[1;33m.\u001b[0m\u001b[0mwait\u001b[0m\u001b[1;33m(\u001b[0m\u001b[0mremaining\u001b[0m\u001b[1;33m)\u001b[0m\u001b[1;33m\u001b[0m\u001b[0m\n\u001b[0m\u001b[0;32m    178\u001b[0m             \u001b[0mitem\u001b[0m \u001b[1;33m=\u001b[0m \u001b[0mself\u001b[0m\u001b[1;33m.\u001b[0m\u001b[0m_get\u001b[0m\u001b[1;33m(\u001b[0m\u001b[1;33m)\u001b[0m\u001b[1;33m\u001b[0m\u001b[0m\n\u001b[0;32m    179\u001b[0m             \u001b[0mself\u001b[0m\u001b[1;33m.\u001b[0m\u001b[0mnot_full\u001b[0m\u001b[1;33m.\u001b[0m\u001b[0mnotify\u001b[0m\u001b[1;33m(\u001b[0m\u001b[1;33m)\u001b[0m\u001b[1;33m\u001b[0m\u001b[0m\n",
      "\u001b[1;32mC:\\Users\\tiago\\AppData\\Local\\conda\\conda\\envs\\ml\\lib\\threading.pyc\u001b[0m in \u001b[0;36mwait\u001b[1;34m(self, timeout)\u001b[0m\n\u001b[0;32m    357\u001b[0m                         \u001b[1;32mbreak\u001b[0m\u001b[1;33m\u001b[0m\u001b[0m\n\u001b[0;32m    358\u001b[0m                     \u001b[0mdelay\u001b[0m \u001b[1;33m=\u001b[0m \u001b[0mmin\u001b[0m\u001b[1;33m(\u001b[0m\u001b[0mdelay\u001b[0m \u001b[1;33m*\u001b[0m \u001b[1;36m2\u001b[0m\u001b[1;33m,\u001b[0m \u001b[0mremaining\u001b[0m\u001b[1;33m,\u001b[0m \u001b[1;36m.05\u001b[0m\u001b[1;33m)\u001b[0m\u001b[1;33m\u001b[0m\u001b[0m\n\u001b[1;32m--> 359\u001b[1;33m                     \u001b[0m_sleep\u001b[0m\u001b[1;33m(\u001b[0m\u001b[0mdelay\u001b[0m\u001b[1;33m)\u001b[0m\u001b[1;33m\u001b[0m\u001b[0m\n\u001b[0m\u001b[0;32m    360\u001b[0m                 \u001b[1;32mif\u001b[0m \u001b[1;32mnot\u001b[0m \u001b[0mgotit\u001b[0m\u001b[1;33m:\u001b[0m\u001b[1;33m\u001b[0m\u001b[0m\n\u001b[0;32m    361\u001b[0m                     \u001b[1;32mif\u001b[0m \u001b[0m__debug__\u001b[0m\u001b[1;33m:\u001b[0m\u001b[1;33m\u001b[0m\u001b[0m\n",
      "\u001b[1;31mKeyboardInterrupt\u001b[0m: "
     ]
    }
   ],
   "source": [
    "features = []\n",
    "for index in range(len(space_meta_features)):\n",
    "  fset = featurize.featurize_time_series(times=space_times[index], values=space_measurements[index], errors=space_errors[index], \n",
    "                                         meta_features=space_meta_features[index])\n",
    "  features.append(fset)\n",
    "print(len(features))"
   ]
  },
  {
   "cell_type": "markdown",
   "metadata": {
    "colab_type": "text",
    "id": "kWm-nuqAvMJ8"
   },
   "source": [
    "Para a Gaussian Process Regression"
   ]
  },
  {
   "cell_type": "code",
   "execution_count": 21,
   "metadata": {
    "colab": {
     "base_uri": "https://localhost:8080/",
     "height": 198
    },
    "colab_type": "code",
    "executionInfo": {
     "elapsed": 79952,
     "status": "error",
     "timestamp": 1544571724718,
     "user": {
      "displayName": "Tiago Gonçalves",
      "photoUrl": "https://lh3.googleusercontent.com/-81OqHtj8l6U/AAAAAAAAAAI/AAAAAAAAA3Y/37fQ2VQOX84/s64/photo.jpg",
      "userId": "08684494376977492713"
     },
     "user_tz": 0
    },
    "id": "Lokoa8JivMdC",
    "outputId": "1d81c4f4-1de3-4399-8916-829551e6168e"
   },
   "outputs": [
    {
     "ename": "NameError",
     "evalue": "ignored",
     "output_type": "error",
     "traceback": [
      "\u001b[0;31m\u001b[0m",
      "\u001b[0;31mNameError\u001b[0mTraceback (most recent call last)",
      "\u001b[0;32m<ipython-input-21-7712db7f0e67>\u001b[0m in \u001b[0;36m<module>\u001b[0;34m()\u001b[0m\n\u001b[1;32m      4\u001b[0m \u001b[0mgpdict\u001b[0m \u001b[0;34m=\u001b[0m \u001b[0mOrderedDict\u001b[0m\u001b[0;34m(\u001b[0m\u001b[0;34m)\u001b[0m \u001b[0;31m#time series after gaussian process dict\u001b[0m\u001b[0;34m\u001b[0m\u001b[0m\n\u001b[1;32m      5\u001b[0m \u001b[0mkernel\u001b[0m \u001b[0;34m=\u001b[0m \u001b[0mDotProduct\u001b[0m\u001b[0;34m(\u001b[0m\u001b[0;34m)\u001b[0m \u001b[0;34m+\u001b[0m \u001b[0mWhiteKernel\u001b[0m\u001b[0;34m(\u001b[0m\u001b[0;34m)\u001b[0m\u001b[0;34m\u001b[0m\u001b[0m\n\u001b[0;32m----> 6\u001b[0;31m \u001b[0mgpr\u001b[0m \u001b[0;34m=\u001b[0m \u001b[0mGaussianProcessRegressor\u001b[0m\u001b[0;34m(\u001b[0m\u001b[0mkernel\u001b[0m\u001b[0;34m=\u001b[0m\u001b[0mkernel\u001b[0m\u001b[0;34m,\u001b[0m\u001b[0mrandom_state\u001b[0m\u001b[0;34m=\u001b[0m\u001b[0;36m0\u001b[0m\u001b[0;34m)\u001b[0m\u001b[0;34m.\u001b[0m\u001b[0mfit\u001b[0m\u001b[0;34m(\u001b[0m\u001b[0mx\u001b[0m\u001b[0;34m,\u001b[0m\u001b[0my\u001b[0m\u001b[0;34m)\u001b[0m \u001b[0;31m#FALTA MUDAR O X E O Y\u001b[0m\u001b[0;34m\u001b[0m\u001b[0m\n\u001b[0m",
      "\u001b[0;31mNameError\u001b[0m: name 'x' is not defined"
     ]
    }
   ],
   "source": [
    "# Interpolação das light curves usando gaussian process regression \n",
    "#from sklearn.gaussian_process import GaussianProcessRegressor\n",
    "#from sklearn.gaussian_process.kernels import DotProduct, WhiteKernel\n",
    "\n",
    "#gpdict = OrderedDict() #time series after gaussian process dict\n",
    "#kernel = DotProduct() + WhiteKernel()\n",
    "#gpr = GaussianProcessRegressor(kernel=kernel,random_state=0).fit(x,y) #FALTA MUDAR O X E O Y"
   ]
  },
  {
   "cell_type": "markdown",
   "metadata": {
    "colab_type": "text",
    "id": "2N5wOsovvaPp"
   },
   "source": [
    "Para a PCA"
   ]
  },
  {
   "cell_type": "code",
   "execution_count": 0,
   "metadata": {
    "colab": {},
    "colab_type": "code",
    "id": "b5qYo1BmvKpw"
   },
   "outputs": [],
   "source": [
    "pca = PCA(n_components=npca, whiten=True, svd_solver=\"full\", random_state=42)\n",
    "Xtrain_pca = pca.fit_transform(Xtrain)"
   ]
  }
 ],
 "metadata": {
  "colab": {
   "name": "Copy of É desta amigos! Já dá!.ipynb",
   "provenance": [],
   "version": "0.3.2"
  },
  "kernelspec": {
   "display_name": "Python 2",
   "language": "python",
   "name": "python2"
  },
  "language_info": {
   "codemirror_mode": {
    "name": "ipython",
    "version": 2
   },
   "file_extension": ".py",
   "mimetype": "text/x-python",
   "name": "python",
   "nbconvert_exporter": "python",
   "pygments_lexer": "ipython2",
   "version": "2.7.15"
  }
 },
 "nbformat": 4,
 "nbformat_minor": 1
}
