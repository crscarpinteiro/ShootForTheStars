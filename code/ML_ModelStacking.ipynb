{
 "cells": [
  {
   "cell_type": "code",
   "execution_count": null,
   "metadata": {},
   "outputs": [],
   "source": [
    "#Model Stacking Code\n",
    "#Imports\n",
    "import numpy as np\n",
    "from sklearn.linear_model import LogisticRegressionCV\n",
    "from sklearn.model_selection import train_test_split\n",
    "\n",
    "#Selected Feature Set\n",
    "\n",
    "#Concatenate M1 and M2 Predictions to our Feature Set\n",
    "#M1 - Predictions obtained with Model\n",
    "#M2 - Predictions obtained with Model\n",
    "\n",
    "#Do train/test split to check performance\n",
    "X_train, X_test, y_train, y_test = train_test_split(X, y, test_size=0.33, random_state=42)\n",
    "\n",
    "#Test a new classifier - Logistic Regression with built-in cross validation\n",
    "#Check: https://scikit-learn.org/stable/modules/generated/sklearn.linear_model.LogisticRegressionCV.html#sklearn.linear_model.LogisticRegressionCV\n",
    "clf = LogisticRegressionCV(cv=5, random_state=0, multi_class='multinomial').fit(X, y)\n",
    "#Check Classifier performance"
   ]
  }
 ],
 "metadata": {
  "kernelspec": {
   "display_name": "Python 3",
   "language": "python",
   "name": "python3"
  },
  "language_info": {
   "codemirror_mode": {
    "name": "ipython",
    "version": 3
   },
   "file_extension": ".py",
   "mimetype": "text/x-python",
   "name": "python",
   "nbconvert_exporter": "python",
   "pygments_lexer": "ipython3",
   "version": "3.6.5"
  }
 },
 "nbformat": 4,
 "nbformat_minor": 2
}
