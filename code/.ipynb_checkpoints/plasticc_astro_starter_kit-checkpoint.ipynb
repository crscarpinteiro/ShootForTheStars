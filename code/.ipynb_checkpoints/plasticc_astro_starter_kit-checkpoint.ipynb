{
 "cells": [
  {
   "cell_type": "markdown",
   "metadata": {
    "nbpresent": {
     "id": "aaffd2c3-54c1-4f88-840b-02111a6237a8"
    },
    "slideshow": {
     "slide_type": "slide"
    }
   },
   "source": [
    "# **The PLAsTiCC Astronomy \"Starter Kit\"**\n",
    "### -Gautham Narayan, 20180921\n",
    "\n",
    "This notebook was developed for LSST PLAsTiCC on <a href=\"https://www.kaggle.com/c/plasticc-2018\">Kaggle</a>. You can participate in the challenge there! \n",
    "\n",
    "***"
   ]
  },
  {
   "cell_type": "code",
   "execution_count": 1,
   "metadata": {
    "nbpresent": {
     "id": "c06c5e08-417f-4806-84ca-55c1fc26b576"
    },
    "slideshow": {
     "slide_type": "skip"
    }
   },
   "outputs": [
    {
     "data": {
      "text/html": [
       "<style>.rendered_html { font-size: 18px; }</style>"
      ],
      "text/plain": [
       "<IPython.core.display.HTML object>"
      ]
     },
     "metadata": {},
     "output_type": "display_data"
    }
   ],
   "source": [
    "# You can edit the font size here to make rendered text more comfortable to read\n",
    "# It was built on a 13\" retina screen with 18px\n",
    "from IPython.core.display import display, HTML\n",
    "display(HTML(\"<style>.rendered_html { font-size: 18px; }</style>\"))\n",
    "\n",
    "# we'll also use this package to read tables\n",
    "# it's generally useful for astrophysics work, including this challenge\n",
    "# so we'd suggest installing it, even if you elect to work with pandas\n",
    "from astropy.table import Table"
   ]
  },
  {
   "cell_type": "markdown",
   "metadata": {
    "slideshow": {
     "slide_type": "skip"
    }
   },
   "source": [
    "This Project Jupyter notebook provides an introduction to some of the astrophysics that might be relevant for the \"Photometric LSST Astronomical Time-series Classification Challenge\" (PLAsTiCC) on Kaggle. It's intended to provide some domain knowledge to data scientists taking part in the challenge, and may even prove useful to some of the astronomers competing. You can use it <a href=\"https://medium.com/codingthesmartway-com-blog/getting-started-with-jupyter-notebook-for-python-4e7082bd5d46\">as you would a regular Jupyter notebook</a> or as a slide show with the <a href=\"https://damianavila.github.io/RISE/index.html\">RISE</a> notebook extension and clicking the <img src=\"media/RISE_button.png\" align=\"vertical-align:middle:\" width=\"5%\"> button.\n",
    "\n",
    "Because of the length of the notebook (there's a fair bit to cover!), the slide show will likely be a gentler introduction, though there are points in the regular notebook view that are skipped over entirely in the slide show. If an image looks a bit too large on a slide, you should be able to scroll down.\n",
    "\n",
    "While there's no practical way to cover all of the background astrophysics in a single Jupyter notebook, there should be enough relevant material to tackle the challenge. You can also safely ignore it and dive right in and do things your own way. Astrophysics is interesting stuff though, and if you are curious and want to know more about something, or how to do something that isn't covered here then just ask! You'll find us on the Kaggle forum for this challenge! \n",
    "\n",
    "***\n",
    "\n",
    "## Contents:\n",
    "- [1. LSST, PLAsTiCC and You](#section1)\n",
    "    - [1a. The Large Synoptic Survey Telescope](#section1a)\n",
    "    - [1b. Light Curves: Time-series of Brightness of Astronomical Sources](#section1b)\n",
    "    - [1c. How Astronomers have Studied Astronomical Sources Thus Far](#section1c)\n",
    "    - [1d. The PLAsTiCC Challenge: Classifying Astronomical Sources with Light Curves](#section1d)\n",
    "- [2. A Primer on the Data - Light Curves](#section2)\n",
    "    - [2a. Time](#section2a)\n",
    "    - [2b. Passband](#section2b)\n",
    "    - [2c. Flux and Flux Error](#section2c)\n",
    "- [3. Exploring the Light Curves](#section3)\n",
    "- [4. Primer cont'd - Metadata Provided with Light Curves](#section4)\n",
    "    - [4a. Coordinates on the Sky](#section4a)\n",
    "    - [4b. Galactic Coordinates](#section4b)\n",
    "    - [4c. Redshift](#section4c)\n",
    "    - [4d. A view of our cosmic neighborhood](#section4d)\n",
    "    - [4e. Cosmology](#section4e)\n",
    "    - [4f. Dust](#section4f)\n",
    "\n",
    "***"
   ]
  },
  {
   "cell_type": "markdown",
   "metadata": {
    "slideshow": {
     "slide_type": "slide"
    }
   },
   "source": [
    "## 1. LSST, PLAsTiCC and You\n",
    "<a id=\"section1\"></a>"
   ]
  },
  {
   "cell_type": "markdown",
   "metadata": {
    "slideshow": {
     "slide_type": "slide"
    }
   },
   "source": [
    "### 1a. The Large Synoptic Survey Telescope\n",
    "<a id=\"section1a\"></a>\n",
    "\n",
    "PLAsTiCC is intended to simulate sources that vary with time in the night-sky as seen during the first three years of operation of the <a href=\"http://www.lsst.org\">Large Synoptic Survey Telescope (LSST)</a>. \n",
    "\n",
    "The LSST (illustrated below) is a telescope with an 8.4 meter primary mirror diameter being built high up in Atacama desert of Chile, on a mountain called Cerro Pachon.\n",
    "\n",
    "<center><img src=\"media/LSST_night.jpg\"></center>"
   ]
  },
  {
   "cell_type": "markdown",
   "metadata": {
    "slideshow": {
     "slide_type": "-"
    }
   },
   "source": [
    "#### _Figure 1: The LSST Telescope, Credit: LSST/NSF/AURA/Todd Mason Productions Inc._"
   ]
  },
  {
   "cell_type": "markdown",
   "metadata": {
    "slideshow": {
     "slide_type": "slide"
    }
   },
   "source": [
    "The telescope is going to have a 3.2 gigapixel camera that's about the size of an adult human to take images of the night sky. Those pixel numbers may not seem all that meaningful without a reference, so here is the LSST field-of-view  (FoV) compared against the full moon and a similar class telescope:\n",
    "\n",
    "<center><img src=\"media/LSST_FoV.jpg\"></center>"
   ]
  },
  {
   "cell_type": "markdown",
   "metadata": {
    "slideshow": {
     "slide_type": "-"
    }
   },
   "source": [
    "#### _Figure 2: The LSST Field of View compared to a camera on a similar telescope and the Moon. Credit: Zelko Ivezic, LSST_"
   ]
  },
  {
   "cell_type": "markdown",
   "metadata": {
    "slideshow": {
     "slide_type": "slide"
    }
   },
   "source": [
    "This large FoV is what makes LSST so revolutionary. If you like photography, LSST has a 6.5 *meter* effective aperture and a focal ratio of f/# of 1.23. "
   ]
  },
  {
   "cell_type": "markdown",
   "metadata": {
    "slideshow": {
     "slide_type": "fragment"
    }
   },
   "source": [
    "This means that LSST can make a map of the entire southern sky, resolving details that are smaller than the width of a human hair held at arm's length... every 4 nights. "
   ]
  },
  {
   "cell_type": "markdown",
   "metadata": {
    "slideshow": {
     "slide_type": "fragment"
    }
   },
   "source": [
    "That's a data rate of 20--40 terabytes, or about 1 US Library of Congress every night. It is, for want of a better word, ginormous."
   ]
  },
  {
   "cell_type": "markdown",
   "metadata": {
    "slideshow": {
     "slide_type": "slide"
    }
   },
   "source": [
    "The difference is even more stark when compared against telescopes that are both smaller and have smaller FoVs - like most everything astronomers have access to now. The Hubble Space Telescope only has a 2.4 meter mirror, and here's it's FoV... relative to one of those full moons:\n",
    "\n",
    "<center><img src=\"media/HST_field_of_view.jpg\"></center>"
   ]
  },
  {
   "cell_type": "markdown",
   "metadata": {
    "slideshow": {
     "slide_type": "-"
    }
   },
   "source": [
    "#### _Figure 3: The Hubble Space Telescope's field of view compared to the Moon_"
   ]
  },
  {
   "cell_type": "markdown",
   "metadata": {
    "nbpresent": {
     "id": "afdbac60-a049-4077-b22a-79d255306198"
    },
    "slideshow": {
     "slide_type": "slide"
    }
   },
   "source": [
    "Hubble isn't just looking at a smaller piece of sky, it is also collecting light from this region much more slowly than LSST. \n",
    "\n",
    "Consequently, each and every week LSST will find more sources that vary with time than Hubble has ever seen... in its entire 28+ year life. "
   ]
  },
  {
   "cell_type": "markdown",
   "metadata": {
    "slideshow": {
     "slide_type": "slide"
    }
   },
   "source": [
    "### 1b. Light Curves: Time-series of Brightness of Astronomical Sources\n",
    "<a id=\"section1b\"></a>\n",
    "\n",
    "Scanning the entire sky repeatedly means we can identify astrophysical sources in the night sky that change in brightness over time, and we can create a plot of the the brightness vs time. "
   ]
  },
  {
   "cell_type": "markdown",
   "metadata": {
    "slideshow": {
     "slide_type": "fragment"
    }
   },
   "source": [
    "The *time-series* of these change in brightness. We call these time-series, \"light curves.\" "
   ]
  },
  {
   "cell_type": "markdown",
   "metadata": {
    "nbpresent": {
     "id": "3a9a5622-cd6e-492f-9ef0-a7518d16f756"
    },
    "slideshow": {
     "slide_type": "fragment"
    }
   },
   "source": [
    "Here's an illustration of one of these source - supernova 1998bu, imaged with the 1.2m telescope at the Fred Lawrence Whipple Observatory. "
   ]
  },
  {
   "cell_type": "code",
   "execution_count": 2,
   "metadata": {
    "nbpresent": {
     "id": "ffeae5bf-12ea-4581-bfcb-c88b01b57f60"
    },
    "slideshow": {
     "slide_type": "slide"
    }
   },
   "outputs": [
    {
     "data": {
      "text/html": [
       "<div align=\"middle\">\n",
       "<video width=\"60%\" controls>\n",
       "      <source src=\"media/SN98bu_LC.mp4\" type=\"video/mp4\">\n",
       "</video>\n",
       "</div>\n"
      ],
      "text/plain": [
       "<IPython.core.display.HTML object>"
      ]
     },
     "metadata": {},
     "output_type": "display_data"
    }
   ],
   "source": [
    "%%HTML\n",
    "<div align=\"middle\">\n",
    "<video width=\"60%\" controls>\n",
    "      <source src=\"media/SN98bu_LC.mp4\" type=\"video/mp4\">\n",
    "</video>\n",
    "</div>"
   ]
  },
  {
   "cell_type": "markdown",
   "metadata": {
    "nbpresent": {
     "id": "c2b16093-fffa-4db6-9ecb-a216d2e99b0d"
    },
    "slideshow": {
     "slide_type": "-"
    }
   },
   "source": [
    "#### _Figure 4: The light curve of supernova 1998bu. Credit: Peter Challis, Harvard/CfA_ \n",
    "\n",
    "The left panel shows you how the supernova event looked, while the right panel shows a plot of the brightness of the supernova, measured using a process called \"photometry,\" used to determine the light curve."
   ]
  },
  {
   "cell_type": "markdown",
   "metadata": {
    "slideshow": {
     "slide_type": "slide"
    }
   },
   "source": [
    "LSST presents us with a great opportunity here because it will find an order of magnitude (or more) of these kinds of events than astronomers have ever observed. \n",
    "\n",
    "The same event rate also presents a new challenge - supernovae aren't the only sorts of variable and transient events in the night sky. "
   ]
  },
  {
   "cell_type": "markdown",
   "metadata": {
    "slideshow": {
     "slide_type": "slide"
    }
   },
   "source": [
    "Here's an (incomplete!) tree diagram of the various kinds of variable sources in the night sky:\n",
    "\n",
    "<center><img width=\"90%\" src=\"media/variability_tree.jpg\"></center>"
   ]
  },
  {
   "cell_type": "markdown",
   "metadata": {
    "slideshow": {
     "slide_type": "-"
    }
   },
   "source": [
    "#### _Figure 5: The hierarchy of variable and transient sources. Credit: Laurent Eyer and Nami Mowlawi, Université de Genève_"
   ]
  },
  {
   "cell_type": "markdown",
   "metadata": {
    "slideshow": {
     "slide_type": "skip"
    }
   },
   "source": [
    "Some sources are intrinsically variable, while others are extrinsic - they vary, not because they the source itself has some fundamental physical property that causes them to vary, but rather because of extra attributes - e.g. rotation, or forming part of a binary system that just happens to eclipse along our line of sight from Earth. Some sources vary periodically, while others show random or stochastic behavior. Yet others, like supernovae, typically explode once and fade away. \n",
    "\n",
    "The sources in the training set are from a mixture of these different astrophysical classes, including:\n",
    "\n",
    "- Secular, Pulsating and Eruptive Variable Stars\n",
    "- Tidal Disruption Events\n",
    "- Kilonovae\n",
    "- Supernovae of different types\n",
    "- Active Galactic Nucleii \n",
    "- Microlensing Events\n",
    "- Eclipsing Binaries"
   ]
  },
  {
   "cell_type": "markdown",
   "metadata": {
    "slideshow": {
     "slide_type": "slide"
    }
   },
   "source": [
    "The diversity of these sources is important. "
   ]
  },
  {
   "cell_type": "markdown",
   "metadata": {
    "slideshow": {
     "slide_type": "fragment"
    }
   },
   "source": [
    "LSST data will be useful for many different scientific studies by different groups - from studying stars in our Galaxy to understand how solar systems like ours formed, probing nuclear physics with brief burps before stars explode, how galaxies themselves formed and the role massive stars play in shaping their chemistry, to measuring how much matter there is in our Universe - and everything in between. "
   ]
  },
  {
   "cell_type": "markdown",
   "metadata": {
    "slideshow": {
     "slide_type": "fragment"
    }
   },
   "source": [
    "#### _It'll likely answers questions we don't even know to ask yet._"
   ]
  },
  {
   "cell_type": "markdown",
   "metadata": {
    "slideshow": {
     "slide_type": "fragment"
    }
   },
   "source": [
    "There's a lot that we can get out of understanding the time-domain of our Universe."
   ]
  },
  {
   "cell_type": "markdown",
   "metadata": {
    "nbpresent": {
     "id": "5b3f47c0-1126-47e8-9fbb-1d06b1396819"
    },
    "slideshow": {
     "slide_type": "skip"
    }
   },
   "source": [
    "That said, we're being deliberately vague about exactly what sorts of astrophysical sources you'll find in the data, and even what `target` number in the data corresponds to what astrophysical class.\n",
    "\n",
    "We'll give you a few external resources for these events in a companion notebook, if you are determined to augment the training set. \n",
    "\n",
    "Note that there's been exactly one kilonova event ever seen (we hope this will be out of date by the time LSST turns on though!), so it's not really possible to provide multiple examples in some cases!"
   ]
  },
  {
   "cell_type": "markdown",
   "metadata": {
    "slideshow": {
     "slide_type": "slide"
    }
   },
   "source": [
    "### 1c. How Astronomers have Studied Astronomical Sources Thus Far\n",
    "<a id=\"section1c\"></a>\n",
    "\n",
    "To determine the class of any particular astrophysical source, we currently need lots of observational data. \n",
    "\n",
    "At present, we classify the sources not using just their light curves, but using more detailed follow-up with other telescopes. We use \"spectrographs\" - instruments that, much like a prism, disperse a beam of light, spreading different colors over position - to study astrophysical sources.\n",
    "\n",
    "<center><img width=\"50%\" src=\"media/prism.jpg\"></center>"
   ]
  },
  {
   "cell_type": "markdown",
   "metadata": {
    "slideshow": {
     "slide_type": "-"
    }
   },
   "source": [
    "#### _Figure 6: A prism dispersing light, creating a spectrum, open access jpeg._"
   ]
  },
  {
   "cell_type": "markdown",
   "metadata": {
    "slideshow": {
     "slide_type": "slide"
    }
   },
   "source": [
    "Dispersing the light like this is called \"spectroscopy\", and allows us to look for characteristic atomic signatures from astrophysical sources. "
   ]
  },
  {
   "cell_type": "markdown",
   "metadata": {
    "slideshow": {
     "slide_type": "-"
    }
   },
   "source": [
    "#### _Figure 7: Spectra of different kinds of supernovae, with their atomic signatures labeled, Credit: Daniel Kasen (UC Berkeley)._"
   ]
  },
  {
   "cell_type": "markdown",
   "metadata": {
    "slideshow": {
     "slide_type": "-"
    }
   },
   "source": [
    "<center><img width=\"80%\" src=\"media/SN_Spectra.jpg\"></center>"
   ]
  },
  {
   "cell_type": "markdown",
   "metadata": {
    "slideshow": {
     "slide_type": "slide"
    }
   },
   "source": [
    "This is the most reliable method for determining what a point of light in the night sky actually is, and there's a ton of information you can get from it. \n",
    "\n",
    "You can learn more about it <a href=\"https://ed.ted.com/lessons/how-do-we-study-the-stars-yuan-sen-ting\">here</a>. "
   ]
  },
  {
   "cell_type": "markdown",
   "metadata": {
    "slideshow": {
     "slide_type": "slide"
    }
   },
   "source": [
    "Unfortunately, spectroscopy takes a tremendous amount of telescope time and there aren't enough telescopes in the world _combined_ to keep up with the LSST event rate. "
   ]
  },
  {
   "cell_type": "markdown",
   "metadata": {
    "slideshow": {
     "slide_type": "skip"
    }
   },
   "source": [
    "Additionally, if you remember the video of the supernova, you saw it getting brighter initially and then getting fainter. The light from the supernova explosion changes with time and therefore so do the spectra. We try to obtain a spectrum close to when the object is brightest, but often we can't schedule a telescope in advance exactly then, and even when we do the weather might not cooperate. If you can't see the stars on a cloudy night, then it's probably not good conditions to try and get a spectrum."
   ]
  },
  {
   "cell_type": "markdown",
   "metadata": {
    "slideshow": {
     "slide_type": "skip"
    }
   },
   "source": [
    "Other fields have similar issues - if we wanted to uniquely identify a human being for instance, we could test a DNA sample, but that'd be completely impractical given the number of people we encounter. Largely, we use facial recognition. There's less detailed information available, but you can still use it to identify people you see, and categorize them into family, friends, co-workers, strangers etc."
   ]
  },
  {
   "cell_type": "markdown",
   "metadata": {
    "nbpresent": {
     "id": "cd99255f-d6d0-466b-af79-c9b8b11f842d"
    },
    "slideshow": {
     "slide_type": "slide"
    }
   },
   "source": [
    "We need to invent new techniques to classify astrophysical sources without using the detailed \"DNA sample\" that you'd get from spectroscopy, but using the less detailed information in their light curves - their \"photometry.\"\n",
    "\n",
    "**This is where PLAsTiCC and you come in.**"
   ]
  },
  {
   "cell_type": "markdown",
   "metadata": {
    "slideshow": {
     "slide_type": "slide"
    }
   },
   "source": [
    "### 1d. The PLAsTiCC Challenge: Classifying Astronomical Sources with Light Curves\n",
    "<a id=\"section1d\"></a>\n",
    "\n",
    "PLAsTiCC is based on a simulation of the light curves that LSST can expect to collect (it doesn't exist yet, so we can't give you real LSST data!). These light curves have realistic time-sampling and noise properties, as well as realistic astrophysical effects for a variety of the sources in the variability tree. "
   ]
  },
  {
   "cell_type": "markdown",
   "metadata": {
    "slideshow": {
     "slide_type": "slide"
    }
   },
   "source": [
    "These sources, even closely related classes, can have light curves that look quite different from each other. "
   ]
  },
  {
   "cell_type": "markdown",
   "metadata": {
    "slideshow": {
     "slide_type": "slide"
    }
   },
   "source": [
    "You saw that different kinds of supernovae have different spectra. \n",
    "This also means that they'll have different light curves. \n",
    "\n",
    "Different rise and fall times, different absolute energies, a different structure of bumps and wiggles. \n",
    "\n",
    "<center><img width=\"70%\" src=\"media/smartt_supernovae_diversity.jpg\"></center>"
   ]
  },
  {
   "cell_type": "markdown",
   "metadata": {
    "nbpresent": {
     "id": "8c1389d8-4921-45d9-b51e-02aaa8e650a5"
    },
    "slideshow": {
     "slide_type": "-"
    }
   },
   "source": [
    "#### _Figure 8: The diversity of Supernovae Light Curves, Credit: Stephen J. Smartt, Queen's University, Belfast, https://www.nature.com/articles/nature11643_"
   ]
  },
  {
   "cell_type": "markdown",
   "metadata": {
    "slideshow": {
     "slide_type": "slide"
    }
   },
   "source": [
    "The light curves of these explosive transients can look radically different from the light curves of periodic variables. Take for instance the eclipsing binary system <a href=\"http://simbad.u-strasbg.fr/simbad/sim-id?protocol=html&Ident=Y+Psc&NbIdent=1&Radius=2&Radius.unit=arcmin&submit=submit+id\">Y Piscium</a>. This is an eclipsing binary system (a name which the animation below should help explain) with a light curve that looks like this:\n",
    "\n",
    "<center><img src=\"media/Y_Psc_Animated_LC.gif\"></center>"
   ]
  },
  {
   "cell_type": "markdown",
   "metadata": {
    "slideshow": {
     "slide_type": "-"
    }
   },
   "source": [
    "#### _Figure 9: The light curves of an eclipsing binary system, Credit: AstroLab, Durham University, https://community.dur.ac.uk/physics.astrolab/eclipsing.html_"
   ]
  },
  {
   "cell_type": "markdown",
   "metadata": {
    "nbpresent": {
     "id": "4448a0da-7353-4796-b2b8-02cd627211f1"
    },
    "slideshow": {
     "slide_type": "skip"
    }
   },
   "source": [
    "The exact details of each eclipsing binary system determine the properties of the light curve - how bright each star is, their relative sizes, how fast they orbit each other - but all of these events have the same general light curve shape. And of course, depending on the period, the time scale of the variability can be anything from hours to years!"
   ]
  },
  {
   "cell_type": "markdown",
   "metadata": {
    "slideshow": {
     "slide_type": "slide"
    }
   },
   "source": [
    "Other variable stars have very different light curve shapes from eclipsing binaries. Indeed, variable stars were the first example of astronomers using light curve shapes for classification. \n",
    "\n",
    "Here's a hand-drawn illustration of some of the different known types of variable stars from <a href=\"https://archive.org/details/popularsciencemo69newy\">Popular Science Monthly in 1906</a> (page 179).\n",
    "<center><img width=\"80%\" src=\"media/atlas_of_variable_stars.png\"></center>"
   ]
  },
  {
   "cell_type": "markdown",
   "metadata": {
    "slideshow": {
     "slide_type": "-"
    }
   },
   "source": [
    "#### _Figure 10: The Atlas of Variable Stars, Credit: Popular Science Monthly, from 1906_"
   ]
  },
  {
   "cell_type": "markdown",
   "metadata": {
    "slideshow": {
     "slide_type": "skip"
    }
   },
   "source": [
    "The variables here (from left to right, top to bottom) are a Mira, an eclipsing binary and \"RR Lyrae\" of type AB and an RR Lyrae of type C. Eclipsing binaries are still called Algol-type stars some times, but note that they look really different from the bottom two panels, and if you look at the x-axis on the horizontal panel, you'll notice that the characteristic time-scale there is much different from the rest of them!"
   ]
  },
  {
   "cell_type": "markdown",
   "metadata": {
    "slideshow": {
     "slide_type": "slide"
    }
   },
   "source": [
    "And you have more information than just the one time-series. "
   ]
  },
  {
   "cell_type": "markdown",
   "metadata": {
    "slideshow": {
     "slide_type": "fragment"
    }
   },
   "source": [
    "If you watched that video of the supernova video carefully, you'll have noticed that there's actually two traces of the brightness - one that covers the optical, and one that covers the infrared. "
   ]
  },
  {
   "cell_type": "markdown",
   "metadata": {
    "slideshow": {
     "slide_type": "fragment"
    }
   },
   "source": [
    "This is because our telescope detectors are sensitive to wavelengths of light well beyond the range our eyes can see. "
   ]
  },
  {
   "cell_type": "markdown",
   "metadata": {
    "slideshow": {
     "slide_type": "fragment"
    }
   },
   "source": [
    "We use optical filters - elements that only permit a certain range of wavelengths to pass through - to measure the brightness in different \"passbands.\" "
   ]
  },
  {
   "cell_type": "markdown",
   "metadata": {
    "nbpresent": {
     "id": "7d3965c8-5ae2-442a-bf90-7de613a76694"
    },
    "slideshow": {
     "slide_type": "fragment"
    }
   },
   "source": [
    "Here's the filter exchanger for the LSST camera (adult human for scale):"
   ]
  },
  {
   "cell_type": "code",
   "execution_count": 3,
   "metadata": {
    "nbpresent": {
     "id": "63b94464-92dd-40c0-bcb6-5625b28e0b1e"
    },
    "slideshow": {
     "slide_type": "slide"
    }
   },
   "outputs": [
    {
     "data": {
      "text/html": [
       "<div align=\"middle\">\n",
       "<video width=\"90%\" controls>\n",
       "      <source src=\"media/LSST_filter_change.mp4\" type=\"video/mp4\">\n",
       "</video>\n",
       "</div>\n"
      ],
      "text/plain": [
       "<IPython.core.display.HTML object>"
      ]
     },
     "metadata": {},
     "output_type": "display_data"
    }
   ],
   "source": [
    "%%HTML\n",
    "<div align=\"middle\">\n",
    "<video width=\"90%\" controls>\n",
    "      <source src=\"media/LSST_filter_change.mp4\" type=\"video/mp4\">\n",
    "</video>\n",
    "</div>"
   ]
  },
  {
   "cell_type": "markdown",
   "metadata": {
    "nbpresent": {
     "id": "6073a488-ee3b-4fcb-bae4-77710fdf4ae2"
    },
    "slideshow": {
     "slide_type": "-"
    }
   },
   "source": [
    "#### _Figure 11: LSST Filter Exchanger, Credit: LSST/NSF/AURA/Todd Mason Productions Inc._"
   ]
  },
  {
   "cell_type": "markdown",
   "metadata": {
    "slideshow": {
     "slide_type": "slide"
    }
   },
   "source": [
    "This is a bit like taking a low-resolution spectrum - the light is still being split up and we're getting information about different colors, but it's not as detailed. "
   ]
  },
  {
   "cell_type": "markdown",
   "metadata": {
    "slideshow": {
     "slide_type": "fragment"
    }
   },
   "source": [
    "With a spectrum, you can distinguish absorption and emission lines of atomic lines that are a few \"Angstroms\" across (the symbol for it is an A with the circle on top) - very approximately 10,000 times smaller than the width of an average strange of human hair. "
   ]
  },
  {
   "cell_type": "markdown",
   "metadata": {
    "slideshow": {
     "slide_type": "slide"
    }
   },
   "source": [
    "The advantage of LSST and its giant camera is that it can take an image of several 100,000 astrophysical sources through a single filter at the same time. "
   ]
  },
  {
   "cell_type": "markdown",
   "metadata": {
    "slideshow": {
     "slide_type": "fragment"
    }
   },
   "source": [
    "Each filter is a summing the total amount of light in one small region of the spectrum, so you can't measure narrow atomic lines anymore, but you can get many more light curves in the time it takes to get one spectrum. "
   ]
  },
  {
   "cell_type": "markdown",
   "metadata": {
    "slideshow": {
     "slide_type": "fragment"
    }
   },
   "source": [
    "Even the biggest spectrographs with optical fibers dedicated to each sources can only manage a few thousand sources at most..."
   ]
  },
  {
   "cell_type": "markdown",
   "metadata": {
    "slideshow": {
     "slide_type": "fragment"
    }
   },
   "source": [
    "... in addition to taking much longer to collect enough photons to have a statistically significant measurement."
   ]
  },
  {
   "cell_type": "markdown",
   "metadata": {
    "slideshow": {
     "slide_type": "slide"
    }
   },
   "source": [
    "How much light gets through each filter depends not only on the properties of the filter, but really the transmission of everything between the camera and the source - the atmosphere, dust in our galaxy, dust in the galaxy of the source... \n",
    "\n",
    "We refer to the total transmission of each filter as the \"passband\" (and often use the terms interchangeably). "
   ]
  },
  {
   "cell_type": "markdown",
   "metadata": {
    "slideshow": {
     "slide_type": "slide"
    }
   },
   "source": [
    "Each object has observations in every passband. The passbands that LSST will use are called *u, g, r, i, z*, and *y*. In other words, each object has six time-series you can use for classification. \n",
    "\n",
    "<center><img src=\"media/LSST_passbands.jpg\"></center>"
   ]
  },
  {
   "cell_type": "markdown",
   "metadata": {
    "nbpresent": {
     "id": "4f753bdf-1b34-4c5c-afa6-dd3ddc9d160e"
    },
    "slideshow": {
     "slide_type": "-"
    }
   },
   "source": [
    "#### _Figure 12: The throughput of the LSST passbands with wavelength. Your eyes are sensitive to just the *g and r* bands_"
   ]
  },
  {
   "cell_type": "markdown",
   "metadata": {
    "slideshow": {
     "slide_type": "slide"
    }
   },
   "source": [
    "The training sample is what the entire astronomical community can expect to have before LSST turns on, except where astronomers have a mishmash of observations from different telescopes (something you'll have to deal with if you decide and try to augment it from the literature), you get a nice homogeneous training set. "
   ]
  },
  {
   "cell_type": "markdown",
   "metadata": {
    "slideshow": {
     "slide_type": "fragment"
    }
   },
   "source": [
    "The test set is a version what we expect to have after 3 years of LSST operations. "
   ]
  },
  {
   "cell_type": "markdown",
   "metadata": {
    "slideshow": {
     "slide_type": "fragment"
    }
   },
   "source": [
    "It's much, much bigger than the training set. "
   ]
  },
  {
   "cell_type": "markdown",
   "metadata": {
    "slideshow": {
     "slide_type": "fragment"
    }
   },
   "source": [
    "You'll have to design your algorithm with speed as a consideration. "
   ]
  },
  {
   "cell_type": "markdown",
   "metadata": {
    "slideshow": {
     "slide_type": "fragment"
    }
   },
   "source": [
    "Also, the training set is not perfectly representative - we can usually only classify the brightest objects we find with spectroscopy. To do well in PLAsTiCC though, you'll have to classify everything."
   ]
  },
  {
   "cell_type": "markdown",
   "metadata": {
    "slideshow": {
     "slide_type": "slide"
    }
   },
   "source": [
    "You can even expect sources in the test set that aren't in the training set - we expect to find new classes of objects with LSST that we've never seen before, and we've simulated light curves based on theoretical predictions of how they ought to look!"
   ]
  },
  {
   "cell_type": "markdown",
   "metadata": {
    "slideshow": {
     "slide_type": "slide"
    }
   },
   "source": [
    "**Your mission, should you choose to accept it, is to classify the things that go bump in the night.**"
   ]
  },
  {
   "cell_type": "markdown",
   "metadata": {
    "slideshow": {
     "slide_type": "fragment"
    }
   },
   "source": [
    "You can win prizes, eternal glory, and the satisfaction of knowing that you made a real impact and a valuable contribution to the biggest astrophysical experiment to ever be attempted!"
   ]
  },
  {
   "cell_type": "markdown",
   "metadata": {
    "slideshow": {
     "slide_type": "slide"
    }
   },
   "source": [
    "There's not much time too - LSST is coming up fast. Here's a construction picture from August 2018, and it is looking a lot like the render at the top of this page! \n",
    "\n",
    "<center><img width=\"60%\" src=\"media/LSST_construction.jpg\"></center>"
   ]
  },
  {
   "cell_type": "markdown",
   "metadata": {
    "nbpresent": {
     "id": "b52cae10-93c2-4c86-a92b-025730dbf030"
    },
    "slideshow": {
     "slide_type": "-"
    }
   },
   "source": [
    "#### _Figure 13: The LSST telescope under construction on Cerro Pachon in Chile, Credit: Gianluca Lombardi, Gemini Observatory_\n",
    "\n",
    "***"
   ]
  },
  {
   "cell_type": "markdown",
   "metadata": {
    "nbpresent": {
     "id": "99ea822c-dbfc-4fa7-a106-aebfce425acb"
    },
    "slideshow": {
     "slide_type": "slide"
    }
   },
   "source": [
    "## 2. A Primer on the Dataset - Light Curves\n",
    "<a id=\"section2\"></a>"
   ]
  },
  {
   "cell_type": "markdown",
   "metadata": {
    "slideshow": {
     "slide_type": "slide"
    }
   },
   "source": [
    "We've included some example light curve data along with this notebook to illustrate some of the astrophysical effects you'll encounter in the full data set. "
   ]
  },
  {
   "cell_type": "markdown",
   "metadata": {
    "slideshow": {
     "slide_type": "fragment"
    }
   },
   "source": [
    "This example data is simpler than the real data - it has only four of the six passbands, and different properties from the full sample, so that the signal is more obvious, and only a few classes. "
   ]
  },
  {
   "cell_type": "markdown",
   "metadata": {
    "slideshow": {
     "slide_type": "fragment"
    }
   },
   "source": [
    "These simplifications will make it easier to work with and highlight some of the issues you'll encounter will the full dataset."
   ]
  },
  {
   "cell_type": "markdown",
   "metadata": {
    "nbpresent": {
     "id": "b144fac1-5b01-441f-b89a-8b52e19b713e"
    },
    "slideshow": {
     "slide_type": "skip"
    }
   },
   "source": [
    "The other reason why this is using example data and not the training data supplied with the challenge is that we've identified the target classes in the challenge with random integers. This should help reduce astronomer's advantage of domain knowledge - astronomers will have to identify which class corresponds to which integers before they can take advantage of their understanding of the properties of different classes. Most astronomers only specialize in a few kinds of objects though, so even their domain knowledge isn't complete. "
   ]
  },
  {
   "cell_type": "markdown",
   "metadata": {
    "slideshow": {
     "slide_type": "fragment"
    }
   },
   "source": [
    "Lets begin by looking at the format of the light curve and explaining what the columns are (we'll get to the header in Section 3):"
   ]
  },
  {
   "cell_type": "code",
   "execution_count": 4,
   "metadata": {
    "nbpresent": {
     "id": "8d65ff80-af34-4ddc-afba-b9874ac23e02"
    },
    "slideshow": {
     "slide_type": "slide"
    }
   },
   "outputs": [
    {
     "data": {
      "text/html": [
       "<i>Table length=117</i>\n",
       "<table id=\"table34892170184\" class=\"table-striped table-bordered table-condensed\">\n",
       "<thead><tr><th>object_id</th><th>mjd</th><th>passband</th><th>flux</th><th>flux_err</th><th>detected_bool</th></tr></thead>\n",
       "<thead><tr><th>int64</th><th>float64</th><th>int64</th><th>float64</th><th>float64</th><th>int64</th></tr></thead>\n",
       "<tr><td>10</td><td>56210.172</td><td>1</td><td>5.659</td><td>3.7</td><td>1</td></tr>\n",
       "<tr><td>10</td><td>56210.188</td><td>2</td><td>21.32</td><td>3.245</td><td>1</td></tr>\n",
       "<tr><td>10</td><td>56210.203</td><td>3</td><td>13.28</td><td>3.221</td><td>1</td></tr>\n",
       "<tr><td>10</td><td>56210.234</td><td>4</td><td>9.579</td><td>3.85</td><td>1</td></tr>\n",
       "<tr><td>10</td><td>56218.172</td><td>1</td><td>49.22</td><td>1.654</td><td>1</td></tr>\n",
       "<tr><td>10</td><td>56218.191</td><td>2</td><td>114.6</td><td>2.376</td><td>1</td></tr>\n",
       "<tr><td>10</td><td>56218.211</td><td>3</td><td>88.85</td><td>2.261</td><td>1</td></tr>\n",
       "<tr><td>10</td><td>56219.156</td><td>4</td><td>75.01</td><td>2.394</td><td>1</td></tr>\n",
       "<tr><td>10</td><td>56221.273</td><td>1</td><td>62.28</td><td>4.17</td><td>1</td></tr>\n",
       "<tr><td>10</td><td>56221.281</td><td>2</td><td>126.6</td><td>6.115</td><td>1</td></tr>\n",
       "<tr><td>...</td><td>...</td><td>...</td><td>...</td><td>...</td><td>...</td></tr>\n",
       "<tr><td>10</td><td>56318.109</td><td>3</td><td>24.8</td><td>2.825</td><td>1</td></tr>\n",
       "<tr><td>10</td><td>56318.141</td><td>4</td><td>21.88</td><td>3.006</td><td>1</td></tr>\n",
       "<tr><td>10</td><td>56321.09</td><td>1</td><td>2.743</td><td>6.631</td><td>1</td></tr>\n",
       "<tr><td>10</td><td>56321.098</td><td>2</td><td>10.24</td><td>2.903</td><td>1</td></tr>\n",
       "<tr><td>10</td><td>56321.109</td><td>3</td><td>23.41</td><td>3.438</td><td>1</td></tr>\n",
       "<tr><td>10</td><td>56321.141</td><td>4</td><td>28.58</td><td>3.008</td><td>1</td></tr>\n",
       "<tr><td>10</td><td>56332.039</td><td>1</td><td>2.939</td><td>1.467</td><td>1</td></tr>\n",
       "<tr><td>10</td><td>56332.051</td><td>2</td><td>14.87</td><td>1.025</td><td>1</td></tr>\n",
       "<tr><td>10</td><td>56332.07</td><td>3</td><td>23.66</td><td>1.653</td><td>1</td></tr>\n",
       "<tr><td>10</td><td>56332.094</td><td>4</td><td>26.18</td><td>2.626</td><td>1</td></tr>\n",
       "</table>"
      ],
      "text/plain": [
       "<Table length=117>\n",
       "object_id    mjd    passband   flux  flux_err detected_bool\n",
       "  int64    float64   int64   float64 float64      int64    \n",
       "--------- --------- -------- ------- -------- -------------\n",
       "       10 56210.172        1   5.659      3.7             1\n",
       "       10 56210.188        2   21.32    3.245             1\n",
       "       10 56210.203        3   13.28    3.221             1\n",
       "       10 56210.234        4   9.579     3.85             1\n",
       "       10 56218.172        1   49.22    1.654             1\n",
       "       10 56218.191        2   114.6    2.376             1\n",
       "       10 56218.211        3   88.85    2.261             1\n",
       "       10 56219.156        4   75.01    2.394             1\n",
       "       10 56221.273        1   62.28     4.17             1\n",
       "       10 56221.281        2   126.6    6.115             1\n",
       "      ...       ...      ...     ...      ...           ...\n",
       "       10 56318.109        3    24.8    2.825             1\n",
       "       10 56318.141        4   21.88    3.006             1\n",
       "       10  56321.09        1   2.743    6.631             1\n",
       "       10 56321.098        2   10.24    2.903             1\n",
       "       10 56321.109        3   23.41    3.438             1\n",
       "       10 56321.141        4   28.58    3.008             1\n",
       "       10 56332.039        1   2.939    1.467             1\n",
       "       10 56332.051        2   14.87    1.025             1\n",
       "       10  56332.07        3   23.66    1.653             1\n",
       "       10 56332.094        4   26.18    2.626             1"
      ]
     },
     "execution_count": 4,
     "metadata": {},
     "output_type": "execute_result"
    }
   ],
   "source": [
    "obj1 = Table.read('data/fake010.csv', format='csv')\n",
    "obj1"
   ]
  },
  {
   "cell_type": "markdown",
   "metadata": {
    "slideshow": {
     "slide_type": "slide"
    }
   },
   "source": [
    "The first of the columns is just the `object_id`. In the real data, you'll get many objects in the same CSV, and you'll need some way of getting all the observations for one object. `object_id` gives you that index."
   ]
  },
  {
   "cell_type": "markdown",
   "metadata": {
    "slideshow": {
     "slide_type": "slide"
    }
   },
   "source": [
    "### 2a. Time\n",
    "<a id=\"section2a\"></a>\n",
    "\n",
    "\n",
    "The second column, labeled `mjd`, is the time that LSST took an image. More on why it is called this later. First, you should get a sense for what the pattern of LSST observations is."
   ]
  },
  {
   "cell_type": "markdown",
   "metadata": {
    "slideshow": {
     "slide_type": "slide"
    }
   },
   "source": [
    "On any given night, LSST will begin by taking a picture of one patch for 15--30 seconds long (the results from PLAsTiCC might help decide the exposure time!)."
   ]
  },
  {
   "cell_type": "markdown",
   "metadata": {
    "slideshow": {
     "slide_type": "fragment"
    }
   },
   "source": [
    "This is followed by a gap of 30 minutes -- 2 hours (the results from PLAsTiCC might help decide this too!) where the telescope looks at other patches of sky, before coming back to the original patch of sky."
   ]
  },
  {
   "cell_type": "markdown",
   "metadata": {
    "slideshow": {
     "slide_type": "fragment"
    }
   },
   "source": [
    "It will then take another 15--30 second picture. "
   ]
  },
  {
   "cell_type": "markdown",
   "metadata": {
    "slideshow": {
     "slide_type": "fragment"
    }
   },
   "source": [
    "The data from these two images on the same night are combined to remove spurious glitches like cosmic rays, asteroids, airplane contrails etc."
   ]
  },
  {
   "cell_type": "markdown",
   "metadata": {
    "slideshow": {
     "slide_type": "fragment"
    }
   },
   "source": [
    "LSST will then come back to the same patch of sky, the next night, but it will take the picture in a different passband. "
   ]
  },
  {
   "cell_type": "markdown",
   "metadata": {
    "slideshow": {
     "slide_type": "fragment"
    }
   },
   "source": [
    "LSST will repeat this cycle, returning to the original filter on the original patch of sky 1--2 weeks later. "
   ]
  },
  {
   "cell_type": "markdown",
   "metadata": {
    "slideshow": {
     "slide_type": "slide"
    }
   },
   "source": [
    "This pattern of how a telescope observes the night sky is called the \"cadence\" and it has a large effect on how well the light curve of an astrophysical source is sampled. "
   ]
  },
  {
   "cell_type": "markdown",
   "metadata": {
    "slideshow": {
     "slide_type": "fragment"
    }
   },
   "source": [
    "Because the characteristic times that we conduct our observations on is a day (we can't observe when the sun is up after all!), we measure time in units of decimal day. "
   ]
  },
  {
   "cell_type": "markdown",
   "metadata": {
    "slideshow": {
     "slide_type": "fragment"
    }
   },
   "source": [
    "The specific time format we will use in PLAsTiCC is called the Modified Julian Date (MJD) - simply the number of decimal days from midnight on November 17, 1858. "
   ]
  },
  {
   "cell_type": "markdown",
   "metadata": {
    "slideshow": {
     "slide_type": "skip"
    }
   },
   "source": [
    "(Historical parenthetical: The original Julian Date which began counting up from zero on noon on Jan 1, 4713 BC. When the Soviet Sputnik launched, the Smithsonian Astrophysical Observatory decided to make this zero reference date a little more current. The SAO needed a way to keep track of Sputnik's orbits but the reference for the Julian date was so far in the past that the numbers were too large for their VAX/VMS system to handle. So they did the simple thing and made the reference date of the VAX/VMS system the same as the reference date for their new time system - creatively named the \"Modified Julian date\" - and consequently, most of astronomy. This date is conveniently 2400000.5 - the extra 0.5 because the VAX reference starts at midnight, while the Julian Date starts from noon.)"
   ]
  },
  {
   "cell_type": "markdown",
   "metadata": {
    "slideshow": {
     "slide_type": "slide"
    }
   },
   "source": [
    "If you want another time format like UNIX time (which counts decimal seconds from a reference date of Jan 1st, 1970), then it's easy to convert between the two. \n",
    "\n",
    "The UNIX epoch in MJD is 40587 (or JD 2440587.5), so you'd use:\n",
    "\n",
    "$$\\textrm{UNIX time} = (\\textrm{MJD} - 40587) \\times 86400$$\n",
    "\n",
    "where 86400 is the number of seconds in 24 hours."
   ]
  },
  {
   "cell_type": "markdown",
   "metadata": {
    "slideshow": {
     "slide_type": "slide"
    }
   },
   "source": [
    "### 2b. Passband\n",
    "<a id=\"section2b\"></a>\n",
    "\n",
    "The next column, labeled `passband` tells you the passband that the observation at time `mjd` was taken. "
   ]
  },
  {
   "cell_type": "markdown",
   "metadata": {
    "nbpresent": {
     "id": "df1626e3-77e6-441c-a3a2-017b2f8c43ee"
    },
    "slideshow": {
     "slide_type": "fragment"
    }
   },
   "source": [
    "We've mapped the passband names to integers, but the mapping is straightforward:\n",
    "\n",
    "$$ \\{ u \\rightarrow 0,~g \\rightarrow 1,~r \\rightarrow 2,~i \\rightarrow 3,~z \\rightarrow 4,~y \\rightarrow 5 \\} $$"
   ]
  },
  {
   "cell_type": "markdown",
   "metadata": {
    "slideshow": {
     "slide_type": "fragment"
    }
   },
   "source": [
    "You probably guessed as much looking at Figure 10, but $u$ covers the ultraviolet, $g$ covers what your eye perceives as blue/green, $r$ covers red, $i$ covers the infrared. "
   ]
  },
  {
   "cell_type": "markdown",
   "metadata": {
    "slideshow": {
     "slide_type": "fragment"
    }
   },
   "source": [
    "I'm not even going to pretend that $z$ and $Y$ have good reasons to be named what they are. "
   ]
  },
  {
   "cell_type": "markdown",
   "metadata": {
    "slideshow": {
     "slide_type": "fragment"
    }
   },
   "source": [
    "Unlike other multi-channel time-series data, you do not get all the other channels or passbands at once. There's only one filter in front of the camera at any time."
   ]
  },
  {
   "cell_type": "markdown",
   "metadata": {
    "slideshow": {
     "slide_type": "skip"
    }
   },
   "source": [
    "(Historical parenthetical: See <a href=\"http://articles.adsabs.harvard.edu/cgi-bin/nph-iarticle_query?2008JAVSO..36..110M&amp;data_type=PDF_HIGH&amp;whole_paper=YES&amp;type=PRINTER&amp;filetype=.pdf\">Milone and Young, 2008</a>, Sec. 5)"
   ]
  },
  {
   "cell_type": "markdown",
   "metadata": {
    "slideshow": {
     "slide_type": "slide"
    }
   },
   "source": [
    "### 2c. Flux and Flux Error\n",
    "<a id=\"section2c\"></a>\n",
    "\n",
    "The last two columns in this file are named `flux` contains the actual photometry - the measurements of brightness of this source as a function of time. "
   ]
  },
  {
   "cell_type": "markdown",
   "metadata": {
    "slideshow": {
     "slide_type": "fragment"
    }
   },
   "source": [
    "The 68% confidence interval of the measurement is in the `flux_err` column. "
   ]
  },
  {
   "cell_type": "markdown",
   "metadata": {
    "slideshow": {
     "slide_type": "fragment"
    }
   },
   "source": [
    "It's worth noting that while astrophysical sources have to emit enough light to be brighter than the background sky (more or less the definition of what a source is), the flux can be positive or negative."
   ]
  },
  {
   "cell_type": "markdown",
   "metadata": {
    "slideshow": {
     "slide_type": "fragment"
    }
   },
   "source": [
    "This is because of how we actually detect these sources against the background sky. "
   ]
  },
  {
   "cell_type": "markdown",
   "metadata": {
    "slideshow": {
     "slide_type": "slide"
    }
   },
   "source": [
    "LSST will have a reference image for each position on the sky - called a \"template\". "
   ]
  },
  {
   "cell_type": "markdown",
   "metadata": {
    "slideshow": {
     "slide_type": "fragment"
    }
   },
   "source": [
    "Each image it takes of a particular region is differenced with the template. "
   ]
  },
  {
   "cell_type": "markdown",
   "metadata": {
    "slideshow": {
     "slide_type": "fragment"
    }
   },
   "source": [
    "Each image then includes a contribution from the source and the background. "
   ]
  },
  {
   "cell_type": "markdown",
   "metadata": {
    "slideshow": {
     "slide_type": "fragment"
    }
   },
   "source": [
    "Objects for which the total flux from source and background is higher than that of the template have positive flux, and when the total flux is lower than the template flux, they have have negative flux."
   ]
  },
  {
   "cell_type": "markdown",
   "metadata": {
    "slideshow": {
     "slide_type": "skip"
    }
   },
   "source": [
    "As the source flux changes with time, some sources can have some flux entries as positive and others that are negative."
   ]
  },
  {
   "cell_type": "markdown",
   "metadata": {
    "slideshow": {
     "slide_type": "skip"
    }
   },
   "source": [
    "For some objects, the contribution from the source will fade over time, leaving just the background - which is about the same level as the flux in the template, so some flux entries will be consistent with zero."
   ]
  },
  {
   "cell_type": "markdown",
   "metadata": {
    "slideshow": {
     "slide_type": "slide"
    }
   },
   "source": [
    "Here's how that looks:\n",
    "\n",
    "<center><img src=\"media/2007-X-025_R.PS.png\"></center>\n",
    "<center><img src=\"media/2007-X-025_I.PS.png\"></center>"
   ]
  },
  {
   "cell_type": "markdown",
   "metadata": {
    "slideshow": {
     "slide_type": "-"
    }
   },
   "source": [
    "#### _Figure 14: Difference Imaging \"Postage Stamps\" (Reference, Image, Difference)_"
   ]
  },
  {
   "cell_type": "markdown",
   "metadata": {
    "slideshow": {
     "slide_type": "fragment"
    }
   },
   "source": [
    "The template image in the left panels is from 2004, while the \"current\" images are from 2007. The third panel has the difference between the two - and you can see there's some light left over near the fuzzy galaxy. The two rows correspond to roughly the $r$ filter and the $i$ filter. "
   ]
  },
  {
   "cell_type": "markdown",
   "metadata": {
    "slideshow": {
     "slide_type": "slide"
    }
   },
   "source": [
    "You can see the properties of the two sets of images are different. There's a much higher background in the bottom row thanks to a bright source off to the top right. "
   ]
  },
  {
   "cell_type": "markdown",
   "metadata": {
    "slideshow": {
     "slide_type": "fragment"
    }
   },
   "source": [
    "This is also one of the reasons why LSST is being built on top of a mountain high in the Atacama desert of Chile - it's far away from bright city lights and the sky background is lower, allowing us to detect fainter sources. "
   ]
  },
  {
   "cell_type": "markdown",
   "metadata": {
    "slideshow": {
     "slide_type": "fragment"
    }
   },
   "source": [
    "This particular source was a supernova, but the same technique can be used to identify all manner of variable and transient sources in astronomical images."
   ]
  },
  {
   "cell_type": "markdown",
   "metadata": {
    "nbpresent": {
     "id": "95f13cf1-5956-4b5d-a40e-dae6c52f8ee6"
    },
    "slideshow": {
     "slide_type": "fragment"
    }
   },
   "source": [
    "Because of this difference imaging techniques, objects have to have changed significantly with respect to the template to be detected by LSST. Whether or not they were detected with respect to the template is reported as `detected_bool`."
   ]
  },
  {
   "cell_type": "markdown",
   "metadata": {
    "slideshow": {
     "slide_type": "slide"
    }
   },
   "source": [
    "## 3. Exploring the Light Curves\n",
    "<a id=\"section3\"></a>\n",
    "\n",
    "To get a better sense of what the `flux` and `flux_err` look like, let's take a look at some of their light curves."
   ]
  },
  {
   "cell_type": "markdown",
   "metadata": {
    "nbpresent": {
     "id": "1fe8a6e9-5eba-4ab1-a2ca-7888f3275dde"
    },
    "slideshow": {
     "slide_type": "skip"
    }
   },
   "source": [
    "We'll begin by defining a class to handle this example, with a few illustrative features you can use for classification:"
   ]
  },
  {
   "cell_type": "code",
   "execution_count": 10,
   "metadata": {
    "nbpresent": {
     "id": "9d5ae1ff-bcc0-42a8-b366-38703a122397"
    },
    "slideshow": {
     "slide_type": "skip"
    }
   },
   "outputs": [],
   "source": [
    "import os\n",
    "import numpy as np\n",
    "import scipy.stats as spstat\n",
    "import matplotlib.pyplot as plt\n",
    "from collections import OrderedDict\n",
    "\n",
    "%matplotlib notebook"
   ]
  },
  {
   "cell_type": "code",
   "execution_count": 11,
   "metadata": {
    "nbpresent": {
     "id": "233e0dfe-c579-42b2-ab56-3b1e83492c6b"
    },
    "slideshow": {
     "slide_type": "skip"
    }
   },
   "outputs": [],
   "source": [
    "class LightCurve(object):\n",
    "    '''Light curve object for PLAsTiCC formatted data'''\n",
    "    \n",
    "    _passbands = OrderedDict([(0,'C4'),\\\n",
    "                              (1,'C2'),\\\n",
    "                              (2,'C3'),\\\n",
    "                              (3,'C1'),\\\n",
    "                              (4,'k'),\\\n",
    "                              (5,'C5')])\n",
    "    \n",
    "    _pbnames = ['u','g','r','i','z','y']\n",
    "    \n",
    "    def __init__(self, filename):\n",
    "        '''Read in light curve data'''\n",
    "\n",
    "        self.DFlc     = Table.read(filename, format='ascii.csv')\n",
    "        self.filename = filename.replace('.csv','')\n",
    "        self._finalize()\n",
    "     \n",
    "    # this is some simple code to demonstrate how to calculate features on these multiband light curves\n",
    "    # we're not suggesting using these features specifically\n",
    "    # there also might be additional pre-processing you do before computing anything\n",
    "    # it's purely for illustration\n",
    "    def _finalize(self):\n",
    "        '''Store individual passband fluxes as object attributes'''\n",
    "        # in this example, we'll use the weighted mean to normalize the features\n",
    "        weighted_mean = lambda flux, dflux: np.sum(flux*(flux/dflux)**2)/np.sum((flux/dflux)**2)\n",
    "        \n",
    "        # define some functions to compute simple descriptive statistics\n",
    "        normalized_flux_std = lambda flux, wMeanFlux: np.std(flux/wMeanFlux, ddof = 1)\n",
    "        normalized_amplitude = lambda flux, wMeanFlux: (np.max(flux) - np.min(flux))/wMeanFlux\n",
    "        normalized_MAD = lambda flux, wMeanFlux: np.median(np.abs((flux - np.median(flux))/wMeanFlux))\n",
    "        beyond_1std = lambda flux, wMeanFlux: sum(np.abs(flux - wMeanFlux) > np.std(flux, ddof = 1))/len(flux)\n",
    "        \n",
    "        for pb in self._passbands:\n",
    "            ind = self.DFlc['passband'] == pb\n",
    "            pbname = self._pbnames[pb]\n",
    "            \n",
    "            if len(self.DFlc[ind]) == 0:\n",
    "                setattr(self, f'{pbname}Std', np.nan)\n",
    "                setattr(self, f'{pbname}Amp', np.nan)\n",
    "                setattr(self, f'{pbname}MAD', np.nan)\n",
    "                setattr(self, f'{pbname}Beyond', np.nan)\n",
    "                setattr(self, f'{pbname}Skew', np.nan)\n",
    "                continue\n",
    "            \n",
    "            f  = self.DFlc['flux'][ind]\n",
    "            df = self.DFlc['flux_err'][ind]\n",
    "            m  = weighted_mean(f, df)\n",
    "            \n",
    "            # we'll save the measurements in each passband to simplify access.\n",
    "            setattr(self, f'{pbname}Flux', f)\n",
    "            setattr(self, f'{pbname}FluxUnc', df)\n",
    "            setattr(self, f'{pbname}Mean', m)\n",
    "            \n",
    "            # compute the features\n",
    "            std = normalized_flux_std(f, df)\n",
    "            amp = normalized_amplitude(f, m)\n",
    "            mad = normalized_MAD(f, m)\n",
    "            beyond = beyond_1std(f, m)\n",
    "            skew = spstat.skew(f) \n",
    "            \n",
    "            # and save the features\n",
    "            setattr(self, f'{pbname}Std', std)\n",
    "            setattr(self, f'{pbname}Amp', amp)\n",
    "            setattr(self, f'{pbname}MAD', mad)\n",
    "            setattr(self, f'{pbname}Beyond', beyond)\n",
    "            setattr(self, f'{pbname}Skew', skew)\n",
    "        \n",
    "        # we can also construct features between passbands\n",
    "        pbs = list(self._passbands.keys())\n",
    "        for i, lpb in enumerate(pbs[0:-1]):\n",
    "            rpb = pbs[i+1]\n",
    "            \n",
    "            lpbname = self._pbnames[lpb]\n",
    "            rpbname = self._pbnames[rpb]\n",
    "            \n",
    "            colname = '{}Minus{}'.format(lpbname, rpbname.upper())\n",
    "            lMean = getattr(self, f'{lpbname}Mean', np.nan)\n",
    "            rMean = getattr(self, f'{rpbname}Mean', np.nan)\n",
    "            col = -2.5*np.log10(lMean/rMean) if lMean> 0 and rMean > 0 else -999\n",
    "            setattr(self, colname, col)\n",
    "    \n",
    "    # this is a simple routine to visualize a light curve\n",
    "    # it can plot vs the MJD array of the light curve\n",
    "    # or vs an optional `phase` array that you pass \n",
    "    def plot_multicolor_lc(self, phase=None):\n",
    "        '''Plot the multiband light curve'''\n",
    "\n",
    "        fig, ax = plt.subplots(figsize=(8,6))\n",
    "\n",
    "        \n",
    "        if phase is None:\n",
    "            phase = []\n",
    "        if len(phase) != len(self.DFlc):\n",
    "            phase = self.DFlc['mjd']\n",
    "            xlabel = 'MJD'\n",
    "        else:\n",
    "            xlabel = 'Phase'\n",
    "            \n",
    "        for i, pb in enumerate(self._passbands):\n",
    "            pbname = self._pbnames[pb]\n",
    "            ind = self.DFlc['passband'] == pb\n",
    "            if len(self.DFlc[ind]) == 0:\n",
    "                continue\n",
    "            ax.errorbar(phase[ind], \n",
    "                     self.DFlc['flux'][ind],\n",
    "                     self.DFlc['flux_err'][ind],\n",
    "                     fmt = 'o', color = self._passbands[pb], label = f'{pbname}')\n",
    "        ax.legend(ncol = 4, frameon = True)\n",
    "        ax.set_xlabel(f'{xlabel}', fontsize='large')\n",
    "        ax.set_ylabel('Flux', fontsize='large')\n",
    "        fig.suptitle(self.filename, fontsize='x-large')\n",
    "        fig.tight_layout(rect=[0, 0, 1, 0.97])\n",
    "    \n",
    "    def get_features(self):\n",
    "        '''Return all the features for this object'''\n",
    "        variables = ['Std', 'Amp', 'MAD', 'Beyond', 'Skew']\n",
    "        feats = []\n",
    "        for i, pb in enumerate(self._passbands):\n",
    "            pbname = self._pbnames[pb]\n",
    "            feats += [getattr(self, f'{pbname}{x}', np.nan) for x in variables]\n",
    "        return feats"
   ]
  },
  {
   "cell_type": "markdown",
   "metadata": {
    "slideshow": {
     "slide_type": "slide"
    }
   },
   "source": [
    "Some of the light curves in the training set should already look familiar - this is a type Ia supernova - like SN1998bu in the animation. "
   ]
  },
  {
   "cell_type": "code",
   "execution_count": 12,
   "metadata": {
    "nbpresent": {
     "id": "84797026-4473-47dd-ac31-082c0759dca5"
    },
    "slideshow": {
     "slide_type": "fragment"
    }
   },
   "outputs": [
    {
     "data": {
      "application/javascript": [
       "/* Put everything inside the global mpl namespace */\n",
       "window.mpl = {};\n",
       "\n",
       "\n",
       "mpl.get_websocket_type = function() {\n",
       "    if (typeof(WebSocket) !== 'undefined') {\n",
       "        return WebSocket;\n",
       "    } else if (typeof(MozWebSocket) !== 'undefined') {\n",
       "        return MozWebSocket;\n",
       "    } else {\n",
       "        alert('Your browser does not have WebSocket support.' +\n",
       "              'Please try Chrome, Safari or Firefox ≥ 6. ' +\n",
       "              'Firefox 4 and 5 are also supported but you ' +\n",
       "              'have to enable WebSockets in about:config.');\n",
       "    };\n",
       "}\n",
       "\n",
       "mpl.figure = function(figure_id, websocket, ondownload, parent_element) {\n",
       "    this.id = figure_id;\n",
       "\n",
       "    this.ws = websocket;\n",
       "\n",
       "    this.supports_binary = (this.ws.binaryType != undefined);\n",
       "\n",
       "    if (!this.supports_binary) {\n",
       "        var warnings = document.getElementById(\"mpl-warnings\");\n",
       "        if (warnings) {\n",
       "            warnings.style.display = 'block';\n",
       "            warnings.textContent = (\n",
       "                \"This browser does not support binary websocket messages. \" +\n",
       "                    \"Performance may be slow.\");\n",
       "        }\n",
       "    }\n",
       "\n",
       "    this.imageObj = new Image();\n",
       "\n",
       "    this.context = undefined;\n",
       "    this.message = undefined;\n",
       "    this.canvas = undefined;\n",
       "    this.rubberband_canvas = undefined;\n",
       "    this.rubberband_context = undefined;\n",
       "    this.format_dropdown = undefined;\n",
       "\n",
       "    this.image_mode = 'full';\n",
       "\n",
       "    this.root = $('<div/>');\n",
       "    this._root_extra_style(this.root)\n",
       "    this.root.attr('style', 'display: inline-block');\n",
       "\n",
       "    $(parent_element).append(this.root);\n",
       "\n",
       "    this._init_header(this);\n",
       "    this._init_canvas(this);\n",
       "    this._init_toolbar(this);\n",
       "\n",
       "    var fig = this;\n",
       "\n",
       "    this.waiting = false;\n",
       "\n",
       "    this.ws.onopen =  function () {\n",
       "            fig.send_message(\"supports_binary\", {value: fig.supports_binary});\n",
       "            fig.send_message(\"send_image_mode\", {});\n",
       "            if (mpl.ratio != 1) {\n",
       "                fig.send_message(\"set_dpi_ratio\", {'dpi_ratio': mpl.ratio});\n",
       "            }\n",
       "            fig.send_message(\"refresh\", {});\n",
       "        }\n",
       "\n",
       "    this.imageObj.onload = function() {\n",
       "            if (fig.image_mode == 'full') {\n",
       "                // Full images could contain transparency (where diff images\n",
       "                // almost always do), so we need to clear the canvas so that\n",
       "                // there is no ghosting.\n",
       "                fig.context.clearRect(0, 0, fig.canvas.width, fig.canvas.height);\n",
       "            }\n",
       "            fig.context.drawImage(fig.imageObj, 0, 0);\n",
       "        };\n",
       "\n",
       "    this.imageObj.onunload = function() {\n",
       "        fig.ws.close();\n",
       "    }\n",
       "\n",
       "    this.ws.onmessage = this._make_on_message_function(this);\n",
       "\n",
       "    this.ondownload = ondownload;\n",
       "}\n",
       "\n",
       "mpl.figure.prototype._init_header = function() {\n",
       "    var titlebar = $(\n",
       "        '<div class=\"ui-dialog-titlebar ui-widget-header ui-corner-all ' +\n",
       "        'ui-helper-clearfix\"/>');\n",
       "    var titletext = $(\n",
       "        '<div class=\"ui-dialog-title\" style=\"width: 100%; ' +\n",
       "        'text-align: center; padding: 3px;\"/>');\n",
       "    titlebar.append(titletext)\n",
       "    this.root.append(titlebar);\n",
       "    this.header = titletext[0];\n",
       "}\n",
       "\n",
       "\n",
       "\n",
       "mpl.figure.prototype._canvas_extra_style = function(canvas_div) {\n",
       "\n",
       "}\n",
       "\n",
       "\n",
       "mpl.figure.prototype._root_extra_style = function(canvas_div) {\n",
       "\n",
       "}\n",
       "\n",
       "mpl.figure.prototype._init_canvas = function() {\n",
       "    var fig = this;\n",
       "\n",
       "    var canvas_div = $('<div/>');\n",
       "\n",
       "    canvas_div.attr('style', 'position: relative; clear: both; outline: 0');\n",
       "\n",
       "    function canvas_keyboard_event(event) {\n",
       "        return fig.key_event(event, event['data']);\n",
       "    }\n",
       "\n",
       "    canvas_div.keydown('key_press', canvas_keyboard_event);\n",
       "    canvas_div.keyup('key_release', canvas_keyboard_event);\n",
       "    this.canvas_div = canvas_div\n",
       "    this._canvas_extra_style(canvas_div)\n",
       "    this.root.append(canvas_div);\n",
       "\n",
       "    var canvas = $('<canvas/>');\n",
       "    canvas.addClass('mpl-canvas');\n",
       "    canvas.attr('style', \"left: 0; top: 0; z-index: 0; outline: 0\")\n",
       "\n",
       "    this.canvas = canvas[0];\n",
       "    this.context = canvas[0].getContext(\"2d\");\n",
       "\n",
       "    var backingStore = this.context.backingStorePixelRatio ||\n",
       "\tthis.context.webkitBackingStorePixelRatio ||\n",
       "\tthis.context.mozBackingStorePixelRatio ||\n",
       "\tthis.context.msBackingStorePixelRatio ||\n",
       "\tthis.context.oBackingStorePixelRatio ||\n",
       "\tthis.context.backingStorePixelRatio || 1;\n",
       "\n",
       "    mpl.ratio = (window.devicePixelRatio || 1) / backingStore;\n",
       "\n",
       "    var rubberband = $('<canvas/>');\n",
       "    rubberband.attr('style', \"position: absolute; left: 0; top: 0; z-index: 1;\")\n",
       "\n",
       "    var pass_mouse_events = true;\n",
       "\n",
       "    canvas_div.resizable({\n",
       "        start: function(event, ui) {\n",
       "            pass_mouse_events = false;\n",
       "        },\n",
       "        resize: function(event, ui) {\n",
       "            fig.request_resize(ui.size.width, ui.size.height);\n",
       "        },\n",
       "        stop: function(event, ui) {\n",
       "            pass_mouse_events = true;\n",
       "            fig.request_resize(ui.size.width, ui.size.height);\n",
       "        },\n",
       "    });\n",
       "\n",
       "    function mouse_event_fn(event) {\n",
       "        if (pass_mouse_events)\n",
       "            return fig.mouse_event(event, event['data']);\n",
       "    }\n",
       "\n",
       "    rubberband.mousedown('button_press', mouse_event_fn);\n",
       "    rubberband.mouseup('button_release', mouse_event_fn);\n",
       "    // Throttle sequential mouse events to 1 every 20ms.\n",
       "    rubberband.mousemove('motion_notify', mouse_event_fn);\n",
       "\n",
       "    rubberband.mouseenter('figure_enter', mouse_event_fn);\n",
       "    rubberband.mouseleave('figure_leave', mouse_event_fn);\n",
       "\n",
       "    canvas_div.on(\"wheel\", function (event) {\n",
       "        event = event.originalEvent;\n",
       "        event['data'] = 'scroll'\n",
       "        if (event.deltaY < 0) {\n",
       "            event.step = 1;\n",
       "        } else {\n",
       "            event.step = -1;\n",
       "        }\n",
       "        mouse_event_fn(event);\n",
       "    });\n",
       "\n",
       "    canvas_div.append(canvas);\n",
       "    canvas_div.append(rubberband);\n",
       "\n",
       "    this.rubberband = rubberband;\n",
       "    this.rubberband_canvas = rubberband[0];\n",
       "    this.rubberband_context = rubberband[0].getContext(\"2d\");\n",
       "    this.rubberband_context.strokeStyle = \"#000000\";\n",
       "\n",
       "    this._resize_canvas = function(width, height) {\n",
       "        // Keep the size of the canvas, canvas container, and rubber band\n",
       "        // canvas in synch.\n",
       "        canvas_div.css('width', width)\n",
       "        canvas_div.css('height', height)\n",
       "\n",
       "        canvas.attr('width', width * mpl.ratio);\n",
       "        canvas.attr('height', height * mpl.ratio);\n",
       "        canvas.attr('style', 'width: ' + width + 'px; height: ' + height + 'px;');\n",
       "\n",
       "        rubberband.attr('width', width);\n",
       "        rubberband.attr('height', height);\n",
       "    }\n",
       "\n",
       "    // Set the figure to an initial 600x600px, this will subsequently be updated\n",
       "    // upon first draw.\n",
       "    this._resize_canvas(600, 600);\n",
       "\n",
       "    // Disable right mouse context menu.\n",
       "    $(this.rubberband_canvas).bind(\"contextmenu\",function(e){\n",
       "        return false;\n",
       "    });\n",
       "\n",
       "    function set_focus () {\n",
       "        canvas.focus();\n",
       "        canvas_div.focus();\n",
       "    }\n",
       "\n",
       "    window.setTimeout(set_focus, 100);\n",
       "}\n",
       "\n",
       "mpl.figure.prototype._init_toolbar = function() {\n",
       "    var fig = this;\n",
       "\n",
       "    var nav_element = $('<div/>')\n",
       "    nav_element.attr('style', 'width: 100%');\n",
       "    this.root.append(nav_element);\n",
       "\n",
       "    // Define a callback function for later on.\n",
       "    function toolbar_event(event) {\n",
       "        return fig.toolbar_button_onclick(event['data']);\n",
       "    }\n",
       "    function toolbar_mouse_event(event) {\n",
       "        return fig.toolbar_button_onmouseover(event['data']);\n",
       "    }\n",
       "\n",
       "    for(var toolbar_ind in mpl.toolbar_items) {\n",
       "        var name = mpl.toolbar_items[toolbar_ind][0];\n",
       "        var tooltip = mpl.toolbar_items[toolbar_ind][1];\n",
       "        var image = mpl.toolbar_items[toolbar_ind][2];\n",
       "        var method_name = mpl.toolbar_items[toolbar_ind][3];\n",
       "\n",
       "        if (!name) {\n",
       "            // put a spacer in here.\n",
       "            continue;\n",
       "        }\n",
       "        var button = $('<button/>');\n",
       "        button.addClass('ui-button ui-widget ui-state-default ui-corner-all ' +\n",
       "                        'ui-button-icon-only');\n",
       "        button.attr('role', 'button');\n",
       "        button.attr('aria-disabled', 'false');\n",
       "        button.click(method_name, toolbar_event);\n",
       "        button.mouseover(tooltip, toolbar_mouse_event);\n",
       "\n",
       "        var icon_img = $('<span/>');\n",
       "        icon_img.addClass('ui-button-icon-primary ui-icon');\n",
       "        icon_img.addClass(image);\n",
       "        icon_img.addClass('ui-corner-all');\n",
       "\n",
       "        var tooltip_span = $('<span/>');\n",
       "        tooltip_span.addClass('ui-button-text');\n",
       "        tooltip_span.html(tooltip);\n",
       "\n",
       "        button.append(icon_img);\n",
       "        button.append(tooltip_span);\n",
       "\n",
       "        nav_element.append(button);\n",
       "    }\n",
       "\n",
       "    var fmt_picker_span = $('<span/>');\n",
       "\n",
       "    var fmt_picker = $('<select/>');\n",
       "    fmt_picker.addClass('mpl-toolbar-option ui-widget ui-widget-content');\n",
       "    fmt_picker_span.append(fmt_picker);\n",
       "    nav_element.append(fmt_picker_span);\n",
       "    this.format_dropdown = fmt_picker[0];\n",
       "\n",
       "    for (var ind in mpl.extensions) {\n",
       "        var fmt = mpl.extensions[ind];\n",
       "        var option = $(\n",
       "            '<option/>', {selected: fmt === mpl.default_extension}).html(fmt);\n",
       "        fmt_picker.append(option)\n",
       "    }\n",
       "\n",
       "    // Add hover states to the ui-buttons\n",
       "    $( \".ui-button\" ).hover(\n",
       "        function() { $(this).addClass(\"ui-state-hover\");},\n",
       "        function() { $(this).removeClass(\"ui-state-hover\");}\n",
       "    );\n",
       "\n",
       "    var status_bar = $('<span class=\"mpl-message\"/>');\n",
       "    nav_element.append(status_bar);\n",
       "    this.message = status_bar[0];\n",
       "}\n",
       "\n",
       "mpl.figure.prototype.request_resize = function(x_pixels, y_pixels) {\n",
       "    // Request matplotlib to resize the figure. Matplotlib will then trigger a resize in the client,\n",
       "    // which will in turn request a refresh of the image.\n",
       "    this.send_message('resize', {'width': x_pixels, 'height': y_pixels});\n",
       "}\n",
       "\n",
       "mpl.figure.prototype.send_message = function(type, properties) {\n",
       "    properties['type'] = type;\n",
       "    properties['figure_id'] = this.id;\n",
       "    this.ws.send(JSON.stringify(properties));\n",
       "}\n",
       "\n",
       "mpl.figure.prototype.send_draw_message = function() {\n",
       "    if (!this.waiting) {\n",
       "        this.waiting = true;\n",
       "        this.ws.send(JSON.stringify({type: \"draw\", figure_id: this.id}));\n",
       "    }\n",
       "}\n",
       "\n",
       "\n",
       "mpl.figure.prototype.handle_save = function(fig, msg) {\n",
       "    var format_dropdown = fig.format_dropdown;\n",
       "    var format = format_dropdown.options[format_dropdown.selectedIndex].value;\n",
       "    fig.ondownload(fig, format);\n",
       "}\n",
       "\n",
       "\n",
       "mpl.figure.prototype.handle_resize = function(fig, msg) {\n",
       "    var size = msg['size'];\n",
       "    if (size[0] != fig.canvas.width || size[1] != fig.canvas.height) {\n",
       "        fig._resize_canvas(size[0], size[1]);\n",
       "        fig.send_message(\"refresh\", {});\n",
       "    };\n",
       "}\n",
       "\n",
       "mpl.figure.prototype.handle_rubberband = function(fig, msg) {\n",
       "    var x0 = msg['x0'] / mpl.ratio;\n",
       "    var y0 = (fig.canvas.height - msg['y0']) / mpl.ratio;\n",
       "    var x1 = msg['x1'] / mpl.ratio;\n",
       "    var y1 = (fig.canvas.height - msg['y1']) / mpl.ratio;\n",
       "    x0 = Math.floor(x0) + 0.5;\n",
       "    y0 = Math.floor(y0) + 0.5;\n",
       "    x1 = Math.floor(x1) + 0.5;\n",
       "    y1 = Math.floor(y1) + 0.5;\n",
       "    var min_x = Math.min(x0, x1);\n",
       "    var min_y = Math.min(y0, y1);\n",
       "    var width = Math.abs(x1 - x0);\n",
       "    var height = Math.abs(y1 - y0);\n",
       "\n",
       "    fig.rubberband_context.clearRect(\n",
       "        0, 0, fig.canvas.width, fig.canvas.height);\n",
       "\n",
       "    fig.rubberband_context.strokeRect(min_x, min_y, width, height);\n",
       "}\n",
       "\n",
       "mpl.figure.prototype.handle_figure_label = function(fig, msg) {\n",
       "    // Updates the figure title.\n",
       "    fig.header.textContent = msg['label'];\n",
       "}\n",
       "\n",
       "mpl.figure.prototype.handle_cursor = function(fig, msg) {\n",
       "    var cursor = msg['cursor'];\n",
       "    switch(cursor)\n",
       "    {\n",
       "    case 0:\n",
       "        cursor = 'pointer';\n",
       "        break;\n",
       "    case 1:\n",
       "        cursor = 'default';\n",
       "        break;\n",
       "    case 2:\n",
       "        cursor = 'crosshair';\n",
       "        break;\n",
       "    case 3:\n",
       "        cursor = 'move';\n",
       "        break;\n",
       "    }\n",
       "    fig.rubberband_canvas.style.cursor = cursor;\n",
       "}\n",
       "\n",
       "mpl.figure.prototype.handle_message = function(fig, msg) {\n",
       "    fig.message.textContent = msg['message'];\n",
       "}\n",
       "\n",
       "mpl.figure.prototype.handle_draw = function(fig, msg) {\n",
       "    // Request the server to send over a new figure.\n",
       "    fig.send_draw_message();\n",
       "}\n",
       "\n",
       "mpl.figure.prototype.handle_image_mode = function(fig, msg) {\n",
       "    fig.image_mode = msg['mode'];\n",
       "}\n",
       "\n",
       "mpl.figure.prototype.updated_canvas_event = function() {\n",
       "    // Called whenever the canvas gets updated.\n",
       "    this.send_message(\"ack\", {});\n",
       "}\n",
       "\n",
       "// A function to construct a web socket function for onmessage handling.\n",
       "// Called in the figure constructor.\n",
       "mpl.figure.prototype._make_on_message_function = function(fig) {\n",
       "    return function socket_on_message(evt) {\n",
       "        if (evt.data instanceof Blob) {\n",
       "            /* FIXME: We get \"Resource interpreted as Image but\n",
       "             * transferred with MIME type text/plain:\" errors on\n",
       "             * Chrome.  But how to set the MIME type?  It doesn't seem\n",
       "             * to be part of the websocket stream */\n",
       "            evt.data.type = \"image/png\";\n",
       "\n",
       "            /* Free the memory for the previous frames */\n",
       "            if (fig.imageObj.src) {\n",
       "                (window.URL || window.webkitURL).revokeObjectURL(\n",
       "                    fig.imageObj.src);\n",
       "            }\n",
       "\n",
       "            fig.imageObj.src = (window.URL || window.webkitURL).createObjectURL(\n",
       "                evt.data);\n",
       "            fig.updated_canvas_event();\n",
       "            fig.waiting = false;\n",
       "            return;\n",
       "        }\n",
       "        else if (typeof evt.data === 'string' && evt.data.slice(0, 21) == \"data:image/png;base64\") {\n",
       "            fig.imageObj.src = evt.data;\n",
       "            fig.updated_canvas_event();\n",
       "            fig.waiting = false;\n",
       "            return;\n",
       "        }\n",
       "\n",
       "        var msg = JSON.parse(evt.data);\n",
       "        var msg_type = msg['type'];\n",
       "\n",
       "        // Call the  \"handle_{type}\" callback, which takes\n",
       "        // the figure and JSON message as its only arguments.\n",
       "        try {\n",
       "            var callback = fig[\"handle_\" + msg_type];\n",
       "        } catch (e) {\n",
       "            console.log(\"No handler for the '\" + msg_type + \"' message type: \", msg);\n",
       "            return;\n",
       "        }\n",
       "\n",
       "        if (callback) {\n",
       "            try {\n",
       "                // console.log(\"Handling '\" + msg_type + \"' message: \", msg);\n",
       "                callback(fig, msg);\n",
       "            } catch (e) {\n",
       "                console.log(\"Exception inside the 'handler_\" + msg_type + \"' callback:\", e, e.stack, msg);\n",
       "            }\n",
       "        }\n",
       "    };\n",
       "}\n",
       "\n",
       "// from http://stackoverflow.com/questions/1114465/getting-mouse-location-in-canvas\n",
       "mpl.findpos = function(e) {\n",
       "    //this section is from http://www.quirksmode.org/js/events_properties.html\n",
       "    var targ;\n",
       "    if (!e)\n",
       "        e = window.event;\n",
       "    if (e.target)\n",
       "        targ = e.target;\n",
       "    else if (e.srcElement)\n",
       "        targ = e.srcElement;\n",
       "    if (targ.nodeType == 3) // defeat Safari bug\n",
       "        targ = targ.parentNode;\n",
       "\n",
       "    // jQuery normalizes the pageX and pageY\n",
       "    // pageX,Y are the mouse positions relative to the document\n",
       "    // offset() returns the position of the element relative to the document\n",
       "    var x = e.pageX - $(targ).offset().left;\n",
       "    var y = e.pageY - $(targ).offset().top;\n",
       "\n",
       "    return {\"x\": x, \"y\": y};\n",
       "};\n",
       "\n",
       "/*\n",
       " * return a copy of an object with only non-object keys\n",
       " * we need this to avoid circular references\n",
       " * http://stackoverflow.com/a/24161582/3208463\n",
       " */\n",
       "function simpleKeys (original) {\n",
       "  return Object.keys(original).reduce(function (obj, key) {\n",
       "    if (typeof original[key] !== 'object')\n",
       "        obj[key] = original[key]\n",
       "    return obj;\n",
       "  }, {});\n",
       "}\n",
       "\n",
       "mpl.figure.prototype.mouse_event = function(event, name) {\n",
       "    var canvas_pos = mpl.findpos(event)\n",
       "\n",
       "    if (name === 'button_press')\n",
       "    {\n",
       "        this.canvas.focus();\n",
       "        this.canvas_div.focus();\n",
       "    }\n",
       "\n",
       "    var x = canvas_pos.x * mpl.ratio;\n",
       "    var y = canvas_pos.y * mpl.ratio;\n",
       "\n",
       "    this.send_message(name, {x: x, y: y, button: event.button,\n",
       "                             step: event.step,\n",
       "                             guiEvent: simpleKeys(event)});\n",
       "\n",
       "    /* This prevents the web browser from automatically changing to\n",
       "     * the text insertion cursor when the button is pressed.  We want\n",
       "     * to control all of the cursor setting manually through the\n",
       "     * 'cursor' event from matplotlib */\n",
       "    event.preventDefault();\n",
       "    return false;\n",
       "}\n",
       "\n",
       "mpl.figure.prototype._key_event_extra = function(event, name) {\n",
       "    // Handle any extra behaviour associated with a key event\n",
       "}\n",
       "\n",
       "mpl.figure.prototype.key_event = function(event, name) {\n",
       "\n",
       "    // Prevent repeat events\n",
       "    if (name == 'key_press')\n",
       "    {\n",
       "        if (event.which === this._key)\n",
       "            return;\n",
       "        else\n",
       "            this._key = event.which;\n",
       "    }\n",
       "    if (name == 'key_release')\n",
       "        this._key = null;\n",
       "\n",
       "    var value = '';\n",
       "    if (event.ctrlKey && event.which != 17)\n",
       "        value += \"ctrl+\";\n",
       "    if (event.altKey && event.which != 18)\n",
       "        value += \"alt+\";\n",
       "    if (event.shiftKey && event.which != 16)\n",
       "        value += \"shift+\";\n",
       "\n",
       "    value += 'k';\n",
       "    value += event.which.toString();\n",
       "\n",
       "    this._key_event_extra(event, name);\n",
       "\n",
       "    this.send_message(name, {key: value,\n",
       "                             guiEvent: simpleKeys(event)});\n",
       "    return false;\n",
       "}\n",
       "\n",
       "mpl.figure.prototype.toolbar_button_onclick = function(name) {\n",
       "    if (name == 'download') {\n",
       "        this.handle_save(this, null);\n",
       "    } else {\n",
       "        this.send_message(\"toolbar_button\", {name: name});\n",
       "    }\n",
       "};\n",
       "\n",
       "mpl.figure.prototype.toolbar_button_onmouseover = function(tooltip) {\n",
       "    this.message.textContent = tooltip;\n",
       "};\n",
       "mpl.toolbar_items = [[\"Home\", \"Reset original view\", \"fa fa-home icon-home\", \"home\"], [\"Back\", \"Back to previous view\", \"fa fa-arrow-left icon-arrow-left\", \"back\"], [\"Forward\", \"Forward to next view\", \"fa fa-arrow-right icon-arrow-right\", \"forward\"], [\"\", \"\", \"\", \"\"], [\"Pan\", \"Pan axes with left mouse, zoom with right\", \"fa fa-arrows icon-move\", \"pan\"], [\"Zoom\", \"Zoom to rectangle\", \"fa fa-square-o icon-check-empty\", \"zoom\"], [\"\", \"\", \"\", \"\"], [\"Download\", \"Download plot\", \"fa fa-floppy-o icon-save\", \"download\"]];\n",
       "\n",
       "mpl.extensions = [\"eps\", \"pdf\", \"png\", \"ps\", \"raw\", \"svg\"];\n",
       "\n",
       "mpl.default_extension = \"png\";var comm_websocket_adapter = function(comm) {\n",
       "    // Create a \"websocket\"-like object which calls the given IPython comm\n",
       "    // object with the appropriate methods. Currently this is a non binary\n",
       "    // socket, so there is still some room for performance tuning.\n",
       "    var ws = {};\n",
       "\n",
       "    ws.close = function() {\n",
       "        comm.close()\n",
       "    };\n",
       "    ws.send = function(m) {\n",
       "        //console.log('sending', m);\n",
       "        comm.send(m);\n",
       "    };\n",
       "    // Register the callback with on_msg.\n",
       "    comm.on_msg(function(msg) {\n",
       "        //console.log('receiving', msg['content']['data'], msg);\n",
       "        // Pass the mpl event to the overridden (by mpl) onmessage function.\n",
       "        ws.onmessage(msg['content']['data'])\n",
       "    });\n",
       "    return ws;\n",
       "}\n",
       "\n",
       "mpl.mpl_figure_comm = function(comm, msg) {\n",
       "    // This is the function which gets called when the mpl process\n",
       "    // starts-up an IPython Comm through the \"matplotlib\" channel.\n",
       "\n",
       "    var id = msg.content.data.id;\n",
       "    // Get hold of the div created by the display call when the Comm\n",
       "    // socket was opened in Python.\n",
       "    var element = $(\"#\" + id);\n",
       "    var ws_proxy = comm_websocket_adapter(comm)\n",
       "\n",
       "    function ondownload(figure, format) {\n",
       "        window.open(figure.imageObj.src);\n",
       "    }\n",
       "\n",
       "    var fig = new mpl.figure(id, ws_proxy,\n",
       "                           ondownload,\n",
       "                           element.get(0));\n",
       "\n",
       "    // Call onopen now - mpl needs it, as it is assuming we've passed it a real\n",
       "    // web socket which is closed, not our websocket->open comm proxy.\n",
       "    ws_proxy.onopen();\n",
       "\n",
       "    fig.parent_element = element.get(0);\n",
       "    fig.cell_info = mpl.find_output_cell(\"<div id='\" + id + \"'></div>\");\n",
       "    if (!fig.cell_info) {\n",
       "        console.error(\"Failed to find cell for figure\", id, fig);\n",
       "        return;\n",
       "    }\n",
       "\n",
       "    var output_index = fig.cell_info[2]\n",
       "    var cell = fig.cell_info[0];\n",
       "\n",
       "};\n",
       "\n",
       "mpl.figure.prototype.handle_close = function(fig, msg) {\n",
       "    var width = fig.canvas.width/mpl.ratio\n",
       "    fig.root.unbind('remove')\n",
       "\n",
       "    // Update the output cell to use the data from the current canvas.\n",
       "    fig.push_to_output();\n",
       "    var dataURL = fig.canvas.toDataURL();\n",
       "    // Re-enable the keyboard manager in IPython - without this line, in FF,\n",
       "    // the notebook keyboard shortcuts fail.\n",
       "    IPython.keyboard_manager.enable()\n",
       "    $(fig.parent_element).html('<img src=\"' + dataURL + '\" width=\"' + width + '\">');\n",
       "    fig.close_ws(fig, msg);\n",
       "}\n",
       "\n",
       "mpl.figure.prototype.close_ws = function(fig, msg){\n",
       "    fig.send_message('closing', msg);\n",
       "    // fig.ws.close()\n",
       "}\n",
       "\n",
       "mpl.figure.prototype.push_to_output = function(remove_interactive) {\n",
       "    // Turn the data on the canvas into data in the output cell.\n",
       "    var width = this.canvas.width/mpl.ratio\n",
       "    var dataURL = this.canvas.toDataURL();\n",
       "    this.cell_info[1]['text/html'] = '<img src=\"' + dataURL + '\" width=\"' + width + '\">';\n",
       "}\n",
       "\n",
       "mpl.figure.prototype.updated_canvas_event = function() {\n",
       "    // Tell IPython that the notebook contents must change.\n",
       "    IPython.notebook.set_dirty(true);\n",
       "    this.send_message(\"ack\", {});\n",
       "    var fig = this;\n",
       "    // Wait a second, then push the new image to the DOM so\n",
       "    // that it is saved nicely (might be nice to debounce this).\n",
       "    setTimeout(function () { fig.push_to_output() }, 1000);\n",
       "}\n",
       "\n",
       "mpl.figure.prototype._init_toolbar = function() {\n",
       "    var fig = this;\n",
       "\n",
       "    var nav_element = $('<div/>')\n",
       "    nav_element.attr('style', 'width: 100%');\n",
       "    this.root.append(nav_element);\n",
       "\n",
       "    // Define a callback function for later on.\n",
       "    function toolbar_event(event) {\n",
       "        return fig.toolbar_button_onclick(event['data']);\n",
       "    }\n",
       "    function toolbar_mouse_event(event) {\n",
       "        return fig.toolbar_button_onmouseover(event['data']);\n",
       "    }\n",
       "\n",
       "    for(var toolbar_ind in mpl.toolbar_items){\n",
       "        var name = mpl.toolbar_items[toolbar_ind][0];\n",
       "        var tooltip = mpl.toolbar_items[toolbar_ind][1];\n",
       "        var image = mpl.toolbar_items[toolbar_ind][2];\n",
       "        var method_name = mpl.toolbar_items[toolbar_ind][3];\n",
       "\n",
       "        if (!name) { continue; };\n",
       "\n",
       "        var button = $('<button class=\"btn btn-default\" href=\"#\" title=\"' + name + '\"><i class=\"fa ' + image + ' fa-lg\"></i></button>');\n",
       "        button.click(method_name, toolbar_event);\n",
       "        button.mouseover(tooltip, toolbar_mouse_event);\n",
       "        nav_element.append(button);\n",
       "    }\n",
       "\n",
       "    // Add the status bar.\n",
       "    var status_bar = $('<span class=\"mpl-message\" style=\"text-align:right; float: right;\"/>');\n",
       "    nav_element.append(status_bar);\n",
       "    this.message = status_bar[0];\n",
       "\n",
       "    // Add the close button to the window.\n",
       "    var buttongrp = $('<div class=\"btn-group inline pull-right\"></div>');\n",
       "    var button = $('<button class=\"btn btn-mini btn-primary\" href=\"#\" title=\"Stop Interaction\"><i class=\"fa fa-power-off icon-remove icon-large\"></i></button>');\n",
       "    button.click(function (evt) { fig.handle_close(fig, {}); } );\n",
       "    button.mouseover('Stop Interaction', toolbar_mouse_event);\n",
       "    buttongrp.append(button);\n",
       "    var titlebar = this.root.find($('.ui-dialog-titlebar'));\n",
       "    titlebar.prepend(buttongrp);\n",
       "}\n",
       "\n",
       "mpl.figure.prototype._root_extra_style = function(el){\n",
       "    var fig = this\n",
       "    el.on(\"remove\", function(){\n",
       "\tfig.close_ws(fig, {});\n",
       "    });\n",
       "}\n",
       "\n",
       "mpl.figure.prototype._canvas_extra_style = function(el){\n",
       "    // this is important to make the div 'focusable\n",
       "    el.attr('tabindex', 0)\n",
       "    // reach out to IPython and tell the keyboard manager to turn it's self\n",
       "    // off when our div gets focus\n",
       "\n",
       "    // location in version 3\n",
       "    if (IPython.notebook.keyboard_manager) {\n",
       "        IPython.notebook.keyboard_manager.register_events(el);\n",
       "    }\n",
       "    else {\n",
       "        // location in version 2\n",
       "        IPython.keyboard_manager.register_events(el);\n",
       "    }\n",
       "\n",
       "}\n",
       "\n",
       "mpl.figure.prototype._key_event_extra = function(event, name) {\n",
       "    var manager = IPython.notebook.keyboard_manager;\n",
       "    if (!manager)\n",
       "        manager = IPython.keyboard_manager;\n",
       "\n",
       "    // Check for shift+enter\n",
       "    if (event.shiftKey && event.which == 13) {\n",
       "        this.canvas_div.blur();\n",
       "        event.shiftKey = false;\n",
       "        // Send a \"J\" for go to next cell\n",
       "        event.which = 74;\n",
       "        event.keyCode = 74;\n",
       "        manager.command_mode();\n",
       "        manager.handle_keydown(event);\n",
       "    }\n",
       "}\n",
       "\n",
       "mpl.figure.prototype.handle_save = function(fig, msg) {\n",
       "    fig.ondownload(fig, null);\n",
       "}\n",
       "\n",
       "\n",
       "mpl.find_output_cell = function(html_output) {\n",
       "    // Return the cell and output element which can be found *uniquely* in the notebook.\n",
       "    // Note - this is a bit hacky, but it is done because the \"notebook_saving.Notebook\"\n",
       "    // IPython event is triggered only after the cells have been serialised, which for\n",
       "    // our purposes (turning an active figure into a static one), is too late.\n",
       "    var cells = IPython.notebook.get_cells();\n",
       "    var ncells = cells.length;\n",
       "    for (var i=0; i<ncells; i++) {\n",
       "        var cell = cells[i];\n",
       "        if (cell.cell_type === 'code'){\n",
       "            for (var j=0; j<cell.output_area.outputs.length; j++) {\n",
       "                var data = cell.output_area.outputs[j];\n",
       "                if (data.data) {\n",
       "                    // IPython >= 3 moved mimebundle to data attribute of output\n",
       "                    data = data.data;\n",
       "                }\n",
       "                if (data['text/html'] == html_output) {\n",
       "                    return [cell, data, j];\n",
       "                }\n",
       "            }\n",
       "        }\n",
       "    }\n",
       "}\n",
       "\n",
       "// Register the function which deals with the matplotlib target/channel.\n",
       "// The kernel may be null if the page has been refreshed.\n",
       "if (IPython.notebook.kernel != null) {\n",
       "    IPython.notebook.kernel.comm_manager.register_target('matplotlib', mpl.mpl_figure_comm);\n",
       "}\n"
      ],
      "text/plain": [
       "<IPython.core.display.Javascript object>"
      ]
     },
     "metadata": {},
     "output_type": "display_data"
    },
    {
     "data": {
      "text/html": [
       "<img src=\"data:image/png;base64,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\" width=\"800\">"
      ],
      "text/plain": [
       "<IPython.core.display.HTML object>"
      ]
     },
     "metadata": {},
     "output_type": "display_data"
    }
   ],
   "source": [
    "lc = LightCurve('data/fake010.csv')\n",
    "lc.plot_multicolor_lc()"
   ]
  },
  {
   "cell_type": "markdown",
   "metadata": {
    "slideshow": {
     "slide_type": "-"
    }
   },
   "source": [
    "#### *Figure 15: The light curve of FAKE010 - a supernova, Credit: Richard Kessler (University of Chicago), <a href=\"http://adsabs.harvard.edu/abs/2010PASP..122.1415K\">SNPhotCC</a>*"
   ]
  },
  {
   "cell_type": "markdown",
   "metadata": {
    "slideshow": {
     "slide_type": "fragment"
    }
   },
   "source": [
    "You might look at something like this light curve, and try to estimate something like a full-width at half maximum to determine a time-scale. "
   ]
  },
  {
   "cell_type": "markdown",
   "metadata": {
    "nbpresent": {
     "id": "d593a449-c884-4790-a4eb-cc89872764d6"
    },
    "slideshow": {
     "slide_type": "slide"
    }
   },
   "source": [
    "That wouldn't be a bad idea for type Ia supernovae, but of course not everything in the dataset is a supernova..."
   ]
  },
  {
   "cell_type": "code",
   "execution_count": 13,
   "metadata": {
    "nbpresent": {
     "id": "12fe61b3-b5f8-4cc2-8f58-eb930306f950"
    },
    "slideshow": {
     "slide_type": "slide"
    }
   },
   "outputs": [
    {
     "data": {
      "application/javascript": [
       "/* Put everything inside the global mpl namespace */\n",
       "window.mpl = {};\n",
       "\n",
       "\n",
       "mpl.get_websocket_type = function() {\n",
       "    if (typeof(WebSocket) !== 'undefined') {\n",
       "        return WebSocket;\n",
       "    } else if (typeof(MozWebSocket) !== 'undefined') {\n",
       "        return MozWebSocket;\n",
       "    } else {\n",
       "        alert('Your browser does not have WebSocket support.' +\n",
       "              'Please try Chrome, Safari or Firefox ≥ 6. ' +\n",
       "              'Firefox 4 and 5 are also supported but you ' +\n",
       "              'have to enable WebSockets in about:config.');\n",
       "    };\n",
       "}\n",
       "\n",
       "mpl.figure = function(figure_id, websocket, ondownload, parent_element) {\n",
       "    this.id = figure_id;\n",
       "\n",
       "    this.ws = websocket;\n",
       "\n",
       "    this.supports_binary = (this.ws.binaryType != undefined);\n",
       "\n",
       "    if (!this.supports_binary) {\n",
       "        var warnings = document.getElementById(\"mpl-warnings\");\n",
       "        if (warnings) {\n",
       "            warnings.style.display = 'block';\n",
       "            warnings.textContent = (\n",
       "                \"This browser does not support binary websocket messages. \" +\n",
       "                    \"Performance may be slow.\");\n",
       "        }\n",
       "    }\n",
       "\n",
       "    this.imageObj = new Image();\n",
       "\n",
       "    this.context = undefined;\n",
       "    this.message = undefined;\n",
       "    this.canvas = undefined;\n",
       "    this.rubberband_canvas = undefined;\n",
       "    this.rubberband_context = undefined;\n",
       "    this.format_dropdown = undefined;\n",
       "\n",
       "    this.image_mode = 'full';\n",
       "\n",
       "    this.root = $('<div/>');\n",
       "    this._root_extra_style(this.root)\n",
       "    this.root.attr('style', 'display: inline-block');\n",
       "\n",
       "    $(parent_element).append(this.root);\n",
       "\n",
       "    this._init_header(this);\n",
       "    this._init_canvas(this);\n",
       "    this._init_toolbar(this);\n",
       "\n",
       "    var fig = this;\n",
       "\n",
       "    this.waiting = false;\n",
       "\n",
       "    this.ws.onopen =  function () {\n",
       "            fig.send_message(\"supports_binary\", {value: fig.supports_binary});\n",
       "            fig.send_message(\"send_image_mode\", {});\n",
       "            if (mpl.ratio != 1) {\n",
       "                fig.send_message(\"set_dpi_ratio\", {'dpi_ratio': mpl.ratio});\n",
       "            }\n",
       "            fig.send_message(\"refresh\", {});\n",
       "        }\n",
       "\n",
       "    this.imageObj.onload = function() {\n",
       "            if (fig.image_mode == 'full') {\n",
       "                // Full images could contain transparency (where diff images\n",
       "                // almost always do), so we need to clear the canvas so that\n",
       "                // there is no ghosting.\n",
       "                fig.context.clearRect(0, 0, fig.canvas.width, fig.canvas.height);\n",
       "            }\n",
       "            fig.context.drawImage(fig.imageObj, 0, 0);\n",
       "        };\n",
       "\n",
       "    this.imageObj.onunload = function() {\n",
       "        fig.ws.close();\n",
       "    }\n",
       "\n",
       "    this.ws.onmessage = this._make_on_message_function(this);\n",
       "\n",
       "    this.ondownload = ondownload;\n",
       "}\n",
       "\n",
       "mpl.figure.prototype._init_header = function() {\n",
       "    var titlebar = $(\n",
       "        '<div class=\"ui-dialog-titlebar ui-widget-header ui-corner-all ' +\n",
       "        'ui-helper-clearfix\"/>');\n",
       "    var titletext = $(\n",
       "        '<div class=\"ui-dialog-title\" style=\"width: 100%; ' +\n",
       "        'text-align: center; padding: 3px;\"/>');\n",
       "    titlebar.append(titletext)\n",
       "    this.root.append(titlebar);\n",
       "    this.header = titletext[0];\n",
       "}\n",
       "\n",
       "\n",
       "\n",
       "mpl.figure.prototype._canvas_extra_style = function(canvas_div) {\n",
       "\n",
       "}\n",
       "\n",
       "\n",
       "mpl.figure.prototype._root_extra_style = function(canvas_div) {\n",
       "\n",
       "}\n",
       "\n",
       "mpl.figure.prototype._init_canvas = function() {\n",
       "    var fig = this;\n",
       "\n",
       "    var canvas_div = $('<div/>');\n",
       "\n",
       "    canvas_div.attr('style', 'position: relative; clear: both; outline: 0');\n",
       "\n",
       "    function canvas_keyboard_event(event) {\n",
       "        return fig.key_event(event, event['data']);\n",
       "    }\n",
       "\n",
       "    canvas_div.keydown('key_press', canvas_keyboard_event);\n",
       "    canvas_div.keyup('key_release', canvas_keyboard_event);\n",
       "    this.canvas_div = canvas_div\n",
       "    this._canvas_extra_style(canvas_div)\n",
       "    this.root.append(canvas_div);\n",
       "\n",
       "    var canvas = $('<canvas/>');\n",
       "    canvas.addClass('mpl-canvas');\n",
       "    canvas.attr('style', \"left: 0; top: 0; z-index: 0; outline: 0\")\n",
       "\n",
       "    this.canvas = canvas[0];\n",
       "    this.context = canvas[0].getContext(\"2d\");\n",
       "\n",
       "    var backingStore = this.context.backingStorePixelRatio ||\n",
       "\tthis.context.webkitBackingStorePixelRatio ||\n",
       "\tthis.context.mozBackingStorePixelRatio ||\n",
       "\tthis.context.msBackingStorePixelRatio ||\n",
       "\tthis.context.oBackingStorePixelRatio ||\n",
       "\tthis.context.backingStorePixelRatio || 1;\n",
       "\n",
       "    mpl.ratio = (window.devicePixelRatio || 1) / backingStore;\n",
       "\n",
       "    var rubberband = $('<canvas/>');\n",
       "    rubberband.attr('style', \"position: absolute; left: 0; top: 0; z-index: 1;\")\n",
       "\n",
       "    var pass_mouse_events = true;\n",
       "\n",
       "    canvas_div.resizable({\n",
       "        start: function(event, ui) {\n",
       "            pass_mouse_events = false;\n",
       "        },\n",
       "        resize: function(event, ui) {\n",
       "            fig.request_resize(ui.size.width, ui.size.height);\n",
       "        },\n",
       "        stop: function(event, ui) {\n",
       "            pass_mouse_events = true;\n",
       "            fig.request_resize(ui.size.width, ui.size.height);\n",
       "        },\n",
       "    });\n",
       "\n",
       "    function mouse_event_fn(event) {\n",
       "        if (pass_mouse_events)\n",
       "            return fig.mouse_event(event, event['data']);\n",
       "    }\n",
       "\n",
       "    rubberband.mousedown('button_press', mouse_event_fn);\n",
       "    rubberband.mouseup('button_release', mouse_event_fn);\n",
       "    // Throttle sequential mouse events to 1 every 20ms.\n",
       "    rubberband.mousemove('motion_notify', mouse_event_fn);\n",
       "\n",
       "    rubberband.mouseenter('figure_enter', mouse_event_fn);\n",
       "    rubberband.mouseleave('figure_leave', mouse_event_fn);\n",
       "\n",
       "    canvas_div.on(\"wheel\", function (event) {\n",
       "        event = event.originalEvent;\n",
       "        event['data'] = 'scroll'\n",
       "        if (event.deltaY < 0) {\n",
       "            event.step = 1;\n",
       "        } else {\n",
       "            event.step = -1;\n",
       "        }\n",
       "        mouse_event_fn(event);\n",
       "    });\n",
       "\n",
       "    canvas_div.append(canvas);\n",
       "    canvas_div.append(rubberband);\n",
       "\n",
       "    this.rubberband = rubberband;\n",
       "    this.rubberband_canvas = rubberband[0];\n",
       "    this.rubberband_context = rubberband[0].getContext(\"2d\");\n",
       "    this.rubberband_context.strokeStyle = \"#000000\";\n",
       "\n",
       "    this._resize_canvas = function(width, height) {\n",
       "        // Keep the size of the canvas, canvas container, and rubber band\n",
       "        // canvas in synch.\n",
       "        canvas_div.css('width', width)\n",
       "        canvas_div.css('height', height)\n",
       "\n",
       "        canvas.attr('width', width * mpl.ratio);\n",
       "        canvas.attr('height', height * mpl.ratio);\n",
       "        canvas.attr('style', 'width: ' + width + 'px; height: ' + height + 'px;');\n",
       "\n",
       "        rubberband.attr('width', width);\n",
       "        rubberband.attr('height', height);\n",
       "    }\n",
       "\n",
       "    // Set the figure to an initial 600x600px, this will subsequently be updated\n",
       "    // upon first draw.\n",
       "    this._resize_canvas(600, 600);\n",
       "\n",
       "    // Disable right mouse context menu.\n",
       "    $(this.rubberband_canvas).bind(\"contextmenu\",function(e){\n",
       "        return false;\n",
       "    });\n",
       "\n",
       "    function set_focus () {\n",
       "        canvas.focus();\n",
       "        canvas_div.focus();\n",
       "    }\n",
       "\n",
       "    window.setTimeout(set_focus, 100);\n",
       "}\n",
       "\n",
       "mpl.figure.prototype._init_toolbar = function() {\n",
       "    var fig = this;\n",
       "\n",
       "    var nav_element = $('<div/>')\n",
       "    nav_element.attr('style', 'width: 100%');\n",
       "    this.root.append(nav_element);\n",
       "\n",
       "    // Define a callback function for later on.\n",
       "    function toolbar_event(event) {\n",
       "        return fig.toolbar_button_onclick(event['data']);\n",
       "    }\n",
       "    function toolbar_mouse_event(event) {\n",
       "        return fig.toolbar_button_onmouseover(event['data']);\n",
       "    }\n",
       "\n",
       "    for(var toolbar_ind in mpl.toolbar_items) {\n",
       "        var name = mpl.toolbar_items[toolbar_ind][0];\n",
       "        var tooltip = mpl.toolbar_items[toolbar_ind][1];\n",
       "        var image = mpl.toolbar_items[toolbar_ind][2];\n",
       "        var method_name = mpl.toolbar_items[toolbar_ind][3];\n",
       "\n",
       "        if (!name) {\n",
       "            // put a spacer in here.\n",
       "            continue;\n",
       "        }\n",
       "        var button = $('<button/>');\n",
       "        button.addClass('ui-button ui-widget ui-state-default ui-corner-all ' +\n",
       "                        'ui-button-icon-only');\n",
       "        button.attr('role', 'button');\n",
       "        button.attr('aria-disabled', 'false');\n",
       "        button.click(method_name, toolbar_event);\n",
       "        button.mouseover(tooltip, toolbar_mouse_event);\n",
       "\n",
       "        var icon_img = $('<span/>');\n",
       "        icon_img.addClass('ui-button-icon-primary ui-icon');\n",
       "        icon_img.addClass(image);\n",
       "        icon_img.addClass('ui-corner-all');\n",
       "\n",
       "        var tooltip_span = $('<span/>');\n",
       "        tooltip_span.addClass('ui-button-text');\n",
       "        tooltip_span.html(tooltip);\n",
       "\n",
       "        button.append(icon_img);\n",
       "        button.append(tooltip_span);\n",
       "\n",
       "        nav_element.append(button);\n",
       "    }\n",
       "\n",
       "    var fmt_picker_span = $('<span/>');\n",
       "\n",
       "    var fmt_picker = $('<select/>');\n",
       "    fmt_picker.addClass('mpl-toolbar-option ui-widget ui-widget-content');\n",
       "    fmt_picker_span.append(fmt_picker);\n",
       "    nav_element.append(fmt_picker_span);\n",
       "    this.format_dropdown = fmt_picker[0];\n",
       "\n",
       "    for (var ind in mpl.extensions) {\n",
       "        var fmt = mpl.extensions[ind];\n",
       "        var option = $(\n",
       "            '<option/>', {selected: fmt === mpl.default_extension}).html(fmt);\n",
       "        fmt_picker.append(option)\n",
       "    }\n",
       "\n",
       "    // Add hover states to the ui-buttons\n",
       "    $( \".ui-button\" ).hover(\n",
       "        function() { $(this).addClass(\"ui-state-hover\");},\n",
       "        function() { $(this).removeClass(\"ui-state-hover\");}\n",
       "    );\n",
       "\n",
       "    var status_bar = $('<span class=\"mpl-message\"/>');\n",
       "    nav_element.append(status_bar);\n",
       "    this.message = status_bar[0];\n",
       "}\n",
       "\n",
       "mpl.figure.prototype.request_resize = function(x_pixels, y_pixels) {\n",
       "    // Request matplotlib to resize the figure. Matplotlib will then trigger a resize in the client,\n",
       "    // which will in turn request a refresh of the image.\n",
       "    this.send_message('resize', {'width': x_pixels, 'height': y_pixels});\n",
       "}\n",
       "\n",
       "mpl.figure.prototype.send_message = function(type, properties) {\n",
       "    properties['type'] = type;\n",
       "    properties['figure_id'] = this.id;\n",
       "    this.ws.send(JSON.stringify(properties));\n",
       "}\n",
       "\n",
       "mpl.figure.prototype.send_draw_message = function() {\n",
       "    if (!this.waiting) {\n",
       "        this.waiting = true;\n",
       "        this.ws.send(JSON.stringify({type: \"draw\", figure_id: this.id}));\n",
       "    }\n",
       "}\n",
       "\n",
       "\n",
       "mpl.figure.prototype.handle_save = function(fig, msg) {\n",
       "    var format_dropdown = fig.format_dropdown;\n",
       "    var format = format_dropdown.options[format_dropdown.selectedIndex].value;\n",
       "    fig.ondownload(fig, format);\n",
       "}\n",
       "\n",
       "\n",
       "mpl.figure.prototype.handle_resize = function(fig, msg) {\n",
       "    var size = msg['size'];\n",
       "    if (size[0] != fig.canvas.width || size[1] != fig.canvas.height) {\n",
       "        fig._resize_canvas(size[0], size[1]);\n",
       "        fig.send_message(\"refresh\", {});\n",
       "    };\n",
       "}\n",
       "\n",
       "mpl.figure.prototype.handle_rubberband = function(fig, msg) {\n",
       "    var x0 = msg['x0'] / mpl.ratio;\n",
       "    var y0 = (fig.canvas.height - msg['y0']) / mpl.ratio;\n",
       "    var x1 = msg['x1'] / mpl.ratio;\n",
       "    var y1 = (fig.canvas.height - msg['y1']) / mpl.ratio;\n",
       "    x0 = Math.floor(x0) + 0.5;\n",
       "    y0 = Math.floor(y0) + 0.5;\n",
       "    x1 = Math.floor(x1) + 0.5;\n",
       "    y1 = Math.floor(y1) + 0.5;\n",
       "    var min_x = Math.min(x0, x1);\n",
       "    var min_y = Math.min(y0, y1);\n",
       "    var width = Math.abs(x1 - x0);\n",
       "    var height = Math.abs(y1 - y0);\n",
       "\n",
       "    fig.rubberband_context.clearRect(\n",
       "        0, 0, fig.canvas.width, fig.canvas.height);\n",
       "\n",
       "    fig.rubberband_context.strokeRect(min_x, min_y, width, height);\n",
       "}\n",
       "\n",
       "mpl.figure.prototype.handle_figure_label = function(fig, msg) {\n",
       "    // Updates the figure title.\n",
       "    fig.header.textContent = msg['label'];\n",
       "}\n",
       "\n",
       "mpl.figure.prototype.handle_cursor = function(fig, msg) {\n",
       "    var cursor = msg['cursor'];\n",
       "    switch(cursor)\n",
       "    {\n",
       "    case 0:\n",
       "        cursor = 'pointer';\n",
       "        break;\n",
       "    case 1:\n",
       "        cursor = 'default';\n",
       "        break;\n",
       "    case 2:\n",
       "        cursor = 'crosshair';\n",
       "        break;\n",
       "    case 3:\n",
       "        cursor = 'move';\n",
       "        break;\n",
       "    }\n",
       "    fig.rubberband_canvas.style.cursor = cursor;\n",
       "}\n",
       "\n",
       "mpl.figure.prototype.handle_message = function(fig, msg) {\n",
       "    fig.message.textContent = msg['message'];\n",
       "}\n",
       "\n",
       "mpl.figure.prototype.handle_draw = function(fig, msg) {\n",
       "    // Request the server to send over a new figure.\n",
       "    fig.send_draw_message();\n",
       "}\n",
       "\n",
       "mpl.figure.prototype.handle_image_mode = function(fig, msg) {\n",
       "    fig.image_mode = msg['mode'];\n",
       "}\n",
       "\n",
       "mpl.figure.prototype.updated_canvas_event = function() {\n",
       "    // Called whenever the canvas gets updated.\n",
       "    this.send_message(\"ack\", {});\n",
       "}\n",
       "\n",
       "// A function to construct a web socket function for onmessage handling.\n",
       "// Called in the figure constructor.\n",
       "mpl.figure.prototype._make_on_message_function = function(fig) {\n",
       "    return function socket_on_message(evt) {\n",
       "        if (evt.data instanceof Blob) {\n",
       "            /* FIXME: We get \"Resource interpreted as Image but\n",
       "             * transferred with MIME type text/plain:\" errors on\n",
       "             * Chrome.  But how to set the MIME type?  It doesn't seem\n",
       "             * to be part of the websocket stream */\n",
       "            evt.data.type = \"image/png\";\n",
       "\n",
       "            /* Free the memory for the previous frames */\n",
       "            if (fig.imageObj.src) {\n",
       "                (window.URL || window.webkitURL).revokeObjectURL(\n",
       "                    fig.imageObj.src);\n",
       "            }\n",
       "\n",
       "            fig.imageObj.src = (window.URL || window.webkitURL).createObjectURL(\n",
       "                evt.data);\n",
       "            fig.updated_canvas_event();\n",
       "            fig.waiting = false;\n",
       "            return;\n",
       "        }\n",
       "        else if (typeof evt.data === 'string' && evt.data.slice(0, 21) == \"data:image/png;base64\") {\n",
       "            fig.imageObj.src = evt.data;\n",
       "            fig.updated_canvas_event();\n",
       "            fig.waiting = false;\n",
       "            return;\n",
       "        }\n",
       "\n",
       "        var msg = JSON.parse(evt.data);\n",
       "        var msg_type = msg['type'];\n",
       "\n",
       "        // Call the  \"handle_{type}\" callback, which takes\n",
       "        // the figure and JSON message as its only arguments.\n",
       "        try {\n",
       "            var callback = fig[\"handle_\" + msg_type];\n",
       "        } catch (e) {\n",
       "            console.log(\"No handler for the '\" + msg_type + \"' message type: \", msg);\n",
       "            return;\n",
       "        }\n",
       "\n",
       "        if (callback) {\n",
       "            try {\n",
       "                // console.log(\"Handling '\" + msg_type + \"' message: \", msg);\n",
       "                callback(fig, msg);\n",
       "            } catch (e) {\n",
       "                console.log(\"Exception inside the 'handler_\" + msg_type + \"' callback:\", e, e.stack, msg);\n",
       "            }\n",
       "        }\n",
       "    };\n",
       "}\n",
       "\n",
       "// from http://stackoverflow.com/questions/1114465/getting-mouse-location-in-canvas\n",
       "mpl.findpos = function(e) {\n",
       "    //this section is from http://www.quirksmode.org/js/events_properties.html\n",
       "    var targ;\n",
       "    if (!e)\n",
       "        e = window.event;\n",
       "    if (e.target)\n",
       "        targ = e.target;\n",
       "    else if (e.srcElement)\n",
       "        targ = e.srcElement;\n",
       "    if (targ.nodeType == 3) // defeat Safari bug\n",
       "        targ = targ.parentNode;\n",
       "\n",
       "    // jQuery normalizes the pageX and pageY\n",
       "    // pageX,Y are the mouse positions relative to the document\n",
       "    // offset() returns the position of the element relative to the document\n",
       "    var x = e.pageX - $(targ).offset().left;\n",
       "    var y = e.pageY - $(targ).offset().top;\n",
       "\n",
       "    return {\"x\": x, \"y\": y};\n",
       "};\n",
       "\n",
       "/*\n",
       " * return a copy of an object with only non-object keys\n",
       " * we need this to avoid circular references\n",
       " * http://stackoverflow.com/a/24161582/3208463\n",
       " */\n",
       "function simpleKeys (original) {\n",
       "  return Object.keys(original).reduce(function (obj, key) {\n",
       "    if (typeof original[key] !== 'object')\n",
       "        obj[key] = original[key]\n",
       "    return obj;\n",
       "  }, {});\n",
       "}\n",
       "\n",
       "mpl.figure.prototype.mouse_event = function(event, name) {\n",
       "    var canvas_pos = mpl.findpos(event)\n",
       "\n",
       "    if (name === 'button_press')\n",
       "    {\n",
       "        this.canvas.focus();\n",
       "        this.canvas_div.focus();\n",
       "    }\n",
       "\n",
       "    var x = canvas_pos.x * mpl.ratio;\n",
       "    var y = canvas_pos.y * mpl.ratio;\n",
       "\n",
       "    this.send_message(name, {x: x, y: y, button: event.button,\n",
       "                             step: event.step,\n",
       "                             guiEvent: simpleKeys(event)});\n",
       "\n",
       "    /* This prevents the web browser from automatically changing to\n",
       "     * the text insertion cursor when the button is pressed.  We want\n",
       "     * to control all of the cursor setting manually through the\n",
       "     * 'cursor' event from matplotlib */\n",
       "    event.preventDefault();\n",
       "    return false;\n",
       "}\n",
       "\n",
       "mpl.figure.prototype._key_event_extra = function(event, name) {\n",
       "    // Handle any extra behaviour associated with a key event\n",
       "}\n",
       "\n",
       "mpl.figure.prototype.key_event = function(event, name) {\n",
       "\n",
       "    // Prevent repeat events\n",
       "    if (name == 'key_press')\n",
       "    {\n",
       "        if (event.which === this._key)\n",
       "            return;\n",
       "        else\n",
       "            this._key = event.which;\n",
       "    }\n",
       "    if (name == 'key_release')\n",
       "        this._key = null;\n",
       "\n",
       "    var value = '';\n",
       "    if (event.ctrlKey && event.which != 17)\n",
       "        value += \"ctrl+\";\n",
       "    if (event.altKey && event.which != 18)\n",
       "        value += \"alt+\";\n",
       "    if (event.shiftKey && event.which != 16)\n",
       "        value += \"shift+\";\n",
       "\n",
       "    value += 'k';\n",
       "    value += event.which.toString();\n",
       "\n",
       "    this._key_event_extra(event, name);\n",
       "\n",
       "    this.send_message(name, {key: value,\n",
       "                             guiEvent: simpleKeys(event)});\n",
       "    return false;\n",
       "}\n",
       "\n",
       "mpl.figure.prototype.toolbar_button_onclick = function(name) {\n",
       "    if (name == 'download') {\n",
       "        this.handle_save(this, null);\n",
       "    } else {\n",
       "        this.send_message(\"toolbar_button\", {name: name});\n",
       "    }\n",
       "};\n",
       "\n",
       "mpl.figure.prototype.toolbar_button_onmouseover = function(tooltip) {\n",
       "    this.message.textContent = tooltip;\n",
       "};\n",
       "mpl.toolbar_items = [[\"Home\", \"Reset original view\", \"fa fa-home icon-home\", \"home\"], [\"Back\", \"Back to previous view\", \"fa fa-arrow-left icon-arrow-left\", \"back\"], [\"Forward\", \"Forward to next view\", \"fa fa-arrow-right icon-arrow-right\", \"forward\"], [\"\", \"\", \"\", \"\"], [\"Pan\", \"Pan axes with left mouse, zoom with right\", \"fa fa-arrows icon-move\", \"pan\"], [\"Zoom\", \"Zoom to rectangle\", \"fa fa-square-o icon-check-empty\", \"zoom\"], [\"\", \"\", \"\", \"\"], [\"Download\", \"Download plot\", \"fa fa-floppy-o icon-save\", \"download\"]];\n",
       "\n",
       "mpl.extensions = [\"eps\", \"pdf\", \"png\", \"ps\", \"raw\", \"svg\"];\n",
       "\n",
       "mpl.default_extension = \"png\";var comm_websocket_adapter = function(comm) {\n",
       "    // Create a \"websocket\"-like object which calls the given IPython comm\n",
       "    // object with the appropriate methods. Currently this is a non binary\n",
       "    // socket, so there is still some room for performance tuning.\n",
       "    var ws = {};\n",
       "\n",
       "    ws.close = function() {\n",
       "        comm.close()\n",
       "    };\n",
       "    ws.send = function(m) {\n",
       "        //console.log('sending', m);\n",
       "        comm.send(m);\n",
       "    };\n",
       "    // Register the callback with on_msg.\n",
       "    comm.on_msg(function(msg) {\n",
       "        //console.log('receiving', msg['content']['data'], msg);\n",
       "        // Pass the mpl event to the overridden (by mpl) onmessage function.\n",
       "        ws.onmessage(msg['content']['data'])\n",
       "    });\n",
       "    return ws;\n",
       "}\n",
       "\n",
       "mpl.mpl_figure_comm = function(comm, msg) {\n",
       "    // This is the function which gets called when the mpl process\n",
       "    // starts-up an IPython Comm through the \"matplotlib\" channel.\n",
       "\n",
       "    var id = msg.content.data.id;\n",
       "    // Get hold of the div created by the display call when the Comm\n",
       "    // socket was opened in Python.\n",
       "    var element = $(\"#\" + id);\n",
       "    var ws_proxy = comm_websocket_adapter(comm)\n",
       "\n",
       "    function ondownload(figure, format) {\n",
       "        window.open(figure.imageObj.src);\n",
       "    }\n",
       "\n",
       "    var fig = new mpl.figure(id, ws_proxy,\n",
       "                           ondownload,\n",
       "                           element.get(0));\n",
       "\n",
       "    // Call onopen now - mpl needs it, as it is assuming we've passed it a real\n",
       "    // web socket which is closed, not our websocket->open comm proxy.\n",
       "    ws_proxy.onopen();\n",
       "\n",
       "    fig.parent_element = element.get(0);\n",
       "    fig.cell_info = mpl.find_output_cell(\"<div id='\" + id + \"'></div>\");\n",
       "    if (!fig.cell_info) {\n",
       "        console.error(\"Failed to find cell for figure\", id, fig);\n",
       "        return;\n",
       "    }\n",
       "\n",
       "    var output_index = fig.cell_info[2]\n",
       "    var cell = fig.cell_info[0];\n",
       "\n",
       "};\n",
       "\n",
       "mpl.figure.prototype.handle_close = function(fig, msg) {\n",
       "    var width = fig.canvas.width/mpl.ratio\n",
       "    fig.root.unbind('remove')\n",
       "\n",
       "    // Update the output cell to use the data from the current canvas.\n",
       "    fig.push_to_output();\n",
       "    var dataURL = fig.canvas.toDataURL();\n",
       "    // Re-enable the keyboard manager in IPython - without this line, in FF,\n",
       "    // the notebook keyboard shortcuts fail.\n",
       "    IPython.keyboard_manager.enable()\n",
       "    $(fig.parent_element).html('<img src=\"' + dataURL + '\" width=\"' + width + '\">');\n",
       "    fig.close_ws(fig, msg);\n",
       "}\n",
       "\n",
       "mpl.figure.prototype.close_ws = function(fig, msg){\n",
       "    fig.send_message('closing', msg);\n",
       "    // fig.ws.close()\n",
       "}\n",
       "\n",
       "mpl.figure.prototype.push_to_output = function(remove_interactive) {\n",
       "    // Turn the data on the canvas into data in the output cell.\n",
       "    var width = this.canvas.width/mpl.ratio\n",
       "    var dataURL = this.canvas.toDataURL();\n",
       "    this.cell_info[1]['text/html'] = '<img src=\"' + dataURL + '\" width=\"' + width + '\">';\n",
       "}\n",
       "\n",
       "mpl.figure.prototype.updated_canvas_event = function() {\n",
       "    // Tell IPython that the notebook contents must change.\n",
       "    IPython.notebook.set_dirty(true);\n",
       "    this.send_message(\"ack\", {});\n",
       "    var fig = this;\n",
       "    // Wait a second, then push the new image to the DOM so\n",
       "    // that it is saved nicely (might be nice to debounce this).\n",
       "    setTimeout(function () { fig.push_to_output() }, 1000);\n",
       "}\n",
       "\n",
       "mpl.figure.prototype._init_toolbar = function() {\n",
       "    var fig = this;\n",
       "\n",
       "    var nav_element = $('<div/>')\n",
       "    nav_element.attr('style', 'width: 100%');\n",
       "    this.root.append(nav_element);\n",
       "\n",
       "    // Define a callback function for later on.\n",
       "    function toolbar_event(event) {\n",
       "        return fig.toolbar_button_onclick(event['data']);\n",
       "    }\n",
       "    function toolbar_mouse_event(event) {\n",
       "        return fig.toolbar_button_onmouseover(event['data']);\n",
       "    }\n",
       "\n",
       "    for(var toolbar_ind in mpl.toolbar_items){\n",
       "        var name = mpl.toolbar_items[toolbar_ind][0];\n",
       "        var tooltip = mpl.toolbar_items[toolbar_ind][1];\n",
       "        var image = mpl.toolbar_items[toolbar_ind][2];\n",
       "        var method_name = mpl.toolbar_items[toolbar_ind][3];\n",
       "\n",
       "        if (!name) { continue; };\n",
       "\n",
       "        var button = $('<button class=\"btn btn-default\" href=\"#\" title=\"' + name + '\"><i class=\"fa ' + image + ' fa-lg\"></i></button>');\n",
       "        button.click(method_name, toolbar_event);\n",
       "        button.mouseover(tooltip, toolbar_mouse_event);\n",
       "        nav_element.append(button);\n",
       "    }\n",
       "\n",
       "    // Add the status bar.\n",
       "    var status_bar = $('<span class=\"mpl-message\" style=\"text-align:right; float: right;\"/>');\n",
       "    nav_element.append(status_bar);\n",
       "    this.message = status_bar[0];\n",
       "\n",
       "    // Add the close button to the window.\n",
       "    var buttongrp = $('<div class=\"btn-group inline pull-right\"></div>');\n",
       "    var button = $('<button class=\"btn btn-mini btn-primary\" href=\"#\" title=\"Stop Interaction\"><i class=\"fa fa-power-off icon-remove icon-large\"></i></button>');\n",
       "    button.click(function (evt) { fig.handle_close(fig, {}); } );\n",
       "    button.mouseover('Stop Interaction', toolbar_mouse_event);\n",
       "    buttongrp.append(button);\n",
       "    var titlebar = this.root.find($('.ui-dialog-titlebar'));\n",
       "    titlebar.prepend(buttongrp);\n",
       "}\n",
       "\n",
       "mpl.figure.prototype._root_extra_style = function(el){\n",
       "    var fig = this\n",
       "    el.on(\"remove\", function(){\n",
       "\tfig.close_ws(fig, {});\n",
       "    });\n",
       "}\n",
       "\n",
       "mpl.figure.prototype._canvas_extra_style = function(el){\n",
       "    // this is important to make the div 'focusable\n",
       "    el.attr('tabindex', 0)\n",
       "    // reach out to IPython and tell the keyboard manager to turn it's self\n",
       "    // off when our div gets focus\n",
       "\n",
       "    // location in version 3\n",
       "    if (IPython.notebook.keyboard_manager) {\n",
       "        IPython.notebook.keyboard_manager.register_events(el);\n",
       "    }\n",
       "    else {\n",
       "        // location in version 2\n",
       "        IPython.keyboard_manager.register_events(el);\n",
       "    }\n",
       "\n",
       "}\n",
       "\n",
       "mpl.figure.prototype._key_event_extra = function(event, name) {\n",
       "    var manager = IPython.notebook.keyboard_manager;\n",
       "    if (!manager)\n",
       "        manager = IPython.keyboard_manager;\n",
       "\n",
       "    // Check for shift+enter\n",
       "    if (event.shiftKey && event.which == 13) {\n",
       "        this.canvas_div.blur();\n",
       "        event.shiftKey = false;\n",
       "        // Send a \"J\" for go to next cell\n",
       "        event.which = 74;\n",
       "        event.keyCode = 74;\n",
       "        manager.command_mode();\n",
       "        manager.handle_keydown(event);\n",
       "    }\n",
       "}\n",
       "\n",
       "mpl.figure.prototype.handle_save = function(fig, msg) {\n",
       "    fig.ondownload(fig, null);\n",
       "}\n",
       "\n",
       "\n",
       "mpl.find_output_cell = function(html_output) {\n",
       "    // Return the cell and output element which can be found *uniquely* in the notebook.\n",
       "    // Note - this is a bit hacky, but it is done because the \"notebook_saving.Notebook\"\n",
       "    // IPython event is triggered only after the cells have been serialised, which for\n",
       "    // our purposes (turning an active figure into a static one), is too late.\n",
       "    var cells = IPython.notebook.get_cells();\n",
       "    var ncells = cells.length;\n",
       "    for (var i=0; i<ncells; i++) {\n",
       "        var cell = cells[i];\n",
       "        if (cell.cell_type === 'code'){\n",
       "            for (var j=0; j<cell.output_area.outputs.length; j++) {\n",
       "                var data = cell.output_area.outputs[j];\n",
       "                if (data.data) {\n",
       "                    // IPython >= 3 moved mimebundle to data attribute of output\n",
       "                    data = data.data;\n",
       "                }\n",
       "                if (data['text/html'] == html_output) {\n",
       "                    return [cell, data, j];\n",
       "                }\n",
       "            }\n",
       "        }\n",
       "    }\n",
       "}\n",
       "\n",
       "// Register the function which deals with the matplotlib target/channel.\n",
       "// The kernel may be null if the page has been refreshed.\n",
       "if (IPython.notebook.kernel != null) {\n",
       "    IPython.notebook.kernel.comm_manager.register_target('matplotlib', mpl.mpl_figure_comm);\n",
       "}\n"
      ],
      "text/plain": [
       "<IPython.core.display.Javascript object>"
      ]
     },
     "metadata": {},
     "output_type": "display_data"
    },
    {
     "data": {
      "text/html": [
       "<img src=\"data:image/png;base64,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\" width=\"800\">"
      ],
      "text/plain": [
       "<IPython.core.display.HTML object>"
      ]
     },
     "metadata": {},
     "output_type": "display_data"
    }
   ],
   "source": [
    "lc = LightCurve('data/fake030.csv')\n",
    "lc.plot_multicolor_lc()"
   ]
  },
  {
   "cell_type": "markdown",
   "metadata": {
    "slideshow": {
     "slide_type": "-"
    }
   },
   "source": [
    "#### _Figure 16: The ligt curve of FAKE030 - looks a bit more messy. Credit: Abhijit Saha (NOAO)_\n",
    "\n",
    "This object for instance is something very different - it's a variable star. It's got a characteristic time scale, but you wouldn't know it from a simple light curve plot."
   ]
  },
  {
   "cell_type": "markdown",
   "metadata": {
    "nbpresent": {
     "id": "3ff5aa2b-f582-44ab-9552-54c6f9c512ba"
    },
    "slideshow": {
     "slide_type": "slide"
    }
   },
   "source": [
    "We can use a Fourier technique known as the Lomb-Scargle Periodogram to estimate the characteristic scale, at least given some search range."
   ]
  },
  {
   "cell_type": "code",
   "execution_count": 15,
   "metadata": {
    "nbpresent": {
     "id": "38cc8bd3-7ed0-4fb0-8234-63b9e147ca31"
    },
    "slideshow": {
     "slide_type": "skip"
    }
   },
   "outputs": [],
   "source": [
    "from gatspy.periodic import LombScargleMultiband"
   ]
  },
  {
   "cell_type": "code",
   "execution_count": 16,
   "metadata": {
    "nbpresent": {
     "id": "dee7fd9a-43d4-4233-bfa7-f27cad3a6756"
    },
    "slideshow": {
     "slide_type": "skip"
    }
   },
   "outputs": [
    {
     "name": "stdout",
     "output_type": "stream",
     "text": [
      "Finding optimal frequency:\n",
      " - Estimated peak width = 0.00906\n",
      " - Using 5 steps per peak; omega_step = 0.00181\n",
      " - User-specified period range:  0.1 to 10\n",
      " - Computing periods at 34317 steps\n",
      "Zooming-in on 5 candidate peaks:\n",
      " - Computing periods at 995 steps\n",
      "data/fake030 has a period of 0.43305791539072674 days\n"
     ]
    }
   ],
   "source": [
    "model = LombScargleMultiband(fit_period=True)\n",
    "\n",
    "# we'll window the search range by setting minimums and maximums here\n",
    "# but in general, the search range you want to evaluate will depend on the data\n",
    "# and you will not be able to window like this unless you know something about\n",
    "# the class of the object a priori\n",
    "t_min = max(np.median(np.diff(sorted(lc.DFlc['mjd']))), 0.1)\n",
    "t_max = min(10., (lc.DFlc['mjd'].max() - lc.DFlc['mjd'].min())/2.)\n",
    "\n",
    "model.optimizer.set(period_range=(t_min, t_max), first_pass_coverage=5)\n",
    "model.fit(lc.DFlc['mjd'], lc.DFlc['flux'], dy=lc.DFlc['flux_err'], filts=lc.DFlc['passband'])\n",
    "period = model.best_period\n",
    "print(f'{lc.filename} has a period of {period} days')"
   ]
  },
  {
   "cell_type": "markdown",
   "metadata": {
    "slideshow": {
     "slide_type": "skip"
    }
   },
   "source": [
    "Takes a while eh... you could narrow the search range a bit, if you knew something about the astrophysical class of the object of interest... which is what you want to determine."
   ]
  },
  {
   "cell_type": "markdown",
   "metadata": {
    "slideshow": {
     "slide_type": "skip"
    }
   },
   "source": [
    "Still it's a fairly reliable way to extract a period from an irregularly sampled recurring time-series. "
   ]
  },
  {
   "cell_type": "markdown",
   "metadata": {
    "nbpresent": {
     "id": "e3aa63d2-7e78-484a-9538-aa46909fc1a6"
    },
    "slideshow": {
     "slide_type": "slide"
    }
   },
   "source": [
    "Folding the observations to this period takes that noisy time-series and shows you some of the structure in the data. \n",
    "\n",
    "If you look at the light curve below and compare it to the hand drawn diagram of variable stars from 1906, bearing in mind that it's period is a bit less than 12 hours, you should be able to classify it pretty easily."
   ]
  },
  {
   "cell_type": "code",
   "execution_count": 17,
   "metadata": {
    "nbpresent": {
     "id": "241a12f0-8c15-42e6-93c0-9c5a1e25dcaa"
    },
    "slideshow": {
     "slide_type": "-"
    }
   },
   "outputs": [
    {
     "data": {
      "application/javascript": [
       "/* Put everything inside the global mpl namespace */\n",
       "window.mpl = {};\n",
       "\n",
       "\n",
       "mpl.get_websocket_type = function() {\n",
       "    if (typeof(WebSocket) !== 'undefined') {\n",
       "        return WebSocket;\n",
       "    } else if (typeof(MozWebSocket) !== 'undefined') {\n",
       "        return MozWebSocket;\n",
       "    } else {\n",
       "        alert('Your browser does not have WebSocket support.' +\n",
       "              'Please try Chrome, Safari or Firefox ≥ 6. ' +\n",
       "              'Firefox 4 and 5 are also supported but you ' +\n",
       "              'have to enable WebSockets in about:config.');\n",
       "    };\n",
       "}\n",
       "\n",
       "mpl.figure = function(figure_id, websocket, ondownload, parent_element) {\n",
       "    this.id = figure_id;\n",
       "\n",
       "    this.ws = websocket;\n",
       "\n",
       "    this.supports_binary = (this.ws.binaryType != undefined);\n",
       "\n",
       "    if (!this.supports_binary) {\n",
       "        var warnings = document.getElementById(\"mpl-warnings\");\n",
       "        if (warnings) {\n",
       "            warnings.style.display = 'block';\n",
       "            warnings.textContent = (\n",
       "                \"This browser does not support binary websocket messages. \" +\n",
       "                    \"Performance may be slow.\");\n",
       "        }\n",
       "    }\n",
       "\n",
       "    this.imageObj = new Image();\n",
       "\n",
       "    this.context = undefined;\n",
       "    this.message = undefined;\n",
       "    this.canvas = undefined;\n",
       "    this.rubberband_canvas = undefined;\n",
       "    this.rubberband_context = undefined;\n",
       "    this.format_dropdown = undefined;\n",
       "\n",
       "    this.image_mode = 'full';\n",
       "\n",
       "    this.root = $('<div/>');\n",
       "    this._root_extra_style(this.root)\n",
       "    this.root.attr('style', 'display: inline-block');\n",
       "\n",
       "    $(parent_element).append(this.root);\n",
       "\n",
       "    this._init_header(this);\n",
       "    this._init_canvas(this);\n",
       "    this._init_toolbar(this);\n",
       "\n",
       "    var fig = this;\n",
       "\n",
       "    this.waiting = false;\n",
       "\n",
       "    this.ws.onopen =  function () {\n",
       "            fig.send_message(\"supports_binary\", {value: fig.supports_binary});\n",
       "            fig.send_message(\"send_image_mode\", {});\n",
       "            if (mpl.ratio != 1) {\n",
       "                fig.send_message(\"set_dpi_ratio\", {'dpi_ratio': mpl.ratio});\n",
       "            }\n",
       "            fig.send_message(\"refresh\", {});\n",
       "        }\n",
       "\n",
       "    this.imageObj.onload = function() {\n",
       "            if (fig.image_mode == 'full') {\n",
       "                // Full images could contain transparency (where diff images\n",
       "                // almost always do), so we need to clear the canvas so that\n",
       "                // there is no ghosting.\n",
       "                fig.context.clearRect(0, 0, fig.canvas.width, fig.canvas.height);\n",
       "            }\n",
       "            fig.context.drawImage(fig.imageObj, 0, 0);\n",
       "        };\n",
       "\n",
       "    this.imageObj.onunload = function() {\n",
       "        fig.ws.close();\n",
       "    }\n",
       "\n",
       "    this.ws.onmessage = this._make_on_message_function(this);\n",
       "\n",
       "    this.ondownload = ondownload;\n",
       "}\n",
       "\n",
       "mpl.figure.prototype._init_header = function() {\n",
       "    var titlebar = $(\n",
       "        '<div class=\"ui-dialog-titlebar ui-widget-header ui-corner-all ' +\n",
       "        'ui-helper-clearfix\"/>');\n",
       "    var titletext = $(\n",
       "        '<div class=\"ui-dialog-title\" style=\"width: 100%; ' +\n",
       "        'text-align: center; padding: 3px;\"/>');\n",
       "    titlebar.append(titletext)\n",
       "    this.root.append(titlebar);\n",
       "    this.header = titletext[0];\n",
       "}\n",
       "\n",
       "\n",
       "\n",
       "mpl.figure.prototype._canvas_extra_style = function(canvas_div) {\n",
       "\n",
       "}\n",
       "\n",
       "\n",
       "mpl.figure.prototype._root_extra_style = function(canvas_div) {\n",
       "\n",
       "}\n",
       "\n",
       "mpl.figure.prototype._init_canvas = function() {\n",
       "    var fig = this;\n",
       "\n",
       "    var canvas_div = $('<div/>');\n",
       "\n",
       "    canvas_div.attr('style', 'position: relative; clear: both; outline: 0');\n",
       "\n",
       "    function canvas_keyboard_event(event) {\n",
       "        return fig.key_event(event, event['data']);\n",
       "    }\n",
       "\n",
       "    canvas_div.keydown('key_press', canvas_keyboard_event);\n",
       "    canvas_div.keyup('key_release', canvas_keyboard_event);\n",
       "    this.canvas_div = canvas_div\n",
       "    this._canvas_extra_style(canvas_div)\n",
       "    this.root.append(canvas_div);\n",
       "\n",
       "    var canvas = $('<canvas/>');\n",
       "    canvas.addClass('mpl-canvas');\n",
       "    canvas.attr('style', \"left: 0; top: 0; z-index: 0; outline: 0\")\n",
       "\n",
       "    this.canvas = canvas[0];\n",
       "    this.context = canvas[0].getContext(\"2d\");\n",
       "\n",
       "    var backingStore = this.context.backingStorePixelRatio ||\n",
       "\tthis.context.webkitBackingStorePixelRatio ||\n",
       "\tthis.context.mozBackingStorePixelRatio ||\n",
       "\tthis.context.msBackingStorePixelRatio ||\n",
       "\tthis.context.oBackingStorePixelRatio ||\n",
       "\tthis.context.backingStorePixelRatio || 1;\n",
       "\n",
       "    mpl.ratio = (window.devicePixelRatio || 1) / backingStore;\n",
       "\n",
       "    var rubberband = $('<canvas/>');\n",
       "    rubberband.attr('style', \"position: absolute; left: 0; top: 0; z-index: 1;\")\n",
       "\n",
       "    var pass_mouse_events = true;\n",
       "\n",
       "    canvas_div.resizable({\n",
       "        start: function(event, ui) {\n",
       "            pass_mouse_events = false;\n",
       "        },\n",
       "        resize: function(event, ui) {\n",
       "            fig.request_resize(ui.size.width, ui.size.height);\n",
       "        },\n",
       "        stop: function(event, ui) {\n",
       "            pass_mouse_events = true;\n",
       "            fig.request_resize(ui.size.width, ui.size.height);\n",
       "        },\n",
       "    });\n",
       "\n",
       "    function mouse_event_fn(event) {\n",
       "        if (pass_mouse_events)\n",
       "            return fig.mouse_event(event, event['data']);\n",
       "    }\n",
       "\n",
       "    rubberband.mousedown('button_press', mouse_event_fn);\n",
       "    rubberband.mouseup('button_release', mouse_event_fn);\n",
       "    // Throttle sequential mouse events to 1 every 20ms.\n",
       "    rubberband.mousemove('motion_notify', mouse_event_fn);\n",
       "\n",
       "    rubberband.mouseenter('figure_enter', mouse_event_fn);\n",
       "    rubberband.mouseleave('figure_leave', mouse_event_fn);\n",
       "\n",
       "    canvas_div.on(\"wheel\", function (event) {\n",
       "        event = event.originalEvent;\n",
       "        event['data'] = 'scroll'\n",
       "        if (event.deltaY < 0) {\n",
       "            event.step = 1;\n",
       "        } else {\n",
       "            event.step = -1;\n",
       "        }\n",
       "        mouse_event_fn(event);\n",
       "    });\n",
       "\n",
       "    canvas_div.append(canvas);\n",
       "    canvas_div.append(rubberband);\n",
       "\n",
       "    this.rubberband = rubberband;\n",
       "    this.rubberband_canvas = rubberband[0];\n",
       "    this.rubberband_context = rubberband[0].getContext(\"2d\");\n",
       "    this.rubberband_context.strokeStyle = \"#000000\";\n",
       "\n",
       "    this._resize_canvas = function(width, height) {\n",
       "        // Keep the size of the canvas, canvas container, and rubber band\n",
       "        // canvas in synch.\n",
       "        canvas_div.css('width', width)\n",
       "        canvas_div.css('height', height)\n",
       "\n",
       "        canvas.attr('width', width * mpl.ratio);\n",
       "        canvas.attr('height', height * mpl.ratio);\n",
       "        canvas.attr('style', 'width: ' + width + 'px; height: ' + height + 'px;');\n",
       "\n",
       "        rubberband.attr('width', width);\n",
       "        rubberband.attr('height', height);\n",
       "    }\n",
       "\n",
       "    // Set the figure to an initial 600x600px, this will subsequently be updated\n",
       "    // upon first draw.\n",
       "    this._resize_canvas(600, 600);\n",
       "\n",
       "    // Disable right mouse context menu.\n",
       "    $(this.rubberband_canvas).bind(\"contextmenu\",function(e){\n",
       "        return false;\n",
       "    });\n",
       "\n",
       "    function set_focus () {\n",
       "        canvas.focus();\n",
       "        canvas_div.focus();\n",
       "    }\n",
       "\n",
       "    window.setTimeout(set_focus, 100);\n",
       "}\n",
       "\n",
       "mpl.figure.prototype._init_toolbar = function() {\n",
       "    var fig = this;\n",
       "\n",
       "    var nav_element = $('<div/>')\n",
       "    nav_element.attr('style', 'width: 100%');\n",
       "    this.root.append(nav_element);\n",
       "\n",
       "    // Define a callback function for later on.\n",
       "    function toolbar_event(event) {\n",
       "        return fig.toolbar_button_onclick(event['data']);\n",
       "    }\n",
       "    function toolbar_mouse_event(event) {\n",
       "        return fig.toolbar_button_onmouseover(event['data']);\n",
       "    }\n",
       "\n",
       "    for(var toolbar_ind in mpl.toolbar_items) {\n",
       "        var name = mpl.toolbar_items[toolbar_ind][0];\n",
       "        var tooltip = mpl.toolbar_items[toolbar_ind][1];\n",
       "        var image = mpl.toolbar_items[toolbar_ind][2];\n",
       "        var method_name = mpl.toolbar_items[toolbar_ind][3];\n",
       "\n",
       "        if (!name) {\n",
       "            // put a spacer in here.\n",
       "            continue;\n",
       "        }\n",
       "        var button = $('<button/>');\n",
       "        button.addClass('ui-button ui-widget ui-state-default ui-corner-all ' +\n",
       "                        'ui-button-icon-only');\n",
       "        button.attr('role', 'button');\n",
       "        button.attr('aria-disabled', 'false');\n",
       "        button.click(method_name, toolbar_event);\n",
       "        button.mouseover(tooltip, toolbar_mouse_event);\n",
       "\n",
       "        var icon_img = $('<span/>');\n",
       "        icon_img.addClass('ui-button-icon-primary ui-icon');\n",
       "        icon_img.addClass(image);\n",
       "        icon_img.addClass('ui-corner-all');\n",
       "\n",
       "        var tooltip_span = $('<span/>');\n",
       "        tooltip_span.addClass('ui-button-text');\n",
       "        tooltip_span.html(tooltip);\n",
       "\n",
       "        button.append(icon_img);\n",
       "        button.append(tooltip_span);\n",
       "\n",
       "        nav_element.append(button);\n",
       "    }\n",
       "\n",
       "    var fmt_picker_span = $('<span/>');\n",
       "\n",
       "    var fmt_picker = $('<select/>');\n",
       "    fmt_picker.addClass('mpl-toolbar-option ui-widget ui-widget-content');\n",
       "    fmt_picker_span.append(fmt_picker);\n",
       "    nav_element.append(fmt_picker_span);\n",
       "    this.format_dropdown = fmt_picker[0];\n",
       "\n",
       "    for (var ind in mpl.extensions) {\n",
       "        var fmt = mpl.extensions[ind];\n",
       "        var option = $(\n",
       "            '<option/>', {selected: fmt === mpl.default_extension}).html(fmt);\n",
       "        fmt_picker.append(option)\n",
       "    }\n",
       "\n",
       "    // Add hover states to the ui-buttons\n",
       "    $( \".ui-button\" ).hover(\n",
       "        function() { $(this).addClass(\"ui-state-hover\");},\n",
       "        function() { $(this).removeClass(\"ui-state-hover\");}\n",
       "    );\n",
       "\n",
       "    var status_bar = $('<span class=\"mpl-message\"/>');\n",
       "    nav_element.append(status_bar);\n",
       "    this.message = status_bar[0];\n",
       "}\n",
       "\n",
       "mpl.figure.prototype.request_resize = function(x_pixels, y_pixels) {\n",
       "    // Request matplotlib to resize the figure. Matplotlib will then trigger a resize in the client,\n",
       "    // which will in turn request a refresh of the image.\n",
       "    this.send_message('resize', {'width': x_pixels, 'height': y_pixels});\n",
       "}\n",
       "\n",
       "mpl.figure.prototype.send_message = function(type, properties) {\n",
       "    properties['type'] = type;\n",
       "    properties['figure_id'] = this.id;\n",
       "    this.ws.send(JSON.stringify(properties));\n",
       "}\n",
       "\n",
       "mpl.figure.prototype.send_draw_message = function() {\n",
       "    if (!this.waiting) {\n",
       "        this.waiting = true;\n",
       "        this.ws.send(JSON.stringify({type: \"draw\", figure_id: this.id}));\n",
       "    }\n",
       "}\n",
       "\n",
       "\n",
       "mpl.figure.prototype.handle_save = function(fig, msg) {\n",
       "    var format_dropdown = fig.format_dropdown;\n",
       "    var format = format_dropdown.options[format_dropdown.selectedIndex].value;\n",
       "    fig.ondownload(fig, format);\n",
       "}\n",
       "\n",
       "\n",
       "mpl.figure.prototype.handle_resize = function(fig, msg) {\n",
       "    var size = msg['size'];\n",
       "    if (size[0] != fig.canvas.width || size[1] != fig.canvas.height) {\n",
       "        fig._resize_canvas(size[0], size[1]);\n",
       "        fig.send_message(\"refresh\", {});\n",
       "    };\n",
       "}\n",
       "\n",
       "mpl.figure.prototype.handle_rubberband = function(fig, msg) {\n",
       "    var x0 = msg['x0'] / mpl.ratio;\n",
       "    var y0 = (fig.canvas.height - msg['y0']) / mpl.ratio;\n",
       "    var x1 = msg['x1'] / mpl.ratio;\n",
       "    var y1 = (fig.canvas.height - msg['y1']) / mpl.ratio;\n",
       "    x0 = Math.floor(x0) + 0.5;\n",
       "    y0 = Math.floor(y0) + 0.5;\n",
       "    x1 = Math.floor(x1) + 0.5;\n",
       "    y1 = Math.floor(y1) + 0.5;\n",
       "    var min_x = Math.min(x0, x1);\n",
       "    var min_y = Math.min(y0, y1);\n",
       "    var width = Math.abs(x1 - x0);\n",
       "    var height = Math.abs(y1 - y0);\n",
       "\n",
       "    fig.rubberband_context.clearRect(\n",
       "        0, 0, fig.canvas.width, fig.canvas.height);\n",
       "\n",
       "    fig.rubberband_context.strokeRect(min_x, min_y, width, height);\n",
       "}\n",
       "\n",
       "mpl.figure.prototype.handle_figure_label = function(fig, msg) {\n",
       "    // Updates the figure title.\n",
       "    fig.header.textContent = msg['label'];\n",
       "}\n",
       "\n",
       "mpl.figure.prototype.handle_cursor = function(fig, msg) {\n",
       "    var cursor = msg['cursor'];\n",
       "    switch(cursor)\n",
       "    {\n",
       "    case 0:\n",
       "        cursor = 'pointer';\n",
       "        break;\n",
       "    case 1:\n",
       "        cursor = 'default';\n",
       "        break;\n",
       "    case 2:\n",
       "        cursor = 'crosshair';\n",
       "        break;\n",
       "    case 3:\n",
       "        cursor = 'move';\n",
       "        break;\n",
       "    }\n",
       "    fig.rubberband_canvas.style.cursor = cursor;\n",
       "}\n",
       "\n",
       "mpl.figure.prototype.handle_message = function(fig, msg) {\n",
       "    fig.message.textContent = msg['message'];\n",
       "}\n",
       "\n",
       "mpl.figure.prototype.handle_draw = function(fig, msg) {\n",
       "    // Request the server to send over a new figure.\n",
       "    fig.send_draw_message();\n",
       "}\n",
       "\n",
       "mpl.figure.prototype.handle_image_mode = function(fig, msg) {\n",
       "    fig.image_mode = msg['mode'];\n",
       "}\n",
       "\n",
       "mpl.figure.prototype.updated_canvas_event = function() {\n",
       "    // Called whenever the canvas gets updated.\n",
       "    this.send_message(\"ack\", {});\n",
       "}\n",
       "\n",
       "// A function to construct a web socket function for onmessage handling.\n",
       "// Called in the figure constructor.\n",
       "mpl.figure.prototype._make_on_message_function = function(fig) {\n",
       "    return function socket_on_message(evt) {\n",
       "        if (evt.data instanceof Blob) {\n",
       "            /* FIXME: We get \"Resource interpreted as Image but\n",
       "             * transferred with MIME type text/plain:\" errors on\n",
       "             * Chrome.  But how to set the MIME type?  It doesn't seem\n",
       "             * to be part of the websocket stream */\n",
       "            evt.data.type = \"image/png\";\n",
       "\n",
       "            /* Free the memory for the previous frames */\n",
       "            if (fig.imageObj.src) {\n",
       "                (window.URL || window.webkitURL).revokeObjectURL(\n",
       "                    fig.imageObj.src);\n",
       "            }\n",
       "\n",
       "            fig.imageObj.src = (window.URL || window.webkitURL).createObjectURL(\n",
       "                evt.data);\n",
       "            fig.updated_canvas_event();\n",
       "            fig.waiting = false;\n",
       "            return;\n",
       "        }\n",
       "        else if (typeof evt.data === 'string' && evt.data.slice(0, 21) == \"data:image/png;base64\") {\n",
       "            fig.imageObj.src = evt.data;\n",
       "            fig.updated_canvas_event();\n",
       "            fig.waiting = false;\n",
       "            return;\n",
       "        }\n",
       "\n",
       "        var msg = JSON.parse(evt.data);\n",
       "        var msg_type = msg['type'];\n",
       "\n",
       "        // Call the  \"handle_{type}\" callback, which takes\n",
       "        // the figure and JSON message as its only arguments.\n",
       "        try {\n",
       "            var callback = fig[\"handle_\" + msg_type];\n",
       "        } catch (e) {\n",
       "            console.log(\"No handler for the '\" + msg_type + \"' message type: \", msg);\n",
       "            return;\n",
       "        }\n",
       "\n",
       "        if (callback) {\n",
       "            try {\n",
       "                // console.log(\"Handling '\" + msg_type + \"' message: \", msg);\n",
       "                callback(fig, msg);\n",
       "            } catch (e) {\n",
       "                console.log(\"Exception inside the 'handler_\" + msg_type + \"' callback:\", e, e.stack, msg);\n",
       "            }\n",
       "        }\n",
       "    };\n",
       "}\n",
       "\n",
       "// from http://stackoverflow.com/questions/1114465/getting-mouse-location-in-canvas\n",
       "mpl.findpos = function(e) {\n",
       "    //this section is from http://www.quirksmode.org/js/events_properties.html\n",
       "    var targ;\n",
       "    if (!e)\n",
       "        e = window.event;\n",
       "    if (e.target)\n",
       "        targ = e.target;\n",
       "    else if (e.srcElement)\n",
       "        targ = e.srcElement;\n",
       "    if (targ.nodeType == 3) // defeat Safari bug\n",
       "        targ = targ.parentNode;\n",
       "\n",
       "    // jQuery normalizes the pageX and pageY\n",
       "    // pageX,Y are the mouse positions relative to the document\n",
       "    // offset() returns the position of the element relative to the document\n",
       "    var x = e.pageX - $(targ).offset().left;\n",
       "    var y = e.pageY - $(targ).offset().top;\n",
       "\n",
       "    return {\"x\": x, \"y\": y};\n",
       "};\n",
       "\n",
       "/*\n",
       " * return a copy of an object with only non-object keys\n",
       " * we need this to avoid circular references\n",
       " * http://stackoverflow.com/a/24161582/3208463\n",
       " */\n",
       "function simpleKeys (original) {\n",
       "  return Object.keys(original).reduce(function (obj, key) {\n",
       "    if (typeof original[key] !== 'object')\n",
       "        obj[key] = original[key]\n",
       "    return obj;\n",
       "  }, {});\n",
       "}\n",
       "\n",
       "mpl.figure.prototype.mouse_event = function(event, name) {\n",
       "    var canvas_pos = mpl.findpos(event)\n",
       "\n",
       "    if (name === 'button_press')\n",
       "    {\n",
       "        this.canvas.focus();\n",
       "        this.canvas_div.focus();\n",
       "    }\n",
       "\n",
       "    var x = canvas_pos.x * mpl.ratio;\n",
       "    var y = canvas_pos.y * mpl.ratio;\n",
       "\n",
       "    this.send_message(name, {x: x, y: y, button: event.button,\n",
       "                             step: event.step,\n",
       "                             guiEvent: simpleKeys(event)});\n",
       "\n",
       "    /* This prevents the web browser from automatically changing to\n",
       "     * the text insertion cursor when the button is pressed.  We want\n",
       "     * to control all of the cursor setting manually through the\n",
       "     * 'cursor' event from matplotlib */\n",
       "    event.preventDefault();\n",
       "    return false;\n",
       "}\n",
       "\n",
       "mpl.figure.prototype._key_event_extra = function(event, name) {\n",
       "    // Handle any extra behaviour associated with a key event\n",
       "}\n",
       "\n",
       "mpl.figure.prototype.key_event = function(event, name) {\n",
       "\n",
       "    // Prevent repeat events\n",
       "    if (name == 'key_press')\n",
       "    {\n",
       "        if (event.which === this._key)\n",
       "            return;\n",
       "        else\n",
       "            this._key = event.which;\n",
       "    }\n",
       "    if (name == 'key_release')\n",
       "        this._key = null;\n",
       "\n",
       "    var value = '';\n",
       "    if (event.ctrlKey && event.which != 17)\n",
       "        value += \"ctrl+\";\n",
       "    if (event.altKey && event.which != 18)\n",
       "        value += \"alt+\";\n",
       "    if (event.shiftKey && event.which != 16)\n",
       "        value += \"shift+\";\n",
       "\n",
       "    value += 'k';\n",
       "    value += event.which.toString();\n",
       "\n",
       "    this._key_event_extra(event, name);\n",
       "\n",
       "    this.send_message(name, {key: value,\n",
       "                             guiEvent: simpleKeys(event)});\n",
       "    return false;\n",
       "}\n",
       "\n",
       "mpl.figure.prototype.toolbar_button_onclick = function(name) {\n",
       "    if (name == 'download') {\n",
       "        this.handle_save(this, null);\n",
       "    } else {\n",
       "        this.send_message(\"toolbar_button\", {name: name});\n",
       "    }\n",
       "};\n",
       "\n",
       "mpl.figure.prototype.toolbar_button_onmouseover = function(tooltip) {\n",
       "    this.message.textContent = tooltip;\n",
       "};\n",
       "mpl.toolbar_items = [[\"Home\", \"Reset original view\", \"fa fa-home icon-home\", \"home\"], [\"Back\", \"Back to previous view\", \"fa fa-arrow-left icon-arrow-left\", \"back\"], [\"Forward\", \"Forward to next view\", \"fa fa-arrow-right icon-arrow-right\", \"forward\"], [\"\", \"\", \"\", \"\"], [\"Pan\", \"Pan axes with left mouse, zoom with right\", \"fa fa-arrows icon-move\", \"pan\"], [\"Zoom\", \"Zoom to rectangle\", \"fa fa-square-o icon-check-empty\", \"zoom\"], [\"\", \"\", \"\", \"\"], [\"Download\", \"Download plot\", \"fa fa-floppy-o icon-save\", \"download\"]];\n",
       "\n",
       "mpl.extensions = [\"eps\", \"pdf\", \"png\", \"ps\", \"raw\", \"svg\"];\n",
       "\n",
       "mpl.default_extension = \"png\";var comm_websocket_adapter = function(comm) {\n",
       "    // Create a \"websocket\"-like object which calls the given IPython comm\n",
       "    // object with the appropriate methods. Currently this is a non binary\n",
       "    // socket, so there is still some room for performance tuning.\n",
       "    var ws = {};\n",
       "\n",
       "    ws.close = function() {\n",
       "        comm.close()\n",
       "    };\n",
       "    ws.send = function(m) {\n",
       "        //console.log('sending', m);\n",
       "        comm.send(m);\n",
       "    };\n",
       "    // Register the callback with on_msg.\n",
       "    comm.on_msg(function(msg) {\n",
       "        //console.log('receiving', msg['content']['data'], msg);\n",
       "        // Pass the mpl event to the overridden (by mpl) onmessage function.\n",
       "        ws.onmessage(msg['content']['data'])\n",
       "    });\n",
       "    return ws;\n",
       "}\n",
       "\n",
       "mpl.mpl_figure_comm = function(comm, msg) {\n",
       "    // This is the function which gets called when the mpl process\n",
       "    // starts-up an IPython Comm through the \"matplotlib\" channel.\n",
       "\n",
       "    var id = msg.content.data.id;\n",
       "    // Get hold of the div created by the display call when the Comm\n",
       "    // socket was opened in Python.\n",
       "    var element = $(\"#\" + id);\n",
       "    var ws_proxy = comm_websocket_adapter(comm)\n",
       "\n",
       "    function ondownload(figure, format) {\n",
       "        window.open(figure.imageObj.src);\n",
       "    }\n",
       "\n",
       "    var fig = new mpl.figure(id, ws_proxy,\n",
       "                           ondownload,\n",
       "                           element.get(0));\n",
       "\n",
       "    // Call onopen now - mpl needs it, as it is assuming we've passed it a real\n",
       "    // web socket which is closed, not our websocket->open comm proxy.\n",
       "    ws_proxy.onopen();\n",
       "\n",
       "    fig.parent_element = element.get(0);\n",
       "    fig.cell_info = mpl.find_output_cell(\"<div id='\" + id + \"'></div>\");\n",
       "    if (!fig.cell_info) {\n",
       "        console.error(\"Failed to find cell for figure\", id, fig);\n",
       "        return;\n",
       "    }\n",
       "\n",
       "    var output_index = fig.cell_info[2]\n",
       "    var cell = fig.cell_info[0];\n",
       "\n",
       "};\n",
       "\n",
       "mpl.figure.prototype.handle_close = function(fig, msg) {\n",
       "    var width = fig.canvas.width/mpl.ratio\n",
       "    fig.root.unbind('remove')\n",
       "\n",
       "    // Update the output cell to use the data from the current canvas.\n",
       "    fig.push_to_output();\n",
       "    var dataURL = fig.canvas.toDataURL();\n",
       "    // Re-enable the keyboard manager in IPython - without this line, in FF,\n",
       "    // the notebook keyboard shortcuts fail.\n",
       "    IPython.keyboard_manager.enable()\n",
       "    $(fig.parent_element).html('<img src=\"' + dataURL + '\" width=\"' + width + '\">');\n",
       "    fig.close_ws(fig, msg);\n",
       "}\n",
       "\n",
       "mpl.figure.prototype.close_ws = function(fig, msg){\n",
       "    fig.send_message('closing', msg);\n",
       "    // fig.ws.close()\n",
       "}\n",
       "\n",
       "mpl.figure.prototype.push_to_output = function(remove_interactive) {\n",
       "    // Turn the data on the canvas into data in the output cell.\n",
       "    var width = this.canvas.width/mpl.ratio\n",
       "    var dataURL = this.canvas.toDataURL();\n",
       "    this.cell_info[1]['text/html'] = '<img src=\"' + dataURL + '\" width=\"' + width + '\">';\n",
       "}\n",
       "\n",
       "mpl.figure.prototype.updated_canvas_event = function() {\n",
       "    // Tell IPython that the notebook contents must change.\n",
       "    IPython.notebook.set_dirty(true);\n",
       "    this.send_message(\"ack\", {});\n",
       "    var fig = this;\n",
       "    // Wait a second, then push the new image to the DOM so\n",
       "    // that it is saved nicely (might be nice to debounce this).\n",
       "    setTimeout(function () { fig.push_to_output() }, 1000);\n",
       "}\n",
       "\n",
       "mpl.figure.prototype._init_toolbar = function() {\n",
       "    var fig = this;\n",
       "\n",
       "    var nav_element = $('<div/>')\n",
       "    nav_element.attr('style', 'width: 100%');\n",
       "    this.root.append(nav_element);\n",
       "\n",
       "    // Define a callback function for later on.\n",
       "    function toolbar_event(event) {\n",
       "        return fig.toolbar_button_onclick(event['data']);\n",
       "    }\n",
       "    function toolbar_mouse_event(event) {\n",
       "        return fig.toolbar_button_onmouseover(event['data']);\n",
       "    }\n",
       "\n",
       "    for(var toolbar_ind in mpl.toolbar_items){\n",
       "        var name = mpl.toolbar_items[toolbar_ind][0];\n",
       "        var tooltip = mpl.toolbar_items[toolbar_ind][1];\n",
       "        var image = mpl.toolbar_items[toolbar_ind][2];\n",
       "        var method_name = mpl.toolbar_items[toolbar_ind][3];\n",
       "\n",
       "        if (!name) { continue; };\n",
       "\n",
       "        var button = $('<button class=\"btn btn-default\" href=\"#\" title=\"' + name + '\"><i class=\"fa ' + image + ' fa-lg\"></i></button>');\n",
       "        button.click(method_name, toolbar_event);\n",
       "        button.mouseover(tooltip, toolbar_mouse_event);\n",
       "        nav_element.append(button);\n",
       "    }\n",
       "\n",
       "    // Add the status bar.\n",
       "    var status_bar = $('<span class=\"mpl-message\" style=\"text-align:right; float: right;\"/>');\n",
       "    nav_element.append(status_bar);\n",
       "    this.message = status_bar[0];\n",
       "\n",
       "    // Add the close button to the window.\n",
       "    var buttongrp = $('<div class=\"btn-group inline pull-right\"></div>');\n",
       "    var button = $('<button class=\"btn btn-mini btn-primary\" href=\"#\" title=\"Stop Interaction\"><i class=\"fa fa-power-off icon-remove icon-large\"></i></button>');\n",
       "    button.click(function (evt) { fig.handle_close(fig, {}); } );\n",
       "    button.mouseover('Stop Interaction', toolbar_mouse_event);\n",
       "    buttongrp.append(button);\n",
       "    var titlebar = this.root.find($('.ui-dialog-titlebar'));\n",
       "    titlebar.prepend(buttongrp);\n",
       "}\n",
       "\n",
       "mpl.figure.prototype._root_extra_style = function(el){\n",
       "    var fig = this\n",
       "    el.on(\"remove\", function(){\n",
       "\tfig.close_ws(fig, {});\n",
       "    });\n",
       "}\n",
       "\n",
       "mpl.figure.prototype._canvas_extra_style = function(el){\n",
       "    // this is important to make the div 'focusable\n",
       "    el.attr('tabindex', 0)\n",
       "    // reach out to IPython and tell the keyboard manager to turn it's self\n",
       "    // off when our div gets focus\n",
       "\n",
       "    // location in version 3\n",
       "    if (IPython.notebook.keyboard_manager) {\n",
       "        IPython.notebook.keyboard_manager.register_events(el);\n",
       "    }\n",
       "    else {\n",
       "        // location in version 2\n",
       "        IPython.keyboard_manager.register_events(el);\n",
       "    }\n",
       "\n",
       "}\n",
       "\n",
       "mpl.figure.prototype._key_event_extra = function(event, name) {\n",
       "    var manager = IPython.notebook.keyboard_manager;\n",
       "    if (!manager)\n",
       "        manager = IPython.keyboard_manager;\n",
       "\n",
       "    // Check for shift+enter\n",
       "    if (event.shiftKey && event.which == 13) {\n",
       "        this.canvas_div.blur();\n",
       "        event.shiftKey = false;\n",
       "        // Send a \"J\" for go to next cell\n",
       "        event.which = 74;\n",
       "        event.keyCode = 74;\n",
       "        manager.command_mode();\n",
       "        manager.handle_keydown(event);\n",
       "    }\n",
       "}\n",
       "\n",
       "mpl.figure.prototype.handle_save = function(fig, msg) {\n",
       "    fig.ondownload(fig, null);\n",
       "}\n",
       "\n",
       "\n",
       "mpl.find_output_cell = function(html_output) {\n",
       "    // Return the cell and output element which can be found *uniquely* in the notebook.\n",
       "    // Note - this is a bit hacky, but it is done because the \"notebook_saving.Notebook\"\n",
       "    // IPython event is triggered only after the cells have been serialised, which for\n",
       "    // our purposes (turning an active figure into a static one), is too late.\n",
       "    var cells = IPython.notebook.get_cells();\n",
       "    var ncells = cells.length;\n",
       "    for (var i=0; i<ncells; i++) {\n",
       "        var cell = cells[i];\n",
       "        if (cell.cell_type === 'code'){\n",
       "            for (var j=0; j<cell.output_area.outputs.length; j++) {\n",
       "                var data = cell.output_area.outputs[j];\n",
       "                if (data.data) {\n",
       "                    // IPython >= 3 moved mimebundle to data attribute of output\n",
       "                    data = data.data;\n",
       "                }\n",
       "                if (data['text/html'] == html_output) {\n",
       "                    return [cell, data, j];\n",
       "                }\n",
       "            }\n",
       "        }\n",
       "    }\n",
       "}\n",
       "\n",
       "// Register the function which deals with the matplotlib target/channel.\n",
       "// The kernel may be null if the page has been refreshed.\n",
       "if (IPython.notebook.kernel != null) {\n",
       "    IPython.notebook.kernel.comm_manager.register_target('matplotlib', mpl.mpl_figure_comm);\n",
       "}\n"
      ],
      "text/plain": [
       "<IPython.core.display.Javascript object>"
      ]
     },
     "metadata": {},
     "output_type": "display_data"
    },
    {
     "data": {
      "text/html": [
       "<img src=\"data:image/png;base64,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\" width=\"800\">"
      ],
      "text/plain": [
       "<IPython.core.display.HTML object>"
      ]
     },
     "metadata": {},
     "output_type": "display_data"
    }
   ],
   "source": [
    "phase = (lc.DFlc['mjd'] /period) % 1\n",
    "lc.plot_multicolor_lc(phase=phase)"
   ]
  },
  {
   "cell_type": "markdown",
   "metadata": {
    "slideshow": {
     "slide_type": "-"
    }
   },
   "source": [
    "#### _Figure 17: The \"folded\" light curve of FAKE030, after determining a period using the Lomb-Scargle algorithm_"
   ]
  },
  {
   "cell_type": "markdown",
   "metadata": {
    "slideshow": {
     "slide_type": "slide"
    }
   },
   "source": [
    "This folded curve is suitable for feature extraction, but we don't a priori know what objects have periodic structure and which ones don't. "
   ]
  },
  {
   "cell_type": "markdown",
   "metadata": {
    "slideshow": {
     "slide_type": "fragment"
    }
   },
   "source": [
    "Also, some classes of objects exhibit stochastic variability - they don't repeat periodically, but they do change more on some time scales than others. "
   ]
  },
  {
   "cell_type": "markdown",
   "metadata": {
    "slideshow": {
     "slide_type": "fragment"
    }
   },
   "source": [
    "Active galactic nucleii - massive black holes surrounded by hot dust and gas at the centers of galaxies - exhibit this kind of behavior."
   ]
  },
  {
   "cell_type": "markdown",
   "metadata": {
    "slideshow": {
     "slide_type": "fragment"
    }
   },
   "source": [
    "Still, you might look at the RR Lyrae and supernova light curve and conclude that extracting information about shape and the relative strengths of the signal in different passbands is a promising way to encode the information on each object... "
   ]
  },
  {
   "cell_type": "markdown",
   "metadata": {
    "slideshow": {
     "slide_type": "fragment"
    }
   },
   "source": [
    "...and would be useful for classification. "
   ]
  },
  {
   "cell_type": "markdown",
   "metadata": {
    "slideshow": {
     "slide_type": "fragment"
    }
   },
   "source": [
    "And you'd be right! "
   ]
  },
  {
   "cell_type": "markdown",
   "metadata": {
    "nbpresent": {
     "id": "c9695847-347a-4def-a778-9e34fb236a6e"
    },
    "slideshow": {
     "slide_type": "slide"
    }
   },
   "source": [
    "But there's another astrophysical effect that affects the determination of time scales and colors, and this one has nothing to do with the nature of the object - what it is - but rather, *where* it is."
   ]
  },
  {
   "cell_type": "markdown",
   "metadata": {
    "nbpresent": {
     "id": "ad0703e9-0909-488d-a584-4c9de29c3d9a"
    },
    "slideshow": {
     "slide_type": "slide"
    }
   },
   "source": [
    "## 4. Primer cont'd - Metadata Provided with Light Curves\n",
    "<a id=\"section4\"></a>"
   ]
  },
  {
   "cell_type": "markdown",
   "metadata": {
    "slideshow": {
     "slide_type": "slide"
    }
   },
   "source": [
    "Real astrophysical data is from sources on the sky, which means that we normally have contextual information in addition to the light curve to help with classification - if a source is near a galaxy or if it is isolated for instance."
   ]
  },
  {
   "cell_type": "markdown",
   "metadata": {
    "slideshow": {
     "slide_type": "fragment"
    }
   },
   "source": [
    "With PLAsTiCC, since we're simulating the time series, we don't have the full breadth of this contextual information. "
   ]
  },
  {
   "cell_type": "markdown",
   "metadata": {
    "slideshow": {
     "slide_type": "fragment"
    }
   },
   "source": [
    "We can't really simulate it from previous surveys, because none of them achieve the same sort of signal-to-noise that LSST will - one of the big motivations for building LSST in the first place.   "
   ]
  },
  {
   "cell_type": "markdown",
   "metadata": {
    "nbpresent": {
     "id": "303d20e7-e53b-4f0e-8c12-75c8b7a5eee1"
    },
    "slideshow": {
     "slide_type": "slide"
    }
   },
   "source": [
    "While we can't give you all the contextual information, we do provide some metadata - a few essential elements that you _may_ want to use to augment the features extracted directly from the light curves (this has pluses and minuses). \n",
    "\n",
    "Let's start by taking a look at the metadata table (a stub of which is provided with the starter kit)"
   ]
  },
  {
   "cell_type": "code",
   "execution_count": 18,
   "metadata": {
    "nbpresent": {
     "id": "f1550ad8-9777-4ab1-8ad6-7551434a4e5b"
    },
    "slideshow": {
     "slide_type": "slide"
    }
   },
   "outputs": [
    {
     "data": {
      "text/html": [
       "<i>Table length=10</i>\n",
       "<table id=\"table112254659832\" class=\"table-striped table-bordered table-condensed\">\n",
       "<thead><tr><th>object_id</th><th>ra</th><th>decl</th><th>gall</th><th>galb</th><th>ddf_bool</th><th>hostgal_specz</th><th>hostgal_photoz</th><th>hostgal_photoz_err</th><th>distmod</th><th>mwebv</th><th>target</th></tr></thead>\n",
       "<thead><tr><th>int64</th><th>float64</th><th>float64</th><th>float64</th><th>float64</th><th>int64</th><th>float64</th><th>float64</th><th>float64</th><th>float64</th><th>float64</th><th>int64</th></tr></thead>\n",
       "<tr><td>615</td><td>349.046051</td><td>-61.943836</td><td>320.79653</td><td>-51.753706</td><td>1</td><td>0.0</td><td>0.0</td><td>0.0</td><td>nan</td><td>0.017</td><td>92</td></tr>\n",
       "<tr><td>713</td><td>53.085938</td><td>-27.784405</td><td>223.525509</td><td>-54.460748</td><td>1</td><td>1.8181</td><td>1.6153</td><td>0.55</td><td>45.3873</td><td>0.007</td><td>88</td></tr>\n",
       "<tr><td>730</td><td>33.574219</td><td>-6.579593</td><td>170.455585</td><td>-61.548219</td><td>1</td><td>0.232</td><td>0.2262</td><td>0.0157</td><td>40.2561</td><td>0.021</td><td>42</td></tr>\n",
       "<tr><td>745</td><td>0.189873</td><td>-45.586655</td><td>328.254458</td><td>-68.969298</td><td>1</td><td>0.3037</td><td>0.2813</td><td>1.1523</td><td>40.7951</td><td>0.007</td><td>90</td></tr>\n",
       "<tr><td>1124</td><td>352.711273</td><td>-63.823658</td><td>316.922299</td><td>-51.059403</td><td>1</td><td>0.1934</td><td>0.2415</td><td>0.0176</td><td>40.4166</td><td>0.024</td><td>90</td></tr>\n",
       "<tr><td>1227</td><td>35.683594</td><td>-5.379379</td><td>171.992947</td><td>-59.253501</td><td>1</td><td>0.0</td><td>0.0</td><td>0.0</td><td>nan</td><td>0.02</td><td>65</td></tr>\n",
       "<tr><td>1598</td><td>347.84671</td><td>-64.760857</td><td>318.929827</td><td>-49.143596</td><td>1</td><td>0.1352</td><td>0.182</td><td>0.0304</td><td>39.7279</td><td>0.019</td><td>90</td></tr>\n",
       "<tr><td>1632</td><td>348.595886</td><td>-63.07262</td><td>320.023289</td><td>-50.71306</td><td>1</td><td>0.6857</td><td>0.7014</td><td>0.01</td><td>43.1524</td><td>0.021</td><td>42</td></tr>\n",
       "<tr><td>1920</td><td>149.414062</td><td>3.433834</td><td>234.919132</td><td>42.24555</td><td>1</td><td>0.3088</td><td>0.3229</td><td>0.336</td><td>41.1401</td><td>0.027</td><td>90</td></tr>\n",
       "<tr><td>1926</td><td>149.414062</td><td>1.940072</td><td>236.565366</td><td>41.393323</td><td>1</td><td>0.0</td><td>0.0</td><td>0.0</td><td>nan</td><td>0.018</td><td>65</td></tr>\n",
       "</table>"
      ],
      "text/plain": [
       "<Table length=10>\n",
       "object_id     ra        decl       gall    ... distmod  mwebv  target\n",
       "  int64    float64    float64    float64   ... float64 float64 int64 \n",
       "--------- ---------- ---------- ---------- ... ------- ------- ------\n",
       "      615 349.046051 -61.943836  320.79653 ...     nan   0.017     92\n",
       "      713  53.085938 -27.784405 223.525509 ... 45.3873   0.007     88\n",
       "      730  33.574219  -6.579593 170.455585 ... 40.2561   0.021     42\n",
       "      745   0.189873 -45.586655 328.254458 ... 40.7951   0.007     90\n",
       "     1124 352.711273 -63.823658 316.922299 ... 40.4166   0.024     90\n",
       "     1227  35.683594  -5.379379 171.992947 ...     nan    0.02     65\n",
       "     1598  347.84671 -64.760857 318.929827 ... 39.7279   0.019     90\n",
       "     1632 348.595886  -63.07262 320.023289 ... 43.1524   0.021     42\n",
       "     1920 149.414062   3.433834 234.919132 ... 41.1401   0.027     90\n",
       "     1926 149.414062   1.940072 236.565366 ...     nan   0.018     65"
      ]
     },
     "execution_count": 18,
     "metadata": {},
     "output_type": "execute_result"
    }
   ],
   "source": [
    "header = Table.read('data/plasticc_training_set_metadata_stub.csv', format='csv')\n",
    "header"
   ]
  },
  {
   "cell_type": "markdown",
   "metadata": {
    "nbpresent": {
     "id": "3dbbfc53-6fda-4ffb-b90a-b09bc4ddb92d"
    },
    "slideshow": {
     "slide_type": "-"
    }
   },
   "source": [
    "That's a fair number of fields. `object_id` is a simple integer ID number that uniquely identifies each object, and corresponds to the object's ID in the light curve files, but the rest might not be familiar."
   ]
  },
  {
   "cell_type": "markdown",
   "metadata": {
    "slideshow": {
     "slide_type": "slide"
    }
   },
   "source": [
    "### 4a. Coordinates on the Sky\n",
    "<a id=\"section4a\"></a>\n",
    "\n",
    "The next few columns of metadata are related to an object's position in our three spatial dimensions."
   ]
  },
  {
   "cell_type": "markdown",
   "metadata": {
    "slideshow": {
     "slide_type": "fragment"
    }
   },
   "source": [
    "We use a spherical coordinate system on the sky, with the positions of stars indexed by a two-tuple that describes where they were on the 1st of January in the year 2000."
   ]
  },
  {
   "cell_type": "markdown",
   "metadata": {
    "slideshow": {
     "slide_type": "slide"
    }
   },
   "source": [
    "These two angles are called the \"Right Ascension\" (R.A.) and the \"Declination\" (often just Dec.) corresponding to longitude and latitude on the Earth. "
   ]
  },
  {
   "cell_type": "markdown",
   "metadata": {
    "slideshow": {
     "slide_type": "fragment"
    }
   },
   "source": [
    "These coordinates are supplied in the `ra` and `decl` columns of the metadata table."
   ]
  },
  {
   "cell_type": "markdown",
   "metadata": {
    "slideshow": {
     "slide_type": "fragment"
    }
   },
   "source": [
    "Wiki has a good illustration of this coordinate system:\n",
    "\n",
    "<center><img src=\"media/Celestial_Coordinates.gif\"></center>"
   ]
  },
  {
   "cell_type": "markdown",
   "metadata": {
    "slideshow": {
     "slide_type": "-"
    }
   },
   "source": [
    "#### *Figure 18: Equatorial coordinates, Credit: https://en.wikipedia.org/wiki/Right_ascension*"
   ]
  },
  {
   "cell_type": "markdown",
   "metadata": {
    "slideshow": {
     "slide_type": "slide"
    }
   },
   "source": [
    "If we unroll the sky into a flat <a href=\"https://en.wikipedia.org/wiki/Aitoff_projection\">Aitoff projection</a>, we can get a view of the entire sky:\n",
    "\n",
    "<center><img width=\"80%\" src=\"media/allsky_equatorial.jpg\"></center>"
   ]
  },
  {
   "cell_type": "markdown",
   "metadata": {
    "slideshow": {
     "slide_type": "-"
    }
   },
   "source": [
    "#### _Figure 19: The sky in equatorial coordinates with a galactic coordinate grid overlaid_\n",
    "\n",
    "Splitting the sky into two hemispheres by extending the Earth's equator outwards, the Milky Way forms a graceful arc.\n",
    "\n",
    "Lines of constant Right Ascension and Declination are in grey, while the green lines indicate a coordinate transform, where the plane of the galaxy defines the equatorial plane, instead of the Earth's equator - a galactic coordinate system."
   ]
  },
  {
   "cell_type": "markdown",
   "metadata": {
    "slideshow": {
     "slide_type": "slide"
    }
   },
   "source": [
    "LSST, based on Chile, views the southern sky. Comparing how the galaxy looks in this projection should help make sense of the otherwise weird looking pattern of observations that LSST plans to obtain:\n",
    "\n",
    "<center><img width='60%' src=\"media/skymap_minion1016.jpg\"></center>"
   ]
  },
  {
   "cell_type": "markdown",
   "metadata": {
    "slideshow": {
     "slide_type": "-"
    }
   },
   "source": [
    "#### _Figure 20: The LSST \"minion 1016\" exposure map in celestial coordinates. Credit: LSST Corporation_"
   ]
  },
  {
   "cell_type": "markdown",
   "metadata": {
    "slideshow": {
     "slide_type": "slide"
    }
   },
   "source": [
    "PLAsTiCC simulates the \"Wide-Fast-Deep\" Survey - the main LSST program, and the \"Deep Drilling Fields\" - a few small regions where LSST will get more observations for specialized scientific studies. "
   ]
  },
  {
   "cell_type": "markdown",
   "metadata": {
    "slideshow": {
     "slide_type": "fragment"
    }
   },
   "source": [
    "Which objects are in the WFD vs the DDF are specified by the `ddf_bool` column in the header (1 if in DDF, 0 otherwise). "
   ]
  },
  {
   "cell_type": "markdown",
   "metadata": {
    "slideshow": {
     "slide_type": "fragment"
    }
   },
   "source": [
    "Note that you can also get this information from the `object_id` column (`object_id` < 1,000,000 are in DDF)."
   ]
  },
  {
   "cell_type": "markdown",
   "metadata": {
    "nbpresent": {
     "id": "d3f1260b-b72c-4fa6-9bc0-20e0b852e673"
    },
    "slideshow": {
     "slide_type": "skip"
    }
   },
   "source": [
    "The DDFs will have more observations, but cover a much smaller chunk of sky. Consequently, the light curves will have better sampling, and potentially be found farther away in our Universe, but there's fewer objects. You may wish to treat the DDF and WFD objects separately and build different sorts of classifiers for them. This is entirely up to you, and the two sets of objects are weighted exactly the same, irrespective of which field they originated from."
   ]
  },
  {
   "cell_type": "markdown",
   "metadata": {
    "slideshow": {
     "slide_type": "slide"
    }
   },
   "source": [
    "### 4b. Galactic Coordinates\n",
    "<a id=\"section4b\"></a>\n",
    "\n",
    "RA and Dec are \"equatorial\" coordinates - a coordinate system where the Earth's equator is extended outwards into infinity and splits space into an imaginary north and south hemisphere."
   ]
  },
  {
   "cell_type": "markdown",
   "metadata": {
    "slideshow": {
     "slide_type": "fragment"
    }
   },
   "source": [
    "This coordinate system makes sense if you are building a telescope on Earth in the southern hemisphere and have to decide how you want to observe the sky."
   ]
  },
  {
   "cell_type": "markdown",
   "metadata": {
    "slideshow": {
     "slide_type": "fragment"
    }
   },
   "source": [
    "But, if we're talking about objects in the distant Universe, it makes sense to not make the Earth the center of it."
   ]
  },
  {
   "cell_type": "markdown",
   "metadata": {
    "slideshow": {
     "slide_type": "slide"
    }
   },
   "source": [
    "We can rotate the sky so that the plane of our galaxy defines the equator, like so:\n",
    "\n",
    "<center><img width=\"80%\" src=\"media/allsky_galactic.jpg\"></center>"
   ]
  },
  {
   "cell_type": "markdown",
   "metadata": {
    "slideshow": {
     "slide_type": "-"
    }
   },
   "source": [
    "#### _Figure 21: The sky in galactic coordinates with a equatorial coordinate grid overlaid_\n",
    "\n",
    "where I'm leaving the celestial coordinate grid (in yellow - notice how they no longer correspond to the North and South relative to the plane of our Galaxy)."
   ]
  },
  {
   "cell_type": "markdown",
   "metadata": {
    "nbpresent": {
     "id": "580fe614-1d41-41ff-861c-311e5a39f014"
    },
    "slideshow": {
     "slide_type": "fragment"
    }
   },
   "source": [
    "If you prefer to work with galactic coordinates instead of equatorial coordinates (`ra` and `decl`), these are provided in the header in the columns `gall` and `galb`."
   ]
  },
  {
   "cell_type": "markdown",
   "metadata": {
    "slideshow": {
     "slide_type": "slide"
    }
   },
   "source": [
    "### 4c. Redshift\n",
    "<a id=\"section4c\"></a>\n",
    "\n",
    "The position of a source on the sky is a tuple of two numbers (in either equatorial or galactic coordinates), but we live in a Universe with (at least) 3 spatial dimensions. The third number we use to locate objects in 3D space isn't even a distance from the origin - it's a speed! We call it the \"redshift.\"\n",
    "\n",
    "<center><img src=\"media/redshift.jpg\"></center>"
   ]
  },
  {
   "cell_type": "markdown",
   "metadata": {
    "slideshow": {
     "slide_type": "-"
    }
   },
   "source": [
    "#### _Figure 22: \"Redshift\" is a measure of how fast a distant source (with more distant on the top) is moving relative to us along the line of sight, and is determined from how much the wavelength (or alternately, the frequency) of the absorption and emission lines of atoms change, relative to what we see here on Earth (bottom panel)_"
   ]
  },
  {
   "cell_type": "markdown",
   "metadata": {
    "slideshow": {
     "slide_type": "fragment"
    }
   },
   "source": [
    "Redshift is so named because if you take the light from distance astrophysical sources and pass it through a prism, you see the same atomic fingerprint of elements and molecules you find here on Earth... just shifted."
   ]
  },
  {
   "cell_type": "markdown",
   "metadata": {
    "slideshow": {
     "slide_type": "slide"
    }
   },
   "source": [
    "If the source is moving towards us, things are shifted to the blue (or higher frequencies), while if the source is moving away from us, things are shifted to the red (or lower frequencies). "
   ]
  },
  {
   "cell_type": "markdown",
   "metadata": {
    "slideshow": {
     "slide_type": "fragment"
    }
   },
   "source": [
    "This isn't all that different from the Doppler shift of the sound of an ambulance or police siren moving across you - it'll increase in frequency as the vehicle approaches you, and decrease in frequency as it moves away. "
   ]
  },
  {
   "cell_type": "markdown",
   "metadata": {
    "nbpresent": {
     "id": "f2a31eb0-95f9-49fd-8d2c-2de39fe21204"
    },
    "slideshow": {
     "slide_type": "fragment"
    }
   },
   "source": [
    "You can convert the change in frequency or wavelength into a speed using:"
   ]
  },
  {
   "cell_type": "markdown",
   "metadata": {
    "nbpresent": {
     "id": "43e3daf6-c170-4d31-9bca-e146ce7557d4"
    },
    "slideshow": {
     "slide_type": "-"
    }
   },
   "source": [
    "$$z = \\frac{\\lambda_{\\text{Source}} - \\lambda_{\\text{Earth}}}{\\lambda_{\\text{Earth}}} = \\frac{\\Delta \\lambda}{\\lambda}  \\sim \\frac{v_r}{c}$$"
   ]
  },
  {
   "cell_type": "markdown",
   "metadata": {
    "slideshow": {
     "slide_type": "-"
    }
   },
   "source": [
    "where $z$ is the redshift, $\\lambda_{\\text{Earth}}$ is the original wavelength we measure on Earth, and $\\Delta \\lambda$ is the change in wavelength, $v_r$ is the recession velocity and $c$ is the speed of light."
   ]
  },
  {
   "cell_type": "markdown",
   "metadata": {
    "slideshow": {
     "slide_type": "fragment"
    }
   },
   "source": [
    "## _<center> AN IMPORTANT NOTE </center>_\n",
    "\n",
    "For historic reasons, redshift is denoted with the letter $z$. This is also the same character as the z passband in LSST (and other surveys), but the two aren't related."
   ]
  },
  {
   "cell_type": "markdown",
   "metadata": {
    "slideshow": {
     "slide_type": "slide"
    }
   },
   "source": [
    "There's a problem though - to measure this accurately we need _spectroscopy_. "
   ]
  },
  {
   "cell_type": "markdown",
   "metadata": {
    "slideshow": {
     "slide_type": "fragment"
    }
   },
   "source": [
    "The same spectroscopy that is expensive and hard to get to classify transients, which is the raison d'être for PLAsTiCC in the first place..."
   ]
  },
  {
   "cell_type": "markdown",
   "metadata": {
    "slideshow": {
     "slide_type": "fragment"
    }
   },
   "source": [
    "But just as with this challenge, there's a solution that involves getting images through broad passbands and extracting ratios of brightness in different passbands to get an estimator of the redshift. "
   ]
  },
  {
   "cell_type": "markdown",
   "metadata": {
    "slideshow": {
     "slide_type": "fragment"
    }
   },
   "source": [
    "Therefore, in the header, you get two redshifts! `hostgal_specz` is the spectroscopic redshift of the host-galaxy of an event, while `hostgal_photoz` is the photometric redshift of the host-galaxy. "
   ]
  },
  {
   "cell_type": "markdown",
   "metadata": {
    "nbpresent": {
     "id": "e511216f-a8ad-4ff6-a9da-956499318fe7"
    },
    "slideshow": {
     "slide_type": "skip"
    }
   },
   "source": [
    "## _<center> ANOTHER IMPORTANT NOTE </center>_\n",
    "\n",
    "The training set has spectroscopic redshifts for all sources. You'll notice quickly that they don't always agree with the photometric redshift. The photometric redshift is sometimes wrong. Consequently, we also give you an estimate of the 68% uncertainty on the photometric redshift (which itself might be inaccurate...) - `hostgal_photoz_err`. Be warned though that the actual photometric redshift distribution is asymmetric, and the redshift is not likely to be less than zero, so you might want to treat it as just a weight. Why is the redshift unlikely to be less than 0... we'll get to that in a bit.\n",
    "\n",
    "The test set does not have spectroscopic redshifts for all sources. There's a few because we simulate occasionally getting lucky and finding a new source in a galaxy which already had spectroscopy, but the vast majority of them will be `NaN`. You could potentially try to use the training set, together with the subset of the test data that does have both spectroscopic and photometric redshifts to make a better redshift predictor if you like, or you could ignore it altogether.\n",
    "\n",
    "That said, redshift is a great feature! We know how to separate extragalactic and galactic sources pretty well, so we simulate this ability by setting the redshifts of galactic sources to exactly `0`. That tells you they are within the galaxy and reduces the size of the possible models they might be, but doesn't identify which is which - that's still your challenge! Most machine learning techniques will pick this feature of redshift up easily, but you might use it to build separate classifiers for extragalactic and galactic sources if you like."
   ]
  },
  {
   "cell_type": "markdown",
   "metadata": {
    "slideshow": {
     "slide_type": "slide"
    }
   },
   "source": [
    "### 4d. A view of our cosmic neighborhood\n",
    "<a id=\"section4d\"></a>\n",
    "\n",
    "You might already have noticed the fuzzy blob in the Southern hemisphere, below and to the right of center of our galaxy in galactic coordinates."
   ]
  },
  {
   "cell_type": "markdown",
   "metadata": {
    "slideshow": {
     "slide_type": "fragment"
    }
   },
   "source": [
    "You can get a clearer view of it from ESA's GAIA satellite without a coordinate grid on top. "
   ]
  },
  {
   "cell_type": "markdown",
   "metadata": {
    "slideshow": {
     "slide_type": "slide"
    }
   },
   "source": [
    "<center><img width=\"60%\" src=\"media/Gaia_milky_way.jpg\"></center>"
   ]
  },
  {
   "cell_type": "markdown",
   "metadata": {
    "slideshow": {
     "slide_type": "-"
    }
   },
   "source": [
    "#### _Figure 23: The GAIA view of our Galaxy, Credit: ESA/GAIA_\n",
    "\n",
    "This fuzzy blob below and to the right of center is called the Large Magellanic cloud - a companion galaxy to our Milky Way. \n",
    "\n",
    "The other fuzzy blob near it is called the Small Magellanic Cloud. You can see it with your own eyes from a dark site in the southern hemisphere. "
   ]
  },
  {
   "cell_type": "markdown",
   "metadata": {
    "slideshow": {
     "slide_type": "skip"
    }
   },
   "source": [
    "(You might even be able to spot some galaxies in the northern hemisphere, but remember the sky in galactic coordinates doesn't look like the sky you'd see from Earth)"
   ]
  },
  {
   "cell_type": "markdown",
   "metadata": {
    "slideshow": {
     "slide_type": "slide"
    }
   },
   "source": [
    "The redshift of the Large Magellanic Cloud is a whopping 0.000875 - i.e. the wavelength of light hasn't exactly changed much. \n",
    "\n",
    "That's about 163 miles/second (or 262 km/s) - fast, but less than a thousandth of the speed of light."
   ]
  },
  {
   "cell_type": "markdown",
   "metadata": {
    "slideshow": {
     "slide_type": "fragment"
    }
   },
   "source": [
    "If we color the galaxies in the nearby Universe that we can see from Earth by redshift with a small telescope, there are many sources that we can see with higher redshifts. \n",
    "\n",
    "<center><img width=\"70%\" src=\"media/large_scale_structure.jpg\"></center>"
   ]
  },
  {
   "cell_type": "markdown",
   "metadata": {
    "slideshow": {
     "slide_type": "-"
    }
   },
   "source": [
    "#### _Figure 24: The low redshift Universe, Credit: Tom Jarrett, IPAC/Caltech_"
   ]
  },
  {
   "cell_type": "markdown",
   "metadata": {
    "slideshow": {
     "slide_type": "skip"
    }
   },
   "source": [
    "Our spectrographs are sensitive enough for it to have been possible to measure these redshifts even a century ago. Many of the redshifts of these nearby galaxies was first measured by Vesto Slipher back in 1917. "
   ]
  },
  {
   "cell_type": "markdown",
   "metadata": {
    "slideshow": {
     "slide_type": "slide"
    }
   },
   "source": [
    "### 4e. Cosmology\n",
    "<a id=\"section4e\"></a>\n",
    "\n",
    "In fact, you might notice that all of the redshifts are positive - almost everything is moving *away* from us, "
   ]
  },
  {
   "cell_type": "markdown",
   "metadata": {
    "slideshow": {
     "slide_type": "fragment"
    }
   },
   "source": [
    "In 1927, Georges Lemaître, proposed that this meant the Universe was expanding. "
   ]
  },
  {
   "cell_type": "markdown",
   "metadata": {
    "slideshow": {
     "slide_type": "fragment"
    }
   },
   "source": [
    "The first widely known measurement of this expansion rate came two years later, from Edwin Hubble who showed definitely that the further galaxies were from our own, the faster they were moving away."
   ]
  },
  {
   "cell_type": "markdown",
   "metadata": {
    "slideshow": {
     "slide_type": "slide"
    }
   },
   "source": [
    "Hubble did this by measuring the distances to these galaxies using a special class of variable stars called Cepheids (see that figure from Popular Science Monthly again for an example) that have a relation between their period and how intrinsically bright they are. \n",
    "\n",
    "<center><img width =\"30%\" src=\"media/hubble_cepheid.jpeg\"></center>"
   ]
  },
  {
   "cell_type": "markdown",
   "metadata": {
    "slideshow": {
     "slide_type": "fragment"
    }
   },
   "source": [
    "#### _Figure 25. Hubble's Glass Plate - notice the \"Var!\" in the corner. Hubble was using visual inspection for classification, Credit: Carnegie Observatories_"
   ]
  },
  {
   "cell_type": "markdown",
   "metadata": {
    "slideshow": {
     "slide_type": "fragment"
    }
   },
   "source": [
    "Measure the period  of a Cepheid and you figure out how bright they are supposed to be. Measure how bright they appear, and compare the two, and you've got yourself a measurement of the distance."
   ]
  },
  {
   "cell_type": "markdown",
   "metadata": {
    "slideshow": {
     "slide_type": "slide"
    }
   },
   "source": [
    "And the data at the time suggested that this increase was linear.\n",
    "\n",
    "$$ v_r = H_0 \\cdot D \\sim c\\cdot z $$\n",
    "\n",
    "where $D$ is the \"luminosity\" distance to the object and the dot ($\\cdot$) operator is a shorthand for the multiplication ($\\times$) operator. "
   ]
  },
  {
   "cell_type": "markdown",
   "metadata": {
    "slideshow": {
     "slide_type": "fragment"
    }
   },
   "source": [
    "This is Hubble's plot of his measurements:\n",
    "<center><img src=\"media/hubble_law.jpeg\"></center>"
   ]
  },
  {
   "cell_type": "markdown",
   "metadata": {
    "slideshow": {
     "slide_type": "-"
    }
   },
   "source": [
    "#### _Figure 26. Hubble's Hubble Diagram showing the Universe expanding, Credit: Edwin Hubble_\n",
    "\n",
    "We call this the \"Hubble Law\" and this kind of plot a \"Hubble Diagram\" (well Hubble didn't - he called it \"Figure 1.\")"
   ]
  },
  {
   "cell_type": "markdown",
   "metadata": {
    "slideshow": {
     "slide_type": "slide"
    }
   },
   "source": [
    "This linear relation between redshift and distance is approximate (hence the $\\sim$ sign)."
   ]
  },
  {
   "cell_type": "markdown",
   "metadata": {
    "slideshow": {
     "slide_type": "fragment"
    }
   },
   "source": [
    "As we look to farther horizons, to determine the expansion history of the Universe takes the equations of Einstein's General Theory of Relativity. "
   ]
  },
  {
   "cell_type": "markdown",
   "metadata": {
    "slideshow": {
     "slide_type": "slide"
    }
   },
   "source": [
    "Measuring this expansion history takes bright sources that we can determine the distance to, like those type Ia supernovae like SN1998bu. "
   ]
  },
  {
   "cell_type": "markdown",
   "metadata": {
    "slideshow": {
     "slide_type": "fragment"
    }
   },
   "source": [
    "When scientists used type Ia supernovae to do this for the first time in 1998, they discovered something remarkable - that the Universe wasn't just expanding, but the expansion was accelerating.\n",
    "\n",
    "#### *Something is _pushing_ distant galaxies away from us at an ever increasing rate!*"
   ]
  },
  {
   "cell_type": "markdown",
   "metadata": {
    "slideshow": {
     "slide_type": "slide"
    }
   },
   "source": [
    "This is one of the best current map of that expansion using type Ia supernovae:\n",
    "\n",
    "<center><img src=\"media/JLA_HubbleDiagram.png\"></center>"
   ]
  },
  {
   "cell_type": "markdown",
   "metadata": {
    "slideshow": {
     "slide_type": "-"
    }
   },
   "source": [
    "#### _Figure 27. The JLA Hubble Diagram, Credit: Marc Betoule (Paris Center for Cosmological Physics)_\n",
    "\n",
    "Hubble's data covers such a small range that it doesn't even show up on this plot. We've done a lot in 80 years!"
   ]
  },
  {
   "cell_type": "markdown",
   "metadata": {
    "slideshow": {
     "slide_type": "skip"
    }
   },
   "source": [
    "The teams that discovered this won the Nobel prize for their work in 2011. "
   ]
  },
  {
   "cell_type": "markdown",
   "metadata": {
    "slideshow": {
     "slide_type": "slide"
    }
   },
   "source": [
    "So we've got to identify such type Ia supernovae among all of the ones that LSST will find... hopefully things are beginning to fit together, and this is giving you a sense for the big picture!"
   ]
  },
  {
   "cell_type": "markdown",
   "metadata": {
    "slideshow": {
     "slide_type": "slide"
    }
   },
   "source": [
    "You might prefer to have the y-axis - called the distance modulus - related to the base 10 logarithm of the luminosity distance, rather than the redshift provided in `hostgal_photoz`. "
   ]
  },
  {
   "cell_type": "markdown",
   "metadata": {
    "slideshow": {
     "slide_type": "fragment"
    }
   },
   "source": [
    "For your convenience, this is provided in the header as a column named `distmod`. "
   ]
  },
  {
   "cell_type": "markdown",
   "metadata": {
    "slideshow": {
     "slide_type": "fragment"
    }
   },
   "source": [
    "For galactic objects with `hostgal_photoz`$ = 0 $, the `distmod` is reported as `NaN` (the distance would be 0, and taking the logarithm of 0 is a bad idea)."
   ]
  },
  {
   "cell_type": "markdown",
   "metadata": {
    "slideshow": {
     "slide_type": "skip"
    }
   },
   "source": [
    "We don't provide another column for distance modulus that was derived from `hostgal_specz` but there's a lookup table included with the dataset if you need to compute this (you probably don't). This is a purely computed quantity and is provided for convenience. It's not a measured distance to each source - actually measuring distances is complicated. You can watch a video about how we do it <a href=\"https://ed.ted.com/lessons/how-do-we-measure-distances-in-space-yuan-sen-ting\">here</a>. \n",
    "\n",
    "Because the speed of light is fixed, and the distance to sources is increasing, you can also compute a how long it took for light from a source at some redshift took to reach up. This is also in the lookup table. You also don't need this, but it is cool to get a sense for the history of our Universe. "
   ]
  },
  {
   "cell_type": "markdown",
   "metadata": {
    "slideshow": {
     "slide_type": "slide"
    }
   },
   "source": [
    "General relativity in the expanding Universe gives us a time machine. "
   ]
  },
  {
   "cell_type": "markdown",
   "metadata": {
    "slideshow": {
     "slide_type": "fragment"
    }
   },
   "source": [
    "As we look farther our, we look further back in time. "
   ]
  },
  {
   "cell_type": "markdown",
   "metadata": {
    "slideshow": {
     "slide_type": "fragment"
    }
   },
   "source": [
    "Here's a visual timeline of the history of our Universe:\n",
    "\n",
    "<center><img src=\"media/UniverseTimeline.jpg\"></center>"
   ]
  },
  {
   "cell_type": "markdown",
   "metadata": {
    "slideshow": {
     "slide_type": "-"
    }
   },
   "source": [
    "#### _Figure 28. A Timeline of our Universe, Credit: BBC Two, Stargazing Live, Public access NASA images_"
   ]
  },
  {
   "cell_type": "markdown",
   "metadata": {
    "nbpresent": {
     "id": "cfeed02f-c105-4d0e-91ea-2fc31e2c0502"
    },
    "slideshow": {
     "slide_type": "skip"
    }
   },
   "source": [
    "Now looking at Figure 25 and the equation above it, you might notice that sources can have a redshift of greater than one i.e. appear to be moving faster than the speed of light! And you might have heard that it isn't possible to go faster than the speed of light. This is how the cosmological redshift differs from the Doppler effect. It's not the physical motion of the sources that is causing the change in frequency, but rather the expansion of the Universe itself - that the space between us and the source is stretching! Your PLAsTiCC dataset will include objects up to a redshift of 3. \n",
    "\n",
    "If everything seems to be moving away with respect to us on Earth, you might also be tempted to think we're the center of the expansion of the Universe. We aren't. We could move to any other point in the Universe and we'd see the same behavior. This is a counterintuitive consequence of Einstein's General Theory of Relativity, and living in a Universe that is homogeneous (same from all positions) and isotropic (same in all directions). If you find this stuff fascinating, you might want to read <a href=\"https://www.forbes.com/sites/startswithabang/2018/04/17/the-most-important-equation-in-the-universe/#8869ba60da5c\">this.</a>"
   ]
  },
  {
   "cell_type": "markdown",
   "metadata": {
    "slideshow": {
     "slide_type": "slide"
    }
   },
   "source": [
    "### 4f. Dust\n",
    "<a id=\"section4f\"></a>\n",
    "\n",
    "Depending on where you are looking on the sky, there's a lot of structure in our Milky Way - lanes of gas and dust obscure the view of stars and galaxies behind it."
   ]
  },
  {
   "cell_type": "markdown",
   "metadata": {
    "slideshow": {
     "slide_type": "fragment"
    }
   },
   "source": [
    "This becomes even more apparent if we look with a different instrument and in a different passband, more sensitive to only the dust. "
   ]
  },
  {
   "cell_type": "markdown",
   "metadata": {
    "slideshow": {
     "slide_type": "slide"
    }
   },
   "source": [
    "This view from ESA's Planck satellite really drives that home:\n",
    "\n",
    "<center><img src=\"media/dust_map.jpeg\"></center>"
   ]
  },
  {
   "cell_type": "markdown",
   "metadata": {
    "slideshow": {
     "slide_type": "-"
    }
   },
   "source": [
    "#### _Figure 29: A dust map of the Milky Way from Planck, Credit: ESA / NASA / JPL-Caltech_"
   ]
  },
  {
   "cell_type": "markdown",
   "metadata": {
    "slideshow": {
     "slide_type": "fragment"
    }
   },
   "source": [
    "Of course, the dust isn't a single layer, and has 3D structure. \n",
    "\n",
    "Astronomers can map this structure using careful observations of lots of stars."
   ]
  },
  {
   "cell_type": "markdown",
   "metadata": {
    "nbpresent": {
     "id": "428d720b-4e26-4f3c-b49a-4fbeef165c0b"
    },
    "slideshow": {
     "slide_type": "slide"
    }
   },
   "source": [
    "This 3D map was made with the Pan-STARRS telescope which has a 1.2 gigapixel camera and a similar field-of-view to LSST, but is a much smaller telescope."
   ]
  },
  {
   "cell_type": "code",
   "execution_count": 19,
   "metadata": {
    "nbpresent": {
     "id": "3bc10b72-7d54-4d07-860c-ab7410ca7070"
    },
    "slideshow": {
     "slide_type": "-"
    }
   },
   "outputs": [
    {
     "data": {
      "text/html": [
       "<p>\n",
       "<div align=\"middle\">\n",
       "<video width=\"60%\" controls>\n",
       "      <source src=\"media/MilkyWayDust.mp4\" type=\"video/mp4\">\n",
       "</video>\n",
       "</div>\n",
       "</p>\n"
      ],
      "text/plain": [
       "<IPython.core.display.HTML object>"
      ]
     },
     "metadata": {},
     "output_type": "display_data"
    }
   ],
   "source": [
    "%%HTML\n",
    "<p>\n",
    "<div align=\"middle\">\n",
    "<video width=\"60%\" controls>\n",
    "      <source src=\"media/MilkyWayDust.mp4\" type=\"video/mp4\">\n",
    "</video>\n",
    "</div>\n",
    "</p>"
   ]
  },
  {
   "cell_type": "markdown",
   "metadata": {
    "nbpresent": {
     "id": "f4ef7cfa-3744-4329-b2f4-bf804ea36f73"
    },
    "slideshow": {
     "slide_type": "-"
    }
   },
   "source": [
    "#### _Figure 30: A Fly Through of our Galaxy's Dust, Credit: Gregory Green (Stanford/KIPAC)_"
   ]
  },
  {
   "cell_type": "markdown",
   "metadata": {
    "slideshow": {
     "slide_type": "skip"
    }
   },
   "source": [
    "Dust, like increasing luminosity distance (and therefore redshift) in our Universe, makes things fainter and redder. We're all used to this effect - we see it with our Sun and Moon everyday. Our atmosphere scatters blue light more than the red light, making the sun and the moon appear more red than if we could see them from space. As the sun gets near the horizon and the light from it has to pass through more of the Earth's atmosphere to reach us, it appears even redder than when it is high in the sky. \n",
    "\n",
    "While the light curves we've provided are corrected for the dimming and reddening - called the extinction - along the line of sight in our Galaxy, this correction isn't perfect, because we've not got perfect knowledge of how much dust there is along any line of sight. You'll notice the map in the video is higher resolution towards the center of the galaxy where there are more stars, and lower resolution in the opposite direction for instance.\n",
    "\n",
    "Additionally, extragalactic sources can also suffer from extinction _in their own host galaxies._ Galactic sources are nearer us and brighter, and because they are _in_ our Galaxy, they are likely to be in the plane. All said then, you should expect to find that Galactic sources have a different sort of distribution of dust along the line of sight to them than extragalactic sources."
   ]
  },
  {
   "cell_type": "markdown",
   "metadata": {
    "slideshow": {
     "slide_type": "slide"
    }
   },
   "source": [
    "The correction we applied to the light curves can be described by a single number for our Milky Way."
   ]
  },
  {
   "cell_type": "markdown",
   "metadata": {
    "slideshow": {
     "slide_type": "fragment"
    }
   },
   "source": [
    "This is called $\\text{MW}~E(B-V)$ (MW = Milky Way, E = Extinction between the Blue and Visual, or B-V) and reported in the header in the column named `mwebv`. "
   ]
  },
  {
   "cell_type": "markdown",
   "metadata": {
    "slideshow": {
     "slide_type": "fragment"
    }
   },
   "source": [
    "You will not need to correct the light curves anymore, but you might be able to use this piece of metadata to distinguish some populations from others using clustering techniques for instance.\n",
    "\n",
    "***"
   ]
  },
  {
   "cell_type": "markdown",
   "metadata": {
    "slideshow": {
     "slide_type": "slide"
    }
   },
   "source": [
    "That's it! Phew! It's the minimal bits of the astrophysics you may need to make sense of the data and start to tackle this challenge. \n",
    "\n",
    "This notebook does not need the actual challenge data.\n",
    "\n",
    "In a companion notebook, `plasticc_classification_demo.ipynb`, included with this starter kit, we'll build a toy classifier on the challenge data, and introduce some of the useful packages astronomers use to tackle this problem.\n",
    "\n",
    "***"
   ]
  },
  {
   "cell_type": "markdown",
   "metadata": {
    "nbpresent": {
     "id": "4f1e8284-d413-43fa-a649-c1c9fb3927b8"
    },
    "slideshow": {
     "slide_type": "fragment"
    }
   },
   "source": [
    "If you have more questions, you can find the PLAsTiCC dev team on the Kaggle forums, and we'll do our best to answer your questions if we can. We hope you have fun and we look forward to your submissions - remember, your work will influence the entire LSST project. \n",
    "\n",
    "Come help us explore the Universe!"
   ]
  },
  {
   "cell_type": "markdown",
   "metadata": {
    "nbpresent": {
     "id": "4b2c29b8-d895-4495-8301-23bf16f0ff7f"
    },
    "slideshow": {
     "slide_type": "fragment"
    }
   },
   "source": [
    "/cheesy"
   ]
  }
 ],
 "metadata": {
  "anaconda-cloud": {},
  "kernelspec": {
   "display_name": "Python 3",
   "language": "python",
   "name": "python3"
  },
  "language_info": {
   "codemirror_mode": {
    "name": "ipython",
    "version": 3
   },
   "file_extension": ".py",
   "mimetype": "text/x-python",
   "name": "python",
   "nbconvert_exporter": "python",
   "pygments_lexer": "ipython3",
   "version": "3.6.7"
  },
  "livereveal": {
   "scroll": true
  }
 },
 "nbformat": 4,
 "nbformat_minor": 2
}
